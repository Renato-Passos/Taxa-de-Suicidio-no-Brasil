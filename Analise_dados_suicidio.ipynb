{
  "nbformat": 4,
  "nbformat_minor": 0,
  "metadata": {
    "colab": {
      "name": "Analise_dados_suicidio.ipynb",
      "provenance": [],
      "collapsed_sections": []
    },
    "kernelspec": {
      "name": "python3",
      "display_name": "Python 3"
    }
  },
  "cells": [
    {
      "cell_type": "markdown",
      "metadata": {
        "id": "luinxL5wnMcm",
        "colab_type": "text"
      },
      "source": [
        "<h1 align=\"center\">ANÁLISE DE DADOS DE SUICÍDIO NO BRASIL</h1>\n",
        "<h4 align=\"center\">Entre os anos de 2000 à 2016</h4>"
      ]
    },
    {
      "cell_type": "markdown",
      "metadata": {
        "id": "u1cdjqQKndjs",
        "colab_type": "text"
      },
      "source": [
        "--------------------------------------------------------------------------------"
      ]
    },
    {
      "cell_type": "markdown",
      "metadata": {
        "id": "NFqQgAZdmdjq",
        "colab_type": "text"
      },
      "source": [
        "<h3 align=\"center\"> Disclaimer / Aviso Legal ⚠️</h3>\n",
        "<p align=\"center\">Este notebook tem um fim único e exclusivamente didático, para alunos da FATEC, como uma introdução à Análise de Dados Públicos.\n",
        "Desse modo, está excluída a garantia ou responsabilidade de qualquer tipo, por exemplo, de precisão, confiabilidade, completude e atualidade das informações.</p>\n"
      ]
    },
    {
      "cell_type": "markdown",
      "metadata": {
        "id": "0RJitnWJngrd",
        "colab_type": "text"
      },
      "source": [
        "--------------------------------------------------------------------------"
      ]
    },
    {
      "cell_type": "markdown",
      "metadata": {
        "id": "r-uay2UPkWia",
        "colab_type": "text"
      },
      "source": [
        "Análise da taxa de suicidio no Brasil\n",
        "--------------------------------------------------------\n",
        "\n",
        "#### 🔹 Atividades na primeira semana\n",
        "- ✔ Importação das bibliotecas que serão utilizadas\n",
        "- ✔ Importação do primeiro DataSet 'suicidio 2016'\n",
        "- Análise do tamanho do arquivo (Linhas x Colunas)\n",
        "- Análise de informações detalhadas da tabela\n",
        "- Limpeza dos dados: deixar apenas o que vai ser utilizado"
      ]
    },
    {
      "cell_type": "markdown",
      "metadata": {
        "id": "JKzfRe4Ca40m",
        "colab_type": "text"
      },
      "source": [
        ""
      ]
    },
    {
      "cell_type": "markdown",
      "metadata": {
        "id": "sd-z_S7CoNl1",
        "colab_type": "text"
      },
      "source": [
        "# Indice do status da atividades\n",
        "\n",
        "| |||\n",
        "|---------------|--------------------|-----------------|\n",
        "|✔ - Finalizado| 🔹 - Desenvolvendo | 🔸- Não iniciado|"
      ]
    },
    {
      "cell_type": "code",
      "metadata": {
        "id": "SKwXs8yZbXoa",
        "colab_type": "code",
        "colab": {}
      },
      "source": [
        "# Importando bibiotecas\n",
        "import pandas as pd\n",
        "import matplotlib.pyplot as plt\n",
        "import seaborn as sns"
      ],
      "execution_count": null,
      "outputs": []
    },
    {
      "cell_type": "markdown",
      "metadata": {
        "id": "y0JcF687jB9_",
        "colab_type": "text"
      },
      "source": [
        "<h2 align=\"center\">Importando o primeiro DataSet com dados dos anos de 1987 - 2016</h2>"
      ]
    },
    {
      "cell_type": "code",
      "metadata": {
        "id": "uIAd2Ro-hfiC",
        "colab_type": "code",
        "colab": {}
      },
      "source": [
        "# Importando o DataSet de dados com os casos de Covid-19\n",
        "dados_mundiais_d1 = pd.read_csv('https://gist.githubusercontent.com/littlebru/c14170c16839c58ce3ab939cc2dba675/raw/354afe9457639a8fe4d9d60253997a6284cd7a01/suicide_1987-2016.csv')"
      ],
      "execution_count": null,
      "outputs": []
    },
    {
      "cell_type": "code",
      "metadata": {
        "id": "A5DsRMwiho5F",
        "colab_type": "code",
        "colab": {
          "base_uri": "https://localhost:8080/",
          "height": 195
        },
        "outputId": "d6d87bc0-5f08-4960-95cc-65d85d17f5bd"
      },
      "source": [
        "# 5 primeiras linhas do primeiro DataSet\n",
        "dados_mundiais_d1.head()"
      ],
      "execution_count": null,
      "outputs": [
        {
          "output_type": "execute_result",
          "data": {
            "text/html": [
              "<div>\n",
              "<style scoped>\n",
              "    .dataframe tbody tr th:only-of-type {\n",
              "        vertical-align: middle;\n",
              "    }\n",
              "\n",
              "    .dataframe tbody tr th {\n",
              "        vertical-align: top;\n",
              "    }\n",
              "\n",
              "    .dataframe thead th {\n",
              "        text-align: right;\n",
              "    }\n",
              "</style>\n",
              "<table border=\"1\" class=\"dataframe\">\n",
              "  <thead>\n",
              "    <tr style=\"text-align: right;\">\n",
              "      <th></th>\n",
              "      <th>country</th>\n",
              "      <th>year</th>\n",
              "      <th>sex</th>\n",
              "      <th>age</th>\n",
              "      <th>suicides_no</th>\n",
              "      <th>population</th>\n",
              "      <th>suicides/100k pop</th>\n",
              "      <th>country-year</th>\n",
              "      <th>HDI for year</th>\n",
              "      <th>gdp_for_year ($)</th>\n",
              "      <th>gdp_per_capita ($)</th>\n",
              "      <th>generation</th>\n",
              "    </tr>\n",
              "  </thead>\n",
              "  <tbody>\n",
              "    <tr>\n",
              "      <th>0</th>\n",
              "      <td>Albania</td>\n",
              "      <td>1987</td>\n",
              "      <td>male</td>\n",
              "      <td>15-24 years</td>\n",
              "      <td>21</td>\n",
              "      <td>312900</td>\n",
              "      <td>6.71</td>\n",
              "      <td>Albania1987</td>\n",
              "      <td>NaN</td>\n",
              "      <td>2,156,624,900</td>\n",
              "      <td>796</td>\n",
              "      <td>Generation X</td>\n",
              "    </tr>\n",
              "    <tr>\n",
              "      <th>1</th>\n",
              "      <td>Albania</td>\n",
              "      <td>1987</td>\n",
              "      <td>male</td>\n",
              "      <td>35-54 years</td>\n",
              "      <td>16</td>\n",
              "      <td>308000</td>\n",
              "      <td>5.19</td>\n",
              "      <td>Albania1987</td>\n",
              "      <td>NaN</td>\n",
              "      <td>2,156,624,900</td>\n",
              "      <td>796</td>\n",
              "      <td>Silent</td>\n",
              "    </tr>\n",
              "    <tr>\n",
              "      <th>2</th>\n",
              "      <td>Albania</td>\n",
              "      <td>1987</td>\n",
              "      <td>female</td>\n",
              "      <td>15-24 years</td>\n",
              "      <td>14</td>\n",
              "      <td>289700</td>\n",
              "      <td>4.83</td>\n",
              "      <td>Albania1987</td>\n",
              "      <td>NaN</td>\n",
              "      <td>2,156,624,900</td>\n",
              "      <td>796</td>\n",
              "      <td>Generation X</td>\n",
              "    </tr>\n",
              "    <tr>\n",
              "      <th>3</th>\n",
              "      <td>Albania</td>\n",
              "      <td>1987</td>\n",
              "      <td>male</td>\n",
              "      <td>75+ years</td>\n",
              "      <td>1</td>\n",
              "      <td>21800</td>\n",
              "      <td>4.59</td>\n",
              "      <td>Albania1987</td>\n",
              "      <td>NaN</td>\n",
              "      <td>2,156,624,900</td>\n",
              "      <td>796</td>\n",
              "      <td>G.I. Generation</td>\n",
              "    </tr>\n",
              "    <tr>\n",
              "      <th>4</th>\n",
              "      <td>Albania</td>\n",
              "      <td>1987</td>\n",
              "      <td>male</td>\n",
              "      <td>25-34 years</td>\n",
              "      <td>9</td>\n",
              "      <td>274300</td>\n",
              "      <td>3.28</td>\n",
              "      <td>Albania1987</td>\n",
              "      <td>NaN</td>\n",
              "      <td>2,156,624,900</td>\n",
              "      <td>796</td>\n",
              "      <td>Boomers</td>\n",
              "    </tr>\n",
              "  </tbody>\n",
              "</table>\n",
              "</div>"
            ],
            "text/plain": [
              "   country  year  ... gdp_per_capita ($)       generation\n",
              "0  Albania  1987  ...                796     Generation X\n",
              "1  Albania  1987  ...                796           Silent\n",
              "2  Albania  1987  ...                796     Generation X\n",
              "3  Albania  1987  ...                796  G.I. Generation\n",
              "4  Albania  1987  ...                796          Boomers\n",
              "\n",
              "[5 rows x 12 columns]"
            ]
          },
          "metadata": {
            "tags": []
          },
          "execution_count": 115
        }
      ]
    },
    {
      "cell_type": "markdown",
      "metadata": {
        "id": "6NnXTLZAoacI",
        "colab_type": "text"
      },
      "source": [
        "<h1 align=\"center\">Importando Dados do Segundo DataSet</h1>"
      ]
    },
    {
      "cell_type": "code",
      "metadata": {
        "id": "HkRlBWFIoFH-",
        "colab_type": "code",
        "colab": {}
      },
      "source": [
        "dmd2 = pd.read_csv('https://gist.githubusercontent.com/littlebru/c14170c16839c58ce3ab939cc2dba675/raw/354afe9457639a8fe4d9d60253997a6284cd7a01/suicide_statistics.csv')"
      ],
      "execution_count": null,
      "outputs": []
    },
    {
      "cell_type": "code",
      "metadata": {
        "id": "4IBWsq8uq46S",
        "colab_type": "code",
        "colab": {
          "base_uri": "https://localhost:8080/",
          "height": 195
        },
        "outputId": "8276f100-59b8-4475-f495-7772d51544bc"
      },
      "source": [
        "# 5 primeiras linhas do segundo DataSet\n",
        "dmd2.head()"
      ],
      "execution_count": null,
      "outputs": [
        {
          "output_type": "execute_result",
          "data": {
            "text/html": [
              "<div>\n",
              "<style scoped>\n",
              "    .dataframe tbody tr th:only-of-type {\n",
              "        vertical-align: middle;\n",
              "    }\n",
              "\n",
              "    .dataframe tbody tr th {\n",
              "        vertical-align: top;\n",
              "    }\n",
              "\n",
              "    .dataframe thead th {\n",
              "        text-align: right;\n",
              "    }\n",
              "</style>\n",
              "<table border=\"1\" class=\"dataframe\">\n",
              "  <thead>\n",
              "    <tr style=\"text-align: right;\">\n",
              "      <th></th>\n",
              "      <th>country</th>\n",
              "      <th>year</th>\n",
              "      <th>sex</th>\n",
              "      <th>age</th>\n",
              "      <th>suicides_no</th>\n",
              "      <th>population</th>\n",
              "    </tr>\n",
              "  </thead>\n",
              "  <tbody>\n",
              "    <tr>\n",
              "      <th>0</th>\n",
              "      <td>Albania</td>\n",
              "      <td>1985</td>\n",
              "      <td>female</td>\n",
              "      <td>15-24 years</td>\n",
              "      <td>NaN</td>\n",
              "      <td>277900.0</td>\n",
              "    </tr>\n",
              "    <tr>\n",
              "      <th>1</th>\n",
              "      <td>Albania</td>\n",
              "      <td>1985</td>\n",
              "      <td>female</td>\n",
              "      <td>25-34 years</td>\n",
              "      <td>NaN</td>\n",
              "      <td>246800.0</td>\n",
              "    </tr>\n",
              "    <tr>\n",
              "      <th>2</th>\n",
              "      <td>Albania</td>\n",
              "      <td>1985</td>\n",
              "      <td>female</td>\n",
              "      <td>35-54 years</td>\n",
              "      <td>NaN</td>\n",
              "      <td>267500.0</td>\n",
              "    </tr>\n",
              "    <tr>\n",
              "      <th>3</th>\n",
              "      <td>Albania</td>\n",
              "      <td>1985</td>\n",
              "      <td>female</td>\n",
              "      <td>5-14 years</td>\n",
              "      <td>NaN</td>\n",
              "      <td>298300.0</td>\n",
              "    </tr>\n",
              "    <tr>\n",
              "      <th>4</th>\n",
              "      <td>Albania</td>\n",
              "      <td>1985</td>\n",
              "      <td>female</td>\n",
              "      <td>55-74 years</td>\n",
              "      <td>NaN</td>\n",
              "      <td>138700.0</td>\n",
              "    </tr>\n",
              "  </tbody>\n",
              "</table>\n",
              "</div>"
            ],
            "text/plain": [
              "   country  year     sex          age  suicides_no  population\n",
              "0  Albania  1985  female  15-24 years          NaN    277900.0\n",
              "1  Albania  1985  female  25-34 years          NaN    246800.0\n",
              "2  Albania  1985  female  35-54 years          NaN    267500.0\n",
              "3  Albania  1985  female   5-14 years          NaN    298300.0\n",
              "4  Albania  1985  female  55-74 years          NaN    138700.0"
            ]
          },
          "metadata": {
            "tags": []
          },
          "execution_count": 117
        }
      ]
    },
    {
      "cell_type": "markdown",
      "metadata": {
        "id": "15MyLgxPnxOT",
        "colab_type": "text"
      },
      "source": [
        "-----------------------------------------------"
      ]
    },
    {
      "cell_type": "markdown",
      "metadata": {
        "id": "WFDG2ZQVo0-b",
        "colab_type": "text"
      },
      "source": [
        "<h1 align=\"center\">Informações detalhadas dos DataSets 🧾</h1>\n",
        "\n",
        "Nos códigos abaixo, eu vou estar extraindo informações do tipo:\n",
        "- Total de linhas e colunas do dataset\n",
        "- Tipos de dados existentes\n",
        "- Listagem de todas as colunas"
      ]
    },
    {
      "cell_type": "markdown",
      "metadata": {
        "id": "mY40HEXGtBom",
        "colab_type": "text"
      },
      "source": [
        "**DataSet 1**\n"
      ]
    },
    {
      "cell_type": "code",
      "metadata": {
        "id": "OCRFTIroh2x6",
        "colab_type": "code",
        "colab": {
          "base_uri": "https://localhost:8080/",
          "height": 34
        },
        "outputId": "ae547118-9ab3-40d1-cae0-be64efbd2780"
      },
      "source": [
        "# Total de linhas X colunas\n",
        "dados_mundiais_d1.shape"
      ],
      "execution_count": null,
      "outputs": [
        {
          "output_type": "execute_result",
          "data": {
            "text/plain": [
              "(27820, 12)"
            ]
          },
          "metadata": {
            "tags": []
          },
          "execution_count": 118
        }
      ]
    },
    {
      "cell_type": "code",
      "metadata": {
        "id": "yUInfxFkkG6H",
        "colab_type": "code",
        "colab": {
          "base_uri": "https://localhost:8080/",
          "height": 235
        },
        "outputId": "947bdc65-d33c-4206-d6e3-1be6a6f6e7e1"
      },
      "source": [
        "# Tipos de dados existentes na tabela\n",
        "dados_mundiais_d1.dtypes"
      ],
      "execution_count": null,
      "outputs": [
        {
          "output_type": "execute_result",
          "data": {
            "text/plain": [
              "country                object\n",
              "year                    int64\n",
              "sex                    object\n",
              "age                    object\n",
              "suicides_no             int64\n",
              "population              int64\n",
              "suicides/100k pop     float64\n",
              "country-year           object\n",
              "HDI for year          float64\n",
              " gdp_for_year ($)      object\n",
              "gdp_per_capita ($)      int64\n",
              "generation             object\n",
              "dtype: object"
            ]
          },
          "metadata": {
            "tags": []
          },
          "execution_count": 119
        }
      ]
    },
    {
      "cell_type": "code",
      "metadata": {
        "id": "ebwvHF4rq3p0",
        "colab_type": "code",
        "colab": {
          "base_uri": "https://localhost:8080/",
          "height": 218
        },
        "outputId": "18b6a2e2-0cb7-46e0-9127-c46c5a111f73"
      },
      "source": [
        "list(dados_mundiais_d1.columns)"
      ],
      "execution_count": null,
      "outputs": [
        {
          "output_type": "execute_result",
          "data": {
            "text/plain": [
              "['country',\n",
              " 'year',\n",
              " 'sex',\n",
              " 'age',\n",
              " 'suicides_no',\n",
              " 'population',\n",
              " 'suicides/100k pop',\n",
              " 'country-year',\n",
              " 'HDI for year',\n",
              " ' gdp_for_year ($) ',\n",
              " 'gdp_per_capita ($)',\n",
              " 'generation']"
            ]
          },
          "metadata": {
            "tags": []
          },
          "execution_count": 120
        }
      ]
    },
    {
      "cell_type": "markdown",
      "metadata": {
        "id": "VuQYDqQJukt-",
        "colab_type": "text"
      },
      "source": [
        "**DataSet 2**"
      ]
    },
    {
      "cell_type": "code",
      "metadata": {
        "id": "HyyldwseupZs",
        "colab_type": "code",
        "colab": {
          "base_uri": "https://localhost:8080/",
          "height": 34
        },
        "outputId": "9f9227f6-8d70-4e95-c301-8a2247f11e80"
      },
      "source": [
        "#Total de linhas x colunas\n",
        "dmd2.shape"
      ],
      "execution_count": null,
      "outputs": [
        {
          "output_type": "execute_result",
          "data": {
            "text/plain": [
              "(43776, 6)"
            ]
          },
          "metadata": {
            "tags": []
          },
          "execution_count": 121
        }
      ]
    },
    {
      "cell_type": "code",
      "metadata": {
        "id": "NKhpLbluu3Og",
        "colab_type": "code",
        "colab": {
          "base_uri": "https://localhost:8080/",
          "height": 134
        },
        "outputId": "70d9174a-33f9-4e92-b2cf-501c3607939d"
      },
      "source": [
        "#Tipos de dados existentes na tabela\n",
        "dmd2.dtypes"
      ],
      "execution_count": null,
      "outputs": [
        {
          "output_type": "execute_result",
          "data": {
            "text/plain": [
              "country         object\n",
              "year             int64\n",
              "sex             object\n",
              "age             object\n",
              "suicides_no    float64\n",
              "population     float64\n",
              "dtype: object"
            ]
          },
          "metadata": {
            "tags": []
          },
          "execution_count": 122
        }
      ]
    },
    {
      "cell_type": "code",
      "metadata": {
        "id": "eNyZ_U_qwRPo",
        "colab_type": "code",
        "colab": {
          "base_uri": "https://localhost:8080/",
          "height": 34
        },
        "outputId": "6d0a2b4d-6d6d-4bef-a625-5211237d7f15"
      },
      "source": [
        "list(dmd2.columns)"
      ],
      "execution_count": null,
      "outputs": [
        {
          "output_type": "execute_result",
          "data": {
            "text/plain": [
              "['country', 'year', 'sex', 'age', 'suicides_no', 'population']"
            ]
          },
          "metadata": {
            "tags": []
          },
          "execution_count": 123
        }
      ]
    },
    {
      "cell_type": "markdown",
      "metadata": {
        "id": "lo14faFDpmXg",
        "colab_type": "text"
      },
      "source": [
        "## Limpando os Dados 🧼\n",
        "\n",
        "Abaixo eu vou estar realizando uma \"limpeza\" nos dados, como:\n",
        "- Substituindo valores nulos\n",
        "- Removendo linhas e colunas que não serão utilizadas na análise"
      ]
    },
    {
      "cell_type": "code",
      "metadata": {
        "id": "owoGFOU0Lp88",
        "colab_type": "code",
        "colab": {
          "base_uri": "https://localhost:8080/",
          "height": 218
        },
        "outputId": "e3a6532a-68ec-4f82-ba30-6372af893a93"
      },
      "source": [
        "#Análise do número de ocorrências de cada país\n",
        "dmd2['country'].value_counts()"
      ],
      "execution_count": null,
      "outputs": [
        {
          "output_type": "execute_result",
          "data": {
            "text/plain": [
              "Mauritius                   456\n",
              "Romania                     456\n",
              "United States of America    456\n",
              "Iceland                     456\n",
              "Netherlands                 456\n",
              "                           ... \n",
              "Saudi Arabia                 24\n",
              "Macau                        12\n",
              "Cabo Verde                   12\n",
              "Iraq                         12\n",
              "Zimbabwe                     12\n",
              "Name: country, Length: 141, dtype: int64"
            ]
          },
          "metadata": {
            "tags": []
          },
          "execution_count": 124
        }
      ]
    },
    {
      "cell_type": "code",
      "metadata": {
        "id": "32NgjKfo4RyF",
        "colab_type": "code",
        "colab": {
          "base_uri": "https://localhost:8080/",
          "height": 134
        },
        "outputId": "dbae494f-c9c2-48c6-b8bb-b23c5f38b8aa"
      },
      "source": [
        "#Verificação de campos nulos\n",
        "qds = dmd2.query('country == \"Brazil\"')\n",
        "qds.isnull().sum()"
      ],
      "execution_count": null,
      "outputs": [
        {
          "output_type": "execute_result",
          "data": {
            "text/plain": [
              "country        0\n",
              "year           0\n",
              "sex            0\n",
              "age            0\n",
              "suicides_no    0\n",
              "population     0\n",
              "dtype: int64"
            ]
          },
          "metadata": {
            "tags": []
          },
          "execution_count": 125
        }
      ]
    },
    {
      "cell_type": "code",
      "metadata": {
        "id": "r5tO1qgNSiXa",
        "colab_type": "code",
        "colab": {
          "base_uri": "https://localhost:8080/",
          "height": 252
        },
        "outputId": "388836a2-bf30-49d4-b273-7e869830f1ca"
      },
      "source": [
        "#Contagem para certificar que pegamos todas as aparições do Brasil\n",
        "dados = pd.DataFrame(dmd2['country'])\n",
        "dados.query('country == \"Brazil\"').count"
      ],
      "execution_count": null,
      "outputs": [
        {
          "output_type": "execute_result",
          "data": {
            "text/plain": [
              "<bound method DataFrame.count of      country\n",
              "6204  Brazil\n",
              "6205  Brazil\n",
              "6206  Brazil\n",
              "6207  Brazil\n",
              "6208  Brazil\n",
              "...      ...\n",
              "6643  Brazil\n",
              "6644  Brazil\n",
              "6645  Brazil\n",
              "6646  Brazil\n",
              "6647  Brazil\n",
              "\n",
              "[444 rows x 1 columns]>"
            ]
          },
          "metadata": {
            "tags": []
          },
          "execution_count": 126
        }
      ]
    },
    {
      "cell_type": "code",
      "metadata": {
        "id": "hi0YCx7i4Rig",
        "colab_type": "code",
        "colab": {
          "base_uri": "https://localhost:8080/",
          "height": 402
        },
        "outputId": "03777a68-1a62-4f1f-ca8a-959403536948"
      },
      "source": [
        "#Criação de um DataFrame apenas com os dados Brasil\n",
        "df = dmd2[6204:6648]\n",
        "bai = pd.DataFrame(df)\n",
        "bai"
      ],
      "execution_count": null,
      "outputs": [
        {
          "output_type": "execute_result",
          "data": {
            "text/html": [
              "<div>\n",
              "<style scoped>\n",
              "    .dataframe tbody tr th:only-of-type {\n",
              "        vertical-align: middle;\n",
              "    }\n",
              "\n",
              "    .dataframe tbody tr th {\n",
              "        vertical-align: top;\n",
              "    }\n",
              "\n",
              "    .dataframe thead th {\n",
              "        text-align: right;\n",
              "    }\n",
              "</style>\n",
              "<table border=\"1\" class=\"dataframe\">\n",
              "  <thead>\n",
              "    <tr style=\"text-align: right;\">\n",
              "      <th></th>\n",
              "      <th>country</th>\n",
              "      <th>year</th>\n",
              "      <th>sex</th>\n",
              "      <th>age</th>\n",
              "      <th>suicides_no</th>\n",
              "      <th>population</th>\n",
              "    </tr>\n",
              "  </thead>\n",
              "  <tbody>\n",
              "    <tr>\n",
              "      <th>6204</th>\n",
              "      <td>Brazil</td>\n",
              "      <td>1979</td>\n",
              "      <td>female</td>\n",
              "      <td>15-24 years</td>\n",
              "      <td>385.0</td>\n",
              "      <td>12448100.0</td>\n",
              "    </tr>\n",
              "    <tr>\n",
              "      <th>6205</th>\n",
              "      <td>Brazil</td>\n",
              "      <td>1979</td>\n",
              "      <td>female</td>\n",
              "      <td>25-34 years</td>\n",
              "      <td>227.0</td>\n",
              "      <td>8867900.0</td>\n",
              "    </tr>\n",
              "    <tr>\n",
              "      <th>6206</th>\n",
              "      <td>Brazil</td>\n",
              "      <td>1979</td>\n",
              "      <td>female</td>\n",
              "      <td>35-54 years</td>\n",
              "      <td>269.0</td>\n",
              "      <td>10282200.0</td>\n",
              "    </tr>\n",
              "    <tr>\n",
              "      <th>6207</th>\n",
              "      <td>Brazil</td>\n",
              "      <td>1979</td>\n",
              "      <td>female</td>\n",
              "      <td>5-14 years</td>\n",
              "      <td>47.0</td>\n",
              "      <td>14135000.0</td>\n",
              "    </tr>\n",
              "    <tr>\n",
              "      <th>6208</th>\n",
              "      <td>Brazil</td>\n",
              "      <td>1979</td>\n",
              "      <td>female</td>\n",
              "      <td>55-74 years</td>\n",
              "      <td>121.0</td>\n",
              "      <td>4678800.0</td>\n",
              "    </tr>\n",
              "    <tr>\n",
              "      <th>...</th>\n",
              "      <td>...</td>\n",
              "      <td>...</td>\n",
              "      <td>...</td>\n",
              "      <td>...</td>\n",
              "      <td>...</td>\n",
              "      <td>...</td>\n",
              "    </tr>\n",
              "    <tr>\n",
              "      <th>6643</th>\n",
              "      <td>Brazil</td>\n",
              "      <td>2015</td>\n",
              "      <td>male</td>\n",
              "      <td>25-34 years</td>\n",
              "      <td>1897.0</td>\n",
              "      <td>17625976.0</td>\n",
              "    </tr>\n",
              "    <tr>\n",
              "      <th>6644</th>\n",
              "      <td>Brazil</td>\n",
              "      <td>2015</td>\n",
              "      <td>male</td>\n",
              "      <td>35-54 years</td>\n",
              "      <td>3238.0</td>\n",
              "      <td>26989063.0</td>\n",
              "    </tr>\n",
              "    <tr>\n",
              "      <th>6645</th>\n",
              "      <td>Brazil</td>\n",
              "      <td>2015</td>\n",
              "      <td>male</td>\n",
              "      <td>5-14 years</td>\n",
              "      <td>79.0</td>\n",
              "      <td>16057040.0</td>\n",
              "    </tr>\n",
              "    <tr>\n",
              "      <th>6646</th>\n",
              "      <td>Brazil</td>\n",
              "      <td>2015</td>\n",
              "      <td>male</td>\n",
              "      <td>55-74 years</td>\n",
              "      <td>1693.0</td>\n",
              "      <td>12987357.0</td>\n",
              "    </tr>\n",
              "    <tr>\n",
              "      <th>6647</th>\n",
              "      <td>Brazil</td>\n",
              "      <td>2015</td>\n",
              "      <td>male</td>\n",
              "      <td>75+ years</td>\n",
              "      <td>470.0</td>\n",
              "      <td>2448560.0</td>\n",
              "    </tr>\n",
              "  </tbody>\n",
              "</table>\n",
              "<p>444 rows × 6 columns</p>\n",
              "</div>"
            ],
            "text/plain": [
              "     country  year     sex          age  suicides_no  population\n",
              "6204  Brazil  1979  female  15-24 years        385.0  12448100.0\n",
              "6205  Brazil  1979  female  25-34 years        227.0   8867900.0\n",
              "6206  Brazil  1979  female  35-54 years        269.0  10282200.0\n",
              "6207  Brazil  1979  female   5-14 years         47.0  14135000.0\n",
              "6208  Brazil  1979  female  55-74 years        121.0   4678800.0\n",
              "...      ...   ...     ...          ...          ...         ...\n",
              "6643  Brazil  2015    male  25-34 years       1897.0  17625976.0\n",
              "6644  Brazil  2015    male  35-54 years       3238.0  26989063.0\n",
              "6645  Brazil  2015    male   5-14 years         79.0  16057040.0\n",
              "6646  Brazil  2015    male  55-74 years       1693.0  12987357.0\n",
              "6647  Brazil  2015    male    75+ years        470.0   2448560.0\n",
              "\n",
              "[444 rows x 6 columns]"
            ]
          },
          "metadata": {
            "tags": []
          },
          "execution_count": 127
        }
      ]
    }
  ]
}