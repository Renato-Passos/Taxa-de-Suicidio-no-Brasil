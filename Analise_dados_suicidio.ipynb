{
  "nbformat": 4,
  "nbformat_minor": 0,
  "metadata": {
    "colab": {
      "name": "Analise_dados_suicidio.ipynb",
      "provenance": [],
      "collapsed_sections": []
    },
    "kernelspec": {
      "name": "python3",
      "display_name": "Python 3"
    }
  },
  "cells": [
    {
      "cell_type": "markdown",
      "metadata": {
        "id": "luinxL5wnMcm",
        "colab_type": "text"
      },
      "source": [
        "<h1 align=\"center\">ANÁLISE DE DADOS DE SUICÍDIO NO BRASIL</h1>\n",
        "<h4 align=\"center\">Entre os anos de 1987 à 2016</h4>"
      ]
    },
    {
      "cell_type": "markdown",
      "metadata": {
        "id": "u1cdjqQKndjs",
        "colab_type": "text"
      },
      "source": [
        "--------------------------------------------------------------------------------"
      ]
    },
    {
      "cell_type": "markdown",
      "metadata": {
        "id": "NFqQgAZdmdjq",
        "colab_type": "text"
      },
      "source": [
        "<h3 align=\"center\"> Disclaimer / Aviso Legal ⚠️</h3>\n",
        "<p align=\"center\">Este notebook tem um fim único e exclusivamente didático, para alunos da FATEC, como uma introdução à Análise de Dados Públicos.\n",
        "Desse modo, está excluída a garantia ou responsabilidade de qualquer tipo, por exemplo, de precisão, confiabilidade, completude e atualidade das informações.</p>\n"
      ]
    },
    {
      "cell_type": "markdown",
      "metadata": {
        "id": "0RJitnWJngrd",
        "colab_type": "text"
      },
      "source": [
        "--------------------------------------------------------------------------"
      ]
    },
    {
      "cell_type": "markdown",
      "metadata": {
        "id": "r-uay2UPkWia",
        "colab_type": "text"
      },
      "source": [
        "Análise da taxa de suicidio no Brasil\n",
        "--------------------------------------------------------\n",
        "\n",
        "#### 🔹 Atividades na primeira semana\n",
        "- ✔ Importação das bibliotecas que serão utilizadas\n",
        "- ✔ Importação do primeiro DataSet 'suicidio 2016'\n",
        "- Análise do tamanho do arquivo (Linhas x Colunas)\n",
        "- Análise de informações detalhadas da tabela\n",
        "- Limpeza dos dados: deixar apenas o que vai ser utilizado"
      ]
    },
    {
      "cell_type": "markdown",
      "metadata": {
        "id": "sd-z_S7CoNl1",
        "colab_type": "text"
      },
      "source": [
        "# Indice do status da atividades\n",
        "\n",
        "| |||\n",
        "|---------------|--------------------|-----------------|\n",
        "|✔ - Finalizado| 🔹 - Desenvolvendo | 🔸- Não iniciado|"
      ]
    },
    {
      "cell_type": "code",
      "metadata": {
        "id": "SKwXs8yZbXoa",
        "colab_type": "code",
        "colab": {
          "base_uri": "https://localhost:8080/",
          "height": 71
        },
        "outputId": "508fa0ce-bf99-4dd3-c12c-0964ca3da671"
      },
      "source": [
        "# Importando bibiotecas\n",
        "import pandas as pd\n",
        "import matplotlib.pyplot as plt\n",
        "import seaborn as sns"
      ],
      "execution_count": null,
      "outputs": [
        {
          "output_type": "stream",
          "text": [
            "/usr/local/lib/python3.6/dist-packages/statsmodels/tools/_testing.py:19: FutureWarning: pandas.util.testing is deprecated. Use the functions in the public API at pandas.testing instead.\n",
            "  import pandas.util.testing as tm\n"
          ],
          "name": "stderr"
        }
      ]
    },
    {
      "cell_type": "markdown",
      "metadata": {
        "id": "y0JcF687jB9_",
        "colab_type": "text"
      },
      "source": [
        "<h2 align=\"center\">Importando o primeiro DataSet com dados dos anos de 1987 - 2016</h2>"
      ]
    },
    {
      "cell_type": "code",
      "metadata": {
        "id": "uIAd2Ro-hfiC",
        "colab_type": "code",
        "colab": {}
      },
      "source": [
        "# Importando o DataSet de dados com os casos de Covid-19\n",
        "dados_mundiais_d1 = pd.read_csv('https://gist.githubusercontent.com/littlebru/c14170c16839c58ce3ab939cc2dba675/raw/354afe9457639a8fe4d9d60253997a6284cd7a01/suicide_1987-2016.csv')"
      ],
      "execution_count": null,
      "outputs": []
    },
    {
      "cell_type": "code",
      "metadata": {
        "id": "A5DsRMwiho5F",
        "colab_type": "code",
        "colab": {
          "base_uri": "https://localhost:8080/",
          "height": 306
        },
        "outputId": "dac5283e-61f6-4871-d987-f3fc308ce9b1"
      },
      "source": [
        "# 5 primeiras linhas do DataSet\n",
        "dados_mundiais_d1.head()"
      ],
      "execution_count": null,
      "outputs": [
        {
          "output_type": "execute_result",
          "data": {
            "text/html": [
              "<div>\n",
              "<style scoped>\n",
              "    .dataframe tbody tr th:only-of-type {\n",
              "        vertical-align: middle;\n",
              "    }\n",
              "\n",
              "    .dataframe tbody tr th {\n",
              "        vertical-align: top;\n",
              "    }\n",
              "\n",
              "    .dataframe thead th {\n",
              "        text-align: right;\n",
              "    }\n",
              "</style>\n",
              "<table border=\"1\" class=\"dataframe\">\n",
              "  <thead>\n",
              "    <tr style=\"text-align: right;\">\n",
              "      <th></th>\n",
              "      <th>country</th>\n",
              "      <th>year</th>\n",
              "      <th>sex</th>\n",
              "      <th>age</th>\n",
              "      <th>suicides_no</th>\n",
              "      <th>population</th>\n",
              "      <th>suicides/100k pop</th>\n",
              "      <th>country-year</th>\n",
              "      <th>HDI for year</th>\n",
              "      <th>gdp_for_year ($)</th>\n",
              "      <th>gdp_per_capita ($)</th>\n",
              "      <th>generation</th>\n",
              "    </tr>\n",
              "  </thead>\n",
              "  <tbody>\n",
              "    <tr>\n",
              "      <th>0</th>\n",
              "      <td>Albania</td>\n",
              "      <td>1987</td>\n",
              "      <td>male</td>\n",
              "      <td>15-24 years</td>\n",
              "      <td>21</td>\n",
              "      <td>312900</td>\n",
              "      <td>6.71</td>\n",
              "      <td>Albania1987</td>\n",
              "      <td>NaN</td>\n",
              "      <td>2,156,624,900</td>\n",
              "      <td>796</td>\n",
              "      <td>Generation X</td>\n",
              "    </tr>\n",
              "    <tr>\n",
              "      <th>1</th>\n",
              "      <td>Albania</td>\n",
              "      <td>1987</td>\n",
              "      <td>male</td>\n",
              "      <td>35-54 years</td>\n",
              "      <td>16</td>\n",
              "      <td>308000</td>\n",
              "      <td>5.19</td>\n",
              "      <td>Albania1987</td>\n",
              "      <td>NaN</td>\n",
              "      <td>2,156,624,900</td>\n",
              "      <td>796</td>\n",
              "      <td>Silent</td>\n",
              "    </tr>\n",
              "    <tr>\n",
              "      <th>2</th>\n",
              "      <td>Albania</td>\n",
              "      <td>1987</td>\n",
              "      <td>female</td>\n",
              "      <td>15-24 years</td>\n",
              "      <td>14</td>\n",
              "      <td>289700</td>\n",
              "      <td>4.83</td>\n",
              "      <td>Albania1987</td>\n",
              "      <td>NaN</td>\n",
              "      <td>2,156,624,900</td>\n",
              "      <td>796</td>\n",
              "      <td>Generation X</td>\n",
              "    </tr>\n",
              "    <tr>\n",
              "      <th>3</th>\n",
              "      <td>Albania</td>\n",
              "      <td>1987</td>\n",
              "      <td>male</td>\n",
              "      <td>75+ years</td>\n",
              "      <td>1</td>\n",
              "      <td>21800</td>\n",
              "      <td>4.59</td>\n",
              "      <td>Albania1987</td>\n",
              "      <td>NaN</td>\n",
              "      <td>2,156,624,900</td>\n",
              "      <td>796</td>\n",
              "      <td>G.I. Generation</td>\n",
              "    </tr>\n",
              "    <tr>\n",
              "      <th>4</th>\n",
              "      <td>Albania</td>\n",
              "      <td>1987</td>\n",
              "      <td>male</td>\n",
              "      <td>25-34 years</td>\n",
              "      <td>9</td>\n",
              "      <td>274300</td>\n",
              "      <td>3.28</td>\n",
              "      <td>Albania1987</td>\n",
              "      <td>NaN</td>\n",
              "      <td>2,156,624,900</td>\n",
              "      <td>796</td>\n",
              "      <td>Boomers</td>\n",
              "    </tr>\n",
              "  </tbody>\n",
              "</table>\n",
              "</div>"
            ],
            "text/plain": [
              "   country  year  ... gdp_per_capita ($)       generation\n",
              "0  Albania  1987  ...                796     Generation X\n",
              "1  Albania  1987  ...                796           Silent\n",
              "2  Albania  1987  ...                796     Generation X\n",
              "3  Albania  1987  ...                796  G.I. Generation\n",
              "4  Albania  1987  ...                796          Boomers\n",
              "\n",
              "[5 rows x 12 columns]"
            ]
          },
          "metadata": {
            "tags": []
          },
          "execution_count": 4
        }
      ]
    },
    {
      "cell_type": "markdown",
      "metadata": {
        "id": "6NnXTLZAoacI",
        "colab_type": "text"
      },
      "source": [
        "<h1 align=\"center\">Importando Dados do Segundo DataSet</h1>"
      ]
    },
    {
      "cell_type": "code",
      "metadata": {
        "id": "HkRlBWFIoFH-",
        "colab_type": "code",
        "colab": {}
      },
      "source": [
        "dados_mundiais_d2 = pd.read_csv('https://gist.githubusercontent.com/littlebru/c14170c16839c58ce3ab939cc2dba675/raw/354afe9457639a8fe4d9d60253997a6284cd7a01/suicide_statistics.csv')"
      ],
      "execution_count": null,
      "outputs": []
    },
    {
      "cell_type": "markdown",
      "metadata": {
        "id": "15MyLgxPnxOT",
        "colab_type": "text"
      },
      "source": [
        "-----------------------------------------------"
      ]
    },
    {
      "cell_type": "markdown",
      "metadata": {
        "id": "WFDG2ZQVo0-b",
        "colab_type": "text"
      },
      "source": [
        "<h1 align=\"center\">Informações detalhadas dos DataSets 🧾</h1>\n",
        "\n",
        "Nos códigos abaixo, eu vou estar extraindo informações do tipo:\n",
        "- Total de linhas e colunas do dataset\n",
        "- Tipos de dados existentes\n",
        "- Listagem de todas as colunas"
      ]
    },
    {
      "cell_type": "code",
      "metadata": {
        "id": "OCRFTIroh2x6",
        "colab_type": "code",
        "colab": {
          "base_uri": "https://localhost:8080/",
          "height": 34
        },
        "outputId": "32de6023-c417-4408-eb63-a65e37cc13f2"
      },
      "source": [
        "# Total de linhas X colunas\n",
        "dados_mundiais_d1.shape"
      ],
      "execution_count": null,
      "outputs": [
        {
          "output_type": "execute_result",
          "data": {
            "text/plain": [
              "(27820, 12)"
            ]
          },
          "metadata": {
            "tags": []
          },
          "execution_count": 5
        }
      ]
    },
    {
      "cell_type": "code",
      "metadata": {
        "id": "yUInfxFkkG6H",
        "colab_type": "code",
        "colab": {
          "base_uri": "https://localhost:8080/",
          "height": 238
        },
        "outputId": "f50dd892-8bdd-44fc-aee6-c9a1a08d3551"
      },
      "source": [
        "# Tipos de dados existentes na tabela\n",
        "dados_mundiais_d1.dtypes"
      ],
      "execution_count": null,
      "outputs": [
        {
          "output_type": "execute_result",
          "data": {
            "text/plain": [
              "country                object\n",
              "year                    int64\n",
              "sex                    object\n",
              "age                    object\n",
              "suicides_no             int64\n",
              "population              int64\n",
              "suicides/100k pop     float64\n",
              "country-year           object\n",
              "HDI for year          float64\n",
              " gdp_for_year ($)      object\n",
              "gdp_per_capita ($)      int64\n",
              "generation             object\n",
              "dtype: object"
            ]
          },
          "metadata": {
            "tags": []
          },
          "execution_count": 6
        }
      ]
    },
    {
      "cell_type": "code",
      "metadata": {
        "id": "ebwvHF4rq3p0",
        "colab_type": "code",
        "colab": {
          "base_uri": "https://localhost:8080/",
          "height": 221
        },
        "outputId": "c3a0210d-ea13-461e-e2fa-2b966df06b5d"
      },
      "source": [
        "list(dados_mundiais_d1.columns)"
      ],
      "execution_count": null,
      "outputs": [
        {
          "output_type": "execute_result",
          "data": {
            "text/plain": [
              "['country',\n",
              " 'year',\n",
              " 'sex',\n",
              " 'age',\n",
              " 'suicides_no',\n",
              " 'population',\n",
              " 'suicides/100k pop',\n",
              " 'country-year',\n",
              " 'HDI for year',\n",
              " ' gdp_for_year ($) ',\n",
              " 'gdp_per_capita ($)',\n",
              " 'generation']"
            ]
          },
          "metadata": {
            "tags": []
          },
          "execution_count": 7
        }
      ]
    },
    {
      "cell_type": "markdown",
      "metadata": {
        "id": "lo14faFDpmXg",
        "colab_type": "text"
      },
      "source": [
        "## Limpando os Dados 🧼\n",
        "\n",
        "Abaixo eu vou estar realizando uma \"limpeza\" nos dados, como:\n",
        "- Substituindo valores nulos\n",
        "- Removendo linhas e colunas que não serão utilizadas na análise"
      ]
    },
    {
      "cell_type": "code",
      "metadata": {
        "id": "owoGFOU0Lp88",
        "colab_type": "code",
        "colab": {}
      },
      "source": [
        ""
      ],
      "execution_count": null,
      "outputs": []
    }
  ]
}