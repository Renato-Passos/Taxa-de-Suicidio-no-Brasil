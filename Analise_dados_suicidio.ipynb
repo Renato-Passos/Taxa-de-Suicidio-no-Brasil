{
  "nbformat": 4,
  "nbformat_minor": 0,
  "metadata": {
    "colab": {
      "name": "Analise_dados_suicidio.ipynb",
      "provenance": [],
      "collapsed_sections": []
    },
    "kernelspec": {
      "name": "python3",
      "display_name": "Python 3"
    }
  },
  "cells": [
    {
      "cell_type": "markdown",
      "metadata": {
        "id": "luinxL5wnMcm",
        "colab_type": "text"
      },
      "source": [
        "<h1 align=\"center\">ANÁLISE DE DADOS DE SUICÍDIO NO BRASIL</h1>\n",
        "<h4 align=\"center\">Entre os anos de 2000 à 2015</h4>"
      ]
    },
    {
      "cell_type": "markdown",
      "metadata": {
        "id": "VpeY0ylTvCYt",
        "colab_type": "text"
      },
      "source": [
        "<div align=\"center\">\n",
        "\n",
        "<strong>Autores</strong><br>\n",
        "\n",
        "Bruna Larissa Clemente Gomes <br>\n",
        "Renato Pedra Passos \n",
        "\n",
        "<br>\n",
        "\n",
        "<strong>Professor Orientador</strong><br>\n",
        "\n",
        "Fernando Masanori Ashikaga\n",
        "\n",
        "</div>"
      ]
    },
    {
      "cell_type": "markdown",
      "metadata": {
        "id": "u1cdjqQKndjs",
        "colab_type": "text"
      },
      "source": [
        "--------------------------------------------------------------------------------"
      ]
    },
    {
      "cell_type": "markdown",
      "metadata": {
        "id": "NFqQgAZdmdjq",
        "colab_type": "text"
      },
      "source": [
        "<h3 align=\"center\"> Disclaimer / Aviso Legal ⚠️</h3>\n",
        "<p align=\"center\">Este notebook tem um fim único e exclusivamente didático, para alunos da FATEC, como uma introdução à Análise de Dados Públicos.\n",
        "Desse modo, está excluída a garantia ou responsabilidade de qualquer tipo, por exemplo, de precisão, confiabilidade, completude e atualidade das informações.</p>\n"
      ]
    },
    {
      "cell_type": "markdown",
      "metadata": {
        "id": "0RJitnWJngrd",
        "colab_type": "text"
      },
      "source": [
        "--------------------------------------------------------------------------"
      ]
    },
    {
      "cell_type": "markdown",
      "metadata": {
        "id": "r-uay2UPkWia",
        "colab_type": "text"
      },
      "source": [
        "Análise da taxa de suicidio no Brasil\n",
        "--------------------------------------------------------\n",
        "\n",
        "#### 🔹 Atividades na primeira semana\n",
        "- ✔ Importação das bibliotecas que serão utilizadas\n",
        "- ✔ Importação do primeiro DataSet 'suicidio 2016'\n",
        "- ✔ Análise do tamanho do arquivo (Linhas x Colunas)\n",
        "- ✔ Análise de informações detalhadas da tabela\n",
        "- ✔ Limpeza dos dados: deixar apenas o que vai ser utilizado"
      ]
    },
    {
      "cell_type": "markdown",
      "metadata": {
        "id": "7ALt9wiAXxMx",
        "colab_type": "text"
      },
      "source": [
        "\n",
        "\n",
        "---\n"
      ]
    },
    {
      "cell_type": "markdown",
      "metadata": {
        "id": "4HLuxSSc6NG_",
        "colab_type": "text"
      },
      "source": [
        "<h2 align=\"center\">Importação das Bibliotecas 📥<h2>"
      ]
    },
    {
      "cell_type": "code",
      "metadata": {
        "id": "SKwXs8yZbXoa",
        "colab_type": "code",
        "colab": {}
      },
      "source": [
        "# Importando bibiotecas\n",
        "import pandas as pd\n",
        "import matplotlib.pyplot as plt\n",
        "import seaborn as sns\n",
        "import plotly.offline as py\n",
        "import plotly.graph_objs as go\n",
        "import pandas.util.testing as tm"
      ],
      "execution_count": 37,
      "outputs": []
    },
    {
      "cell_type": "code",
      "metadata": {
        "id": "G1JdLasu3fYr",
        "colab_type": "code",
        "colab": {}
      },
      "source": [
        "# Alterando a visualização do tamanho da tabela\n",
        "pd.set_option(\"display.max_rows\", 400)"
      ],
      "execution_count": 2,
      "outputs": []
    },
    {
      "cell_type": "markdown",
      "metadata": {
        "id": "zdzyp9EcXufE",
        "colab_type": "text"
      },
      "source": [
        "\n",
        "\n",
        "---\n",
        "\n"
      ]
    },
    {
      "cell_type": "markdown",
      "metadata": {
        "id": "y0JcF687jB9_",
        "colab_type": "text"
      },
      "source": [
        "<h2 align=\"center\">Importando o primeiro DataSet com dados dos anos de 1987 - 2015</h2>"
      ]
    },
    {
      "cell_type": "code",
      "metadata": {
        "id": "uIAd2Ro-hfiC",
        "colab_type": "code",
        "colab": {}
      },
      "source": [
        "# Importando o DataSet de dados com os casos de Covid-19\n",
        "dados_mundiais = pd.read_csv('https://gist.githubusercontent.com/littlebru/c14170c16839c58ce3ab939cc2dba675/raw/354afe9457639a8fe4d9d60253997a6284cd7a01/suicide_1987-2016.csv')"
      ],
      "execution_count": 3,
      "outputs": []
    },
    {
      "cell_type": "code",
      "metadata": {
        "id": "A5DsRMwiho5F",
        "colab_type": "code",
        "colab": {
          "base_uri": "https://localhost:8080/",
          "height": 306
        },
        "outputId": "a61d94e5-d6b5-4c76-8644-21b29791a2f5"
      },
      "source": [
        "# 5 primeiras linhas do primeiro DataSet\n",
        "dados_mundiais.head()"
      ],
      "execution_count": 4,
      "outputs": [
        {
          "output_type": "execute_result",
          "data": {
            "text/html": [
              "<div>\n",
              "<style scoped>\n",
              "    .dataframe tbody tr th:only-of-type {\n",
              "        vertical-align: middle;\n",
              "    }\n",
              "\n",
              "    .dataframe tbody tr th {\n",
              "        vertical-align: top;\n",
              "    }\n",
              "\n",
              "    .dataframe thead th {\n",
              "        text-align: right;\n",
              "    }\n",
              "</style>\n",
              "<table border=\"1\" class=\"dataframe\">\n",
              "  <thead>\n",
              "    <tr style=\"text-align: right;\">\n",
              "      <th></th>\n",
              "      <th>country</th>\n",
              "      <th>year</th>\n",
              "      <th>sex</th>\n",
              "      <th>age</th>\n",
              "      <th>suicides_no</th>\n",
              "      <th>population</th>\n",
              "      <th>suicides/100k pop</th>\n",
              "      <th>country-year</th>\n",
              "      <th>HDI for year</th>\n",
              "      <th>gdp_for_year ($)</th>\n",
              "      <th>gdp_per_capita ($)</th>\n",
              "      <th>generation</th>\n",
              "    </tr>\n",
              "  </thead>\n",
              "  <tbody>\n",
              "    <tr>\n",
              "      <th>0</th>\n",
              "      <td>Albania</td>\n",
              "      <td>1987</td>\n",
              "      <td>male</td>\n",
              "      <td>15-24 years</td>\n",
              "      <td>21</td>\n",
              "      <td>312900</td>\n",
              "      <td>6.71</td>\n",
              "      <td>Albania1987</td>\n",
              "      <td>NaN</td>\n",
              "      <td>2,156,624,900</td>\n",
              "      <td>796</td>\n",
              "      <td>Generation X</td>\n",
              "    </tr>\n",
              "    <tr>\n",
              "      <th>1</th>\n",
              "      <td>Albania</td>\n",
              "      <td>1987</td>\n",
              "      <td>male</td>\n",
              "      <td>35-54 years</td>\n",
              "      <td>16</td>\n",
              "      <td>308000</td>\n",
              "      <td>5.19</td>\n",
              "      <td>Albania1987</td>\n",
              "      <td>NaN</td>\n",
              "      <td>2,156,624,900</td>\n",
              "      <td>796</td>\n",
              "      <td>Silent</td>\n",
              "    </tr>\n",
              "    <tr>\n",
              "      <th>2</th>\n",
              "      <td>Albania</td>\n",
              "      <td>1987</td>\n",
              "      <td>female</td>\n",
              "      <td>15-24 years</td>\n",
              "      <td>14</td>\n",
              "      <td>289700</td>\n",
              "      <td>4.83</td>\n",
              "      <td>Albania1987</td>\n",
              "      <td>NaN</td>\n",
              "      <td>2,156,624,900</td>\n",
              "      <td>796</td>\n",
              "      <td>Generation X</td>\n",
              "    </tr>\n",
              "    <tr>\n",
              "      <th>3</th>\n",
              "      <td>Albania</td>\n",
              "      <td>1987</td>\n",
              "      <td>male</td>\n",
              "      <td>75+ years</td>\n",
              "      <td>1</td>\n",
              "      <td>21800</td>\n",
              "      <td>4.59</td>\n",
              "      <td>Albania1987</td>\n",
              "      <td>NaN</td>\n",
              "      <td>2,156,624,900</td>\n",
              "      <td>796</td>\n",
              "      <td>G.I. Generation</td>\n",
              "    </tr>\n",
              "    <tr>\n",
              "      <th>4</th>\n",
              "      <td>Albania</td>\n",
              "      <td>1987</td>\n",
              "      <td>male</td>\n",
              "      <td>25-34 years</td>\n",
              "      <td>9</td>\n",
              "      <td>274300</td>\n",
              "      <td>3.28</td>\n",
              "      <td>Albania1987</td>\n",
              "      <td>NaN</td>\n",
              "      <td>2,156,624,900</td>\n",
              "      <td>796</td>\n",
              "      <td>Boomers</td>\n",
              "    </tr>\n",
              "  </tbody>\n",
              "</table>\n",
              "</div>"
            ],
            "text/plain": [
              "   country  year  ... gdp_per_capita ($)       generation\n",
              "0  Albania  1987  ...                796     Generation X\n",
              "1  Albania  1987  ...                796           Silent\n",
              "2  Albania  1987  ...                796     Generation X\n",
              "3  Albania  1987  ...                796  G.I. Generation\n",
              "4  Albania  1987  ...                796          Boomers\n",
              "\n",
              "[5 rows x 12 columns]"
            ]
          },
          "metadata": {
            "tags": []
          },
          "execution_count": 4
        }
      ]
    },
    {
      "cell_type": "markdown",
      "metadata": {
        "id": "15MyLgxPnxOT",
        "colab_type": "text"
      },
      "source": [
        "-----------------------------------------------"
      ]
    },
    {
      "cell_type": "markdown",
      "metadata": {
        "id": "WFDG2ZQVo0-b",
        "colab_type": "text"
      },
      "source": [
        "<h1 align=\"center\">Informações detalhadas do DataSet 🧾</h1>\n",
        "\n",
        "Nos códigos abaixo, eu vou estar extraindo informações do tipo:\n",
        "- Total de linhas e colunas do dataset\n",
        "- Tipos de dados existentes\n",
        "- Listagem de todas as colunas\n",
        "- Verificação da existência de dados NAN (Not a Number)"
      ]
    },
    {
      "cell_type": "markdown",
      "metadata": {
        "id": "mY40HEXGtBom",
        "colab_type": "text"
      },
      "source": [
        "<h4 align=\"center\"><strong>DataSet 1</strong></h4>\n"
      ]
    },
    {
      "cell_type": "code",
      "metadata": {
        "id": "OCRFTIroh2x6",
        "colab_type": "code",
        "colab": {
          "base_uri": "https://localhost:8080/",
          "height": 34
        },
        "outputId": "dc6de32f-f045-4c2d-b787-815fd038aba5"
      },
      "source": [
        "# Total de linhas X colunas\n",
        "dados_mundiais.shape"
      ],
      "execution_count": 5,
      "outputs": [
        {
          "output_type": "execute_result",
          "data": {
            "text/plain": [
              "(27820, 12)"
            ]
          },
          "metadata": {
            "tags": []
          },
          "execution_count": 5
        }
      ]
    },
    {
      "cell_type": "code",
      "metadata": {
        "id": "ebwvHF4rq3p0",
        "colab_type": "code",
        "colab": {
          "base_uri": "https://localhost:8080/",
          "height": 221
        },
        "outputId": "8f72d38d-fcdd-4024-c8fb-122175adc0d7"
      },
      "source": [
        "# Listando os nomes das colunas\n",
        "list(dados_mundiais.columns)"
      ],
      "execution_count": 6,
      "outputs": [
        {
          "output_type": "execute_result",
          "data": {
            "text/plain": [
              "['country',\n",
              " 'year',\n",
              " 'sex',\n",
              " 'age',\n",
              " 'suicides_no',\n",
              " 'population',\n",
              " 'suicides/100k pop',\n",
              " 'country-year',\n",
              " 'HDI for year',\n",
              " ' gdp_for_year ($) ',\n",
              " 'gdp_per_capita ($)',\n",
              " 'generation']"
            ]
          },
          "metadata": {
            "tags": []
          },
          "execution_count": 6
        }
      ]
    },
    {
      "cell_type": "code",
      "metadata": {
        "id": "XZ03iVbAsxiT",
        "colab_type": "code",
        "colab": {
          "base_uri": "https://localhost:8080/",
          "height": 340
        },
        "outputId": "8885a73a-6566-4a02-c142-cc872adb1dc3"
      },
      "source": [
        "# Visualizando o tipo das informações em cada coluna\n",
        "dados_mundiais.info()"
      ],
      "execution_count": 7,
      "outputs": [
        {
          "output_type": "stream",
          "text": [
            "<class 'pandas.core.frame.DataFrame'>\n",
            "RangeIndex: 27820 entries, 0 to 27819\n",
            "Data columns (total 12 columns):\n",
            " #   Column              Non-Null Count  Dtype  \n",
            "---  ------              --------------  -----  \n",
            " 0   country             27820 non-null  object \n",
            " 1   year                27820 non-null  int64  \n",
            " 2   sex                 27820 non-null  object \n",
            " 3   age                 27820 non-null  object \n",
            " 4   suicides_no         27820 non-null  int64  \n",
            " 5   population          27820 non-null  int64  \n",
            " 6   suicides/100k pop   27820 non-null  float64\n",
            " 7   country-year        27820 non-null  object \n",
            " 8   HDI for year        8364 non-null   float64\n",
            " 9    gdp_for_year ($)   27820 non-null  object \n",
            " 10  gdp_per_capita ($)  27820 non-null  int64  \n",
            " 11  generation          27820 non-null  object \n",
            "dtypes: float64(2), int64(4), object(6)\n",
            "memory usage: 2.5+ MB\n"
          ],
          "name": "stdout"
        }
      ]
    },
    {
      "cell_type": "code",
      "metadata": {
        "id": "bwyKlrI8vlsF",
        "colab_type": "code",
        "colab": {
          "base_uri": "https://localhost:8080/",
          "height": 235
        },
        "outputId": "d06c8f96-a9a4-4dc0-ea1c-24b01762b2f9"
      },
      "source": [
        "# Exibindo a descrição dos dados e alterando as linhas em colunas e colunas em linhas\n",
        "dados_mundiais.describe().T"
      ],
      "execution_count": 8,
      "outputs": [
        {
          "output_type": "execute_result",
          "data": {
            "text/html": [
              "<div>\n",
              "<style scoped>\n",
              "    .dataframe tbody tr th:only-of-type {\n",
              "        vertical-align: middle;\n",
              "    }\n",
              "\n",
              "    .dataframe tbody tr th {\n",
              "        vertical-align: top;\n",
              "    }\n",
              "\n",
              "    .dataframe thead th {\n",
              "        text-align: right;\n",
              "    }\n",
              "</style>\n",
              "<table border=\"1\" class=\"dataframe\">\n",
              "  <thead>\n",
              "    <tr style=\"text-align: right;\">\n",
              "      <th></th>\n",
              "      <th>count</th>\n",
              "      <th>mean</th>\n",
              "      <th>std</th>\n",
              "      <th>min</th>\n",
              "      <th>25%</th>\n",
              "      <th>50%</th>\n",
              "      <th>75%</th>\n",
              "      <th>max</th>\n",
              "    </tr>\n",
              "  </thead>\n",
              "  <tbody>\n",
              "    <tr>\n",
              "      <th>year</th>\n",
              "      <td>27820.0</td>\n",
              "      <td>2.001258e+03</td>\n",
              "      <td>8.469055e+00</td>\n",
              "      <td>1985.000</td>\n",
              "      <td>1995.000</td>\n",
              "      <td>2002.000</td>\n",
              "      <td>2008.000</td>\n",
              "      <td>2.016000e+03</td>\n",
              "    </tr>\n",
              "    <tr>\n",
              "      <th>suicides_no</th>\n",
              "      <td>27820.0</td>\n",
              "      <td>2.425744e+02</td>\n",
              "      <td>9.020479e+02</td>\n",
              "      <td>0.000</td>\n",
              "      <td>3.000</td>\n",
              "      <td>25.000</td>\n",
              "      <td>131.000</td>\n",
              "      <td>2.233800e+04</td>\n",
              "    </tr>\n",
              "    <tr>\n",
              "      <th>population</th>\n",
              "      <td>27820.0</td>\n",
              "      <td>1.844794e+06</td>\n",
              "      <td>3.911779e+06</td>\n",
              "      <td>278.000</td>\n",
              "      <td>97498.500</td>\n",
              "      <td>430150.000</td>\n",
              "      <td>1486143.250</td>\n",
              "      <td>4.380521e+07</td>\n",
              "    </tr>\n",
              "    <tr>\n",
              "      <th>suicides/100k pop</th>\n",
              "      <td>27820.0</td>\n",
              "      <td>1.281610e+01</td>\n",
              "      <td>1.896151e+01</td>\n",
              "      <td>0.000</td>\n",
              "      <td>0.920</td>\n",
              "      <td>5.990</td>\n",
              "      <td>16.620</td>\n",
              "      <td>2.249700e+02</td>\n",
              "    </tr>\n",
              "    <tr>\n",
              "      <th>HDI for year</th>\n",
              "      <td>8364.0</td>\n",
              "      <td>7.766011e-01</td>\n",
              "      <td>9.336671e-02</td>\n",
              "      <td>0.483</td>\n",
              "      <td>0.713</td>\n",
              "      <td>0.779</td>\n",
              "      <td>0.855</td>\n",
              "      <td>9.440000e-01</td>\n",
              "    </tr>\n",
              "    <tr>\n",
              "      <th>gdp_per_capita ($)</th>\n",
              "      <td>27820.0</td>\n",
              "      <td>1.686646e+04</td>\n",
              "      <td>1.888758e+04</td>\n",
              "      <td>251.000</td>\n",
              "      <td>3447.000</td>\n",
              "      <td>9372.000</td>\n",
              "      <td>24874.000</td>\n",
              "      <td>1.263520e+05</td>\n",
              "    </tr>\n",
              "  </tbody>\n",
              "</table>\n",
              "</div>"
            ],
            "text/plain": [
              "                      count          mean  ...          75%           max\n",
              "year                27820.0  2.001258e+03  ...     2008.000  2.016000e+03\n",
              "suicides_no         27820.0  2.425744e+02  ...      131.000  2.233800e+04\n",
              "population          27820.0  1.844794e+06  ...  1486143.250  4.380521e+07\n",
              "suicides/100k pop   27820.0  1.281610e+01  ...       16.620  2.249700e+02\n",
              "HDI for year         8364.0  7.766011e-01  ...        0.855  9.440000e-01\n",
              "gdp_per_capita ($)  27820.0  1.686646e+04  ...    24874.000  1.263520e+05\n",
              "\n",
              "[6 rows x 8 columns]"
            ]
          },
          "metadata": {
            "tags": []
          },
          "execution_count": 8
        }
      ]
    },
    {
      "cell_type": "code",
      "metadata": {
        "id": "auljDj9Qu0Eo",
        "colab_type": "code",
        "colab": {
          "base_uri": "https://localhost:8080/",
          "height": 235
        },
        "outputId": "93f88608-9d88-43a5-fa85-f36427622ec5"
      },
      "source": [
        "# Fazendo uma transposição dos dados e ordenação pela média\n",
        "dados_mundiais.describe().sort_values(by='mean', axis= 1).T"
      ],
      "execution_count": 9,
      "outputs": [
        {
          "output_type": "execute_result",
          "data": {
            "text/html": [
              "<div>\n",
              "<style scoped>\n",
              "    .dataframe tbody tr th:only-of-type {\n",
              "        vertical-align: middle;\n",
              "    }\n",
              "\n",
              "    .dataframe tbody tr th {\n",
              "        vertical-align: top;\n",
              "    }\n",
              "\n",
              "    .dataframe thead th {\n",
              "        text-align: right;\n",
              "    }\n",
              "</style>\n",
              "<table border=\"1\" class=\"dataframe\">\n",
              "  <thead>\n",
              "    <tr style=\"text-align: right;\">\n",
              "      <th></th>\n",
              "      <th>count</th>\n",
              "      <th>mean</th>\n",
              "      <th>std</th>\n",
              "      <th>min</th>\n",
              "      <th>25%</th>\n",
              "      <th>50%</th>\n",
              "      <th>75%</th>\n",
              "      <th>max</th>\n",
              "    </tr>\n",
              "  </thead>\n",
              "  <tbody>\n",
              "    <tr>\n",
              "      <th>HDI for year</th>\n",
              "      <td>8364.0</td>\n",
              "      <td>7.766011e-01</td>\n",
              "      <td>9.336671e-02</td>\n",
              "      <td>0.483</td>\n",
              "      <td>0.713</td>\n",
              "      <td>0.779</td>\n",
              "      <td>0.855</td>\n",
              "      <td>9.440000e-01</td>\n",
              "    </tr>\n",
              "    <tr>\n",
              "      <th>suicides/100k pop</th>\n",
              "      <td>27820.0</td>\n",
              "      <td>1.281610e+01</td>\n",
              "      <td>1.896151e+01</td>\n",
              "      <td>0.000</td>\n",
              "      <td>0.920</td>\n",
              "      <td>5.990</td>\n",
              "      <td>16.620</td>\n",
              "      <td>2.249700e+02</td>\n",
              "    </tr>\n",
              "    <tr>\n",
              "      <th>suicides_no</th>\n",
              "      <td>27820.0</td>\n",
              "      <td>2.425744e+02</td>\n",
              "      <td>9.020479e+02</td>\n",
              "      <td>0.000</td>\n",
              "      <td>3.000</td>\n",
              "      <td>25.000</td>\n",
              "      <td>131.000</td>\n",
              "      <td>2.233800e+04</td>\n",
              "    </tr>\n",
              "    <tr>\n",
              "      <th>year</th>\n",
              "      <td>27820.0</td>\n",
              "      <td>2.001258e+03</td>\n",
              "      <td>8.469055e+00</td>\n",
              "      <td>1985.000</td>\n",
              "      <td>1995.000</td>\n",
              "      <td>2002.000</td>\n",
              "      <td>2008.000</td>\n",
              "      <td>2.016000e+03</td>\n",
              "    </tr>\n",
              "    <tr>\n",
              "      <th>gdp_per_capita ($)</th>\n",
              "      <td>27820.0</td>\n",
              "      <td>1.686646e+04</td>\n",
              "      <td>1.888758e+04</td>\n",
              "      <td>251.000</td>\n",
              "      <td>3447.000</td>\n",
              "      <td>9372.000</td>\n",
              "      <td>24874.000</td>\n",
              "      <td>1.263520e+05</td>\n",
              "    </tr>\n",
              "    <tr>\n",
              "      <th>population</th>\n",
              "      <td>27820.0</td>\n",
              "      <td>1.844794e+06</td>\n",
              "      <td>3.911779e+06</td>\n",
              "      <td>278.000</td>\n",
              "      <td>97498.500</td>\n",
              "      <td>430150.000</td>\n",
              "      <td>1486143.250</td>\n",
              "      <td>4.380521e+07</td>\n",
              "    </tr>\n",
              "  </tbody>\n",
              "</table>\n",
              "</div>"
            ],
            "text/plain": [
              "                      count          mean  ...          75%           max\n",
              "HDI for year         8364.0  7.766011e-01  ...        0.855  9.440000e-01\n",
              "suicides/100k pop   27820.0  1.281610e+01  ...       16.620  2.249700e+02\n",
              "suicides_no         27820.0  2.425744e+02  ...      131.000  2.233800e+04\n",
              "year                27820.0  2.001258e+03  ...     2008.000  2.016000e+03\n",
              "gdp_per_capita ($)  27820.0  1.686646e+04  ...    24874.000  1.263520e+05\n",
              "population          27820.0  1.844794e+06  ...  1486143.250  4.380521e+07\n",
              "\n",
              "[6 rows x 8 columns]"
            ]
          },
          "metadata": {
            "tags": []
          },
          "execution_count": 9
        }
      ]
    },
    {
      "cell_type": "code",
      "metadata": {
        "id": "hJ_n6wftYX1m",
        "colab_type": "code",
        "colab": {
          "base_uri": "https://localhost:8080/",
          "height": 238
        },
        "outputId": "732aae48-8e4b-4dae-a84f-ce45e0d42e42"
      },
      "source": [
        "# Verificando a existencia de dados nulos\n",
        "dados_mundiais.isna().sum()"
      ],
      "execution_count": 10,
      "outputs": [
        {
          "output_type": "execute_result",
          "data": {
            "text/plain": [
              "country                   0\n",
              "year                      0\n",
              "sex                       0\n",
              "age                       0\n",
              "suicides_no               0\n",
              "population                0\n",
              "suicides/100k pop         0\n",
              "country-year              0\n",
              "HDI for year          19456\n",
              " gdp_for_year ($)         0\n",
              "gdp_per_capita ($)        0\n",
              "generation                0\n",
              "dtype: int64"
            ]
          },
          "metadata": {
            "tags": []
          },
          "execution_count": 10
        }
      ]
    },
    {
      "cell_type": "markdown",
      "metadata": {
        "id": "w6EYmY-_Xree",
        "colab_type": "text"
      },
      "source": [
        "\n",
        "\n",
        "---\n",
        "\n"
      ]
    },
    {
      "cell_type": "markdown",
      "metadata": {
        "id": "lo14faFDpmXg",
        "colab_type": "text"
      },
      "source": [
        "<h1 align=\"center\">Limpando os Dados do primeiro DataSet 🧼</h1>\n",
        "\n",
        "Abaixo eu vou estar realizando uma \"limpeza\" nos dados, como:\n",
        "- Renomeando colunas\n",
        "- Tratando valores nulos\n",
        "- Removendo linhas e colunas que não serão utilizadas na análise\n",
        "- Criação de DataFrames que serão utilizados nos gráficos"
      ]
    },
    {
      "cell_type": "code",
      "metadata": {
        "id": "d-5ZNR9Exqxh",
        "colab_type": "code",
        "colab": {}
      },
      "source": [
        "# Renomeando as Colunas\n",
        "dados_mundiais.rename(columns={'country': 'país', 'year':'ano', 'sex':'genero', 'age': 'idade', 'suicides_no':'numero_de_suicidios', 'population':'população', 'HDI for year':'IDH por ano'}, inplace=True)"
      ],
      "execution_count": 11,
      "outputs": []
    },
    {
      "cell_type": "code",
      "metadata": {
        "id": "-I7fOWAzEDQI",
        "colab_type": "code",
        "colab": {}
      },
      "source": [
        "# Removendo colunas que não serão utilizadas na análise\n",
        "dados_mundiais = dados_mundiais.drop(columns={'suicides/100k pop', 'country-year',' gdp_for_year ($) ', 'gdp_per_capita ($)', 'generation', 'IDH por ano'})"
      ],
      "execution_count": 12,
      "outputs": []
    },
    {
      "cell_type": "code",
      "metadata": {
        "id": "zL7oSOLi2Z3h",
        "colab_type": "code",
        "colab": {}
      },
      "source": [
        "dados_br = pd.DataFrame(dados_mundiais[dados_mundiais.país == 'Brazil'])"
      ],
      "execution_count": 13,
      "outputs": []
    },
    {
      "cell_type": "code",
      "metadata": {
        "id": "PMDGHBjS8dPp",
        "colab_type": "code",
        "colab": {
          "base_uri": "https://localhost:8080/",
          "height": 136
        },
        "outputId": "c9bbe551-b547-47df-a939-65c041371c4d"
      },
      "source": [
        "# Verificando a quantidade de dados nulos\n",
        "dados_br.isna().sum()"
      ],
      "execution_count": 14,
      "outputs": [
        {
          "output_type": "execute_result",
          "data": {
            "text/plain": [
              "país                   0\n",
              "ano                    0\n",
              "genero                 0\n",
              "idade                  0\n",
              "numero_de_suicidios    0\n",
              "população              0\n",
              "dtype: int64"
            ]
          },
          "metadata": {
            "tags": []
          },
          "execution_count": 14
        }
      ]
    },
    {
      "cell_type": "code",
      "metadata": {
        "id": "t9qSjfYvDIHo",
        "colab_type": "code",
        "colab": {
          "base_uri": "https://localhost:8080/",
          "height": 204
        },
        "outputId": "4d3ceaac-3613-4991-f41f-4703d2db92c0"
      },
      "source": [
        "dados_br.head()"
      ],
      "execution_count": 15,
      "outputs": [
        {
          "output_type": "execute_result",
          "data": {
            "text/html": [
              "<div>\n",
              "<style scoped>\n",
              "    .dataframe tbody tr th:only-of-type {\n",
              "        vertical-align: middle;\n",
              "    }\n",
              "\n",
              "    .dataframe tbody tr th {\n",
              "        vertical-align: top;\n",
              "    }\n",
              "\n",
              "    .dataframe thead th {\n",
              "        text-align: right;\n",
              "    }\n",
              "</style>\n",
              "<table border=\"1\" class=\"dataframe\">\n",
              "  <thead>\n",
              "    <tr style=\"text-align: right;\">\n",
              "      <th></th>\n",
              "      <th>país</th>\n",
              "      <th>ano</th>\n",
              "      <th>genero</th>\n",
              "      <th>idade</th>\n",
              "      <th>numero_de_suicidios</th>\n",
              "      <th>população</th>\n",
              "    </tr>\n",
              "  </thead>\n",
              "  <tbody>\n",
              "    <tr>\n",
              "      <th>4172</th>\n",
              "      <td>Brazil</td>\n",
              "      <td>1985</td>\n",
              "      <td>male</td>\n",
              "      <td>75+ years</td>\n",
              "      <td>129</td>\n",
              "      <td>840300</td>\n",
              "    </tr>\n",
              "    <tr>\n",
              "      <th>4173</th>\n",
              "      <td>Brazil</td>\n",
              "      <td>1985</td>\n",
              "      <td>male</td>\n",
              "      <td>55-74 years</td>\n",
              "      <td>535</td>\n",
              "      <td>5364900</td>\n",
              "    </tr>\n",
              "    <tr>\n",
              "      <th>4174</th>\n",
              "      <td>Brazil</td>\n",
              "      <td>1985</td>\n",
              "      <td>male</td>\n",
              "      <td>35-54 years</td>\n",
              "      <td>1011</td>\n",
              "      <td>11986300</td>\n",
              "    </tr>\n",
              "    <tr>\n",
              "      <th>4175</th>\n",
              "      <td>Brazil</td>\n",
              "      <td>1985</td>\n",
              "      <td>male</td>\n",
              "      <td>25-34 years</td>\n",
              "      <td>791</td>\n",
              "      <td>10762900</td>\n",
              "    </tr>\n",
              "    <tr>\n",
              "      <th>4176</th>\n",
              "      <td>Brazil</td>\n",
              "      <td>1985</td>\n",
              "      <td>male</td>\n",
              "      <td>15-24 years</td>\n",
              "      <td>661</td>\n",
              "      <td>13834000</td>\n",
              "    </tr>\n",
              "  </tbody>\n",
              "</table>\n",
              "</div>"
            ],
            "text/plain": [
              "        país   ano genero        idade  numero_de_suicidios  população\n",
              "4172  Brazil  1985   male    75+ years                  129     840300\n",
              "4173  Brazil  1985   male  55-74 years                  535    5364900\n",
              "4174  Brazil  1985   male  35-54 years                 1011   11986300\n",
              "4175  Brazil  1985   male  25-34 years                  791   10762900\n",
              "4176  Brazil  1985   male  15-24 years                  661   13834000"
            ]
          },
          "metadata": {
            "tags": []
          },
          "execution_count": 15
        }
      ]
    },
    {
      "cell_type": "code",
      "metadata": {
        "id": "Pdjpt3vlKhlB",
        "colab_type": "code",
        "colab": {}
      },
      "source": [
        "dados_br.replace()"
      ],
      "execution_count": null,
      "outputs": []
    },
    {
      "cell_type": "markdown",
      "metadata": {
        "id": "dDSKS2dgXjK-",
        "colab_type": "text"
      },
      "source": [
        "\n",
        "---\n",
        "\n"
      ]
    },
    {
      "cell_type": "markdown",
      "metadata": {
        "id": "dC-jPdRW9zF_",
        "colab_type": "text"
      },
      "source": [
        "<h1 align=\"center\">Visualização dos dados 🎨</h1>\n",
        "\n",
        "Abaixo estão algumas visualizações dos dados, como:\n",
        "- Maior numero de suicidios\n",
        "- Menor numero de suicidios\n",
        "- Mapa de cores do numero de suicidios\n"
      ]
    },
    {
      "cell_type": "markdown",
      "metadata": {
        "id": "h5qRfN1Ar5kL",
        "colab_type": "text"
      },
      "source": [
        "As tabelas abaixo estão com os dados destacados, rode este notebook no seu [Jupyter Notebook](https://jupyter.org/install) ou no [Google Colab](https://colab.research.google.com/drive/1vOTB97qc-QaD1w3OC0RiqBpC1bxWz4qW?usp=sharing), assim vai ser possível visualizar esses destaques feitos 😉"
      ]
    },
    {
      "cell_type": "code",
      "metadata": {
        "id": "-mCoz7N2-HnG",
        "colab_type": "code",
        "colab": {
          "base_uri": "https://localhost:8080/",
          "height": 460
        },
        "outputId": "f8e005ce-e0d0-4198-dfd1-0827badb16cf"
      },
      "source": [
        "# Utilizando mapa de cores para visualizar os maiores e menores valores nos numeros de suicidios\n",
        "dados_br.tail(20).style.background_gradient(subset=['numero_de_suicidios'], cmap='cool')"
      ],
      "execution_count": 16,
      "outputs": [
        {
          "output_type": "execute_result",
          "data": {
            "text/html": [
              "<style  type=\"text/css\" >\n",
              "    #T_bcf31160_c306_11ea_9dcd_0242ac1c0002row0_col4 {\n",
              "            background-color:  #6897ff;\n",
              "            color:  #000000;\n",
              "        }    #T_bcf31160_c306_11ea_9dcd_0242ac1c0002row1_col4 {\n",
              "            background-color:  #41beff;\n",
              "            color:  #000000;\n",
              "        }    #T_bcf31160_c306_11ea_9dcd_0242ac1c0002row2_col4 {\n",
              "            background-color:  #1ae5ff;\n",
              "            color:  #000000;\n",
              "        }    #T_bcf31160_c306_11ea_9dcd_0242ac1c0002row3_col4 {\n",
              "            background-color:  #20dfff;\n",
              "            color:  #000000;\n",
              "        }    #T_bcf31160_c306_11ea_9dcd_0242ac1c0002row4_col4 {\n",
              "            background-color:  #02fdff;\n",
              "            color:  #000000;\n",
              "        }    #T_bcf31160_c306_11ea_9dcd_0242ac1c0002row5_col4 {\n",
              "            background-color:  #19e6ff;\n",
              "            color:  #000000;\n",
              "        }    #T_bcf31160_c306_11ea_9dcd_0242ac1c0002row6_col4 {\n",
              "            background-color:  #02fdff;\n",
              "            color:  #000000;\n",
              "        }    #T_bcf31160_c306_11ea_9dcd_0242ac1c0002row7_col4 {\n",
              "            background-color:  #00ffff;\n",
              "            color:  #000000;\n",
              "        }    #T_bcf31160_c306_11ea_9dcd_0242ac1c0002row8_col4 {\n",
              "            background-color:  #21deff;\n",
              "            color:  #000000;\n",
              "        }    #T_bcf31160_c306_11ea_9dcd_0242ac1c0002row9_col4 {\n",
              "            background-color:  #837cff;\n",
              "            color:  #000000;\n",
              "        }    #T_bcf31160_c306_11ea_9dcd_0242ac1c0002row10_col4 {\n",
              "            background-color:  #ff00ff;\n",
              "            color:  #f1f1f1;\n",
              "        }    #T_bcf31160_c306_11ea_9dcd_0242ac1c0002row11_col4 {\n",
              "            background-color:  #946bff;\n",
              "            color:  #000000;\n",
              "        }    #T_bcf31160_c306_11ea_9dcd_0242ac1c0002row12_col4 {\n",
              "            background-color:  #6b94ff;\n",
              "            color:  #000000;\n",
              "        }    #T_bcf31160_c306_11ea_9dcd_0242ac1c0002row13_col4 {\n",
              "            background-color:  #44bbff;\n",
              "            color:  #000000;\n",
              "        }    #T_bcf31160_c306_11ea_9dcd_0242ac1c0002row14_col4 {\n",
              "            background-color:  #22ddff;\n",
              "            color:  #000000;\n",
              "        }    #T_bcf31160_c306_11ea_9dcd_0242ac1c0002row15_col4 {\n",
              "            background-color:  #20dfff;\n",
              "            color:  #000000;\n",
              "        }    #T_bcf31160_c306_11ea_9dcd_0242ac1c0002row16_col4 {\n",
              "            background-color:  #02fdff;\n",
              "            color:  #000000;\n",
              "        }    #T_bcf31160_c306_11ea_9dcd_0242ac1c0002row17_col4 {\n",
              "            background-color:  #1be4ff;\n",
              "            color:  #000000;\n",
              "        }    #T_bcf31160_c306_11ea_9dcd_0242ac1c0002row18_col4 {\n",
              "            background-color:  #01feff;\n",
              "            color:  #000000;\n",
              "        }    #T_bcf31160_c306_11ea_9dcd_0242ac1c0002row19_col4 {\n",
              "            background-color:  #00ffff;\n",
              "            color:  #000000;\n",
              "        }</style><table id=\"T_bcf31160_c306_11ea_9dcd_0242ac1c0002\" ><thead>    <tr>        <th class=\"blank level0\" ></th>        <th class=\"col_heading level0 col0\" >país</th>        <th class=\"col_heading level0 col1\" >ano</th>        <th class=\"col_heading level0 col2\" >genero</th>        <th class=\"col_heading level0 col3\" >idade</th>        <th class=\"col_heading level0 col4\" >numero_de_suicidios</th>        <th class=\"col_heading level0 col5\" >população</th>    </tr></thead><tbody>\n",
              "                <tr>\n",
              "                        <th id=\"T_bcf31160_c306_11ea_9dcd_0242ac1c0002level0_row0\" class=\"row_heading level0 row0\" >4524</th>\n",
              "                        <td id=\"T_bcf31160_c306_11ea_9dcd_0242ac1c0002row0_col0\" class=\"data row0 col0\" >Brazil</td>\n",
              "                        <td id=\"T_bcf31160_c306_11ea_9dcd_0242ac1c0002row0_col1\" class=\"data row0 col1\" >2014</td>\n",
              "                        <td id=\"T_bcf31160_c306_11ea_9dcd_0242ac1c0002row0_col2\" class=\"data row0 col2\" >male</td>\n",
              "                        <td id=\"T_bcf31160_c306_11ea_9dcd_0242ac1c0002row0_col3\" class=\"data row0 col3\" >15-24 years</td>\n",
              "                        <td id=\"T_bcf31160_c306_11ea_9dcd_0242ac1c0002row0_col4\" class=\"data row0 col4\" >1358</td>\n",
              "                        <td id=\"T_bcf31160_c306_11ea_9dcd_0242ac1c0002row0_col5\" class=\"data row0 col5\" >17606681</td>\n",
              "            </tr>\n",
              "            <tr>\n",
              "                        <th id=\"T_bcf31160_c306_11ea_9dcd_0242ac1c0002level0_row1\" class=\"row_heading level0 row1\" >4525</th>\n",
              "                        <td id=\"T_bcf31160_c306_11ea_9dcd_0242ac1c0002row1_col0\" class=\"data row1 col0\" >Brazil</td>\n",
              "                        <td id=\"T_bcf31160_c306_11ea_9dcd_0242ac1c0002row1_col1\" class=\"data row1 col1\" >2014</td>\n",
              "                        <td id=\"T_bcf31160_c306_11ea_9dcd_0242ac1c0002row1_col2\" class=\"data row1 col2\" >female</td>\n",
              "                        <td id=\"T_bcf31160_c306_11ea_9dcd_0242ac1c0002row1_col3\" class=\"data row1 col3\" >35-54 years</td>\n",
              "                        <td id=\"T_bcf31160_c306_11ea_9dcd_0242ac1c0002row1_col4\" class=\"data row1 col4\" >871</td>\n",
              "                        <td id=\"T_bcf31160_c306_11ea_9dcd_0242ac1c0002row1_col5\" class=\"data row1 col5\" >27971096</td>\n",
              "            </tr>\n",
              "            <tr>\n",
              "                        <th id=\"T_bcf31160_c306_11ea_9dcd_0242ac1c0002level0_row2\" class=\"row_heading level0 row2\" >4526</th>\n",
              "                        <td id=\"T_bcf31160_c306_11ea_9dcd_0242ac1c0002row2_col0\" class=\"data row2 col0\" >Brazil</td>\n",
              "                        <td id=\"T_bcf31160_c306_11ea_9dcd_0242ac1c0002row2_col1\" class=\"data row2 col1\" >2014</td>\n",
              "                        <td id=\"T_bcf31160_c306_11ea_9dcd_0242ac1c0002row2_col2\" class=\"data row2 col2\" >female</td>\n",
              "                        <td id=\"T_bcf31160_c306_11ea_9dcd_0242ac1c0002row2_col3\" class=\"data row2 col3\" >55-74 years</td>\n",
              "                        <td id=\"T_bcf31160_c306_11ea_9dcd_0242ac1c0002row2_col4\" class=\"data row2 col4\" >389</td>\n",
              "                        <td id=\"T_bcf31160_c306_11ea_9dcd_0242ac1c0002row2_col5\" class=\"data row2 col5\" >14550395</td>\n",
              "            </tr>\n",
              "            <tr>\n",
              "                        <th id=\"T_bcf31160_c306_11ea_9dcd_0242ac1c0002level0_row3\" class=\"row_heading level0 row3\" >4527</th>\n",
              "                        <td id=\"T_bcf31160_c306_11ea_9dcd_0242ac1c0002row3_col0\" class=\"data row3 col0\" >Brazil</td>\n",
              "                        <td id=\"T_bcf31160_c306_11ea_9dcd_0242ac1c0002row3_col1\" class=\"data row3 col1\" >2014</td>\n",
              "                        <td id=\"T_bcf31160_c306_11ea_9dcd_0242ac1c0002row3_col2\" class=\"data row3 col2\" >female</td>\n",
              "                        <td id=\"T_bcf31160_c306_11ea_9dcd_0242ac1c0002row3_col3\" class=\"data row3 col3\" >25-34 years</td>\n",
              "                        <td id=\"T_bcf31160_c306_11ea_9dcd_0242ac1c0002row3_col4\" class=\"data row3 col4\" >457</td>\n",
              "                        <td id=\"T_bcf31160_c306_11ea_9dcd_0242ac1c0002row3_col5\" class=\"data row3 col5\" >17539955</td>\n",
              "            </tr>\n",
              "            <tr>\n",
              "                        <th id=\"T_bcf31160_c306_11ea_9dcd_0242ac1c0002level0_row4\" class=\"row_heading level0 row4\" >4528</th>\n",
              "                        <td id=\"T_bcf31160_c306_11ea_9dcd_0242ac1c0002row4_col0\" class=\"data row4 col0\" >Brazil</td>\n",
              "                        <td id=\"T_bcf31160_c306_11ea_9dcd_0242ac1c0002row4_col1\" class=\"data row4 col1\" >2014</td>\n",
              "                        <td id=\"T_bcf31160_c306_11ea_9dcd_0242ac1c0002row4_col2\" class=\"data row4 col2\" >female</td>\n",
              "                        <td id=\"T_bcf31160_c306_11ea_9dcd_0242ac1c0002row4_col3\" class=\"data row4 col3\" >75+ years</td>\n",
              "                        <td id=\"T_bcf31160_c306_11ea_9dcd_0242ac1c0002row4_col4\" class=\"data row4 col4\" >83</td>\n",
              "                        <td id=\"T_bcf31160_c306_11ea_9dcd_0242ac1c0002row4_col5\" class=\"data row4 col5\" >3634999</td>\n",
              "            </tr>\n",
              "            <tr>\n",
              "                        <th id=\"T_bcf31160_c306_11ea_9dcd_0242ac1c0002level0_row5\" class=\"row_heading level0 row5\" >4529</th>\n",
              "                        <td id=\"T_bcf31160_c306_11ea_9dcd_0242ac1c0002row5_col0\" class=\"data row5 col0\" >Brazil</td>\n",
              "                        <td id=\"T_bcf31160_c306_11ea_9dcd_0242ac1c0002row5_col1\" class=\"data row5 col1\" >2014</td>\n",
              "                        <td id=\"T_bcf31160_c306_11ea_9dcd_0242ac1c0002row5_col2\" class=\"data row5 col2\" >female</td>\n",
              "                        <td id=\"T_bcf31160_c306_11ea_9dcd_0242ac1c0002row5_col3\" class=\"data row5 col3\" >15-24 years</td>\n",
              "                        <td id=\"T_bcf31160_c306_11ea_9dcd_0242ac1c0002row5_col4\" class=\"data row5 col4\" >371</td>\n",
              "                        <td id=\"T_bcf31160_c306_11ea_9dcd_0242ac1c0002row5_col5\" class=\"data row5 col5\" >17094729</td>\n",
              "            </tr>\n",
              "            <tr>\n",
              "                        <th id=\"T_bcf31160_c306_11ea_9dcd_0242ac1c0002level0_row6\" class=\"row_heading level0 row6\" >4530</th>\n",
              "                        <td id=\"T_bcf31160_c306_11ea_9dcd_0242ac1c0002row6_col0\" class=\"data row6 col0\" >Brazil</td>\n",
              "                        <td id=\"T_bcf31160_c306_11ea_9dcd_0242ac1c0002row6_col1\" class=\"data row6 col1\" >2014</td>\n",
              "                        <td id=\"T_bcf31160_c306_11ea_9dcd_0242ac1c0002row6_col2\" class=\"data row6 col2\" >male</td>\n",
              "                        <td id=\"T_bcf31160_c306_11ea_9dcd_0242ac1c0002row6_col3\" class=\"data row6 col3\" >5-14 years</td>\n",
              "                        <td id=\"T_bcf31160_c306_11ea_9dcd_0242ac1c0002row6_col4\" class=\"data row6 col4\" >84</td>\n",
              "                        <td id=\"T_bcf31160_c306_11ea_9dcd_0242ac1c0002row6_col5\" class=\"data row6 col5\" >16299015</td>\n",
              "            </tr>\n",
              "            <tr>\n",
              "                        <th id=\"T_bcf31160_c306_11ea_9dcd_0242ac1c0002level0_row7\" class=\"row_heading level0 row7\" >4531</th>\n",
              "                        <td id=\"T_bcf31160_c306_11ea_9dcd_0242ac1c0002row7_col0\" class=\"data row7 col0\" >Brazil</td>\n",
              "                        <td id=\"T_bcf31160_c306_11ea_9dcd_0242ac1c0002row7_col1\" class=\"data row7 col1\" >2014</td>\n",
              "                        <td id=\"T_bcf31160_c306_11ea_9dcd_0242ac1c0002row7_col2\" class=\"data row7 col2\" >female</td>\n",
              "                        <td id=\"T_bcf31160_c306_11ea_9dcd_0242ac1c0002row7_col3\" class=\"data row7 col3\" >5-14 years</td>\n",
              "                        <td id=\"T_bcf31160_c306_11ea_9dcd_0242ac1c0002row7_col4\" class=\"data row7 col4\" >62</td>\n",
              "                        <td id=\"T_bcf31160_c306_11ea_9dcd_0242ac1c0002row7_col5\" class=\"data row7 col5\" >15670559</td>\n",
              "            </tr>\n",
              "            <tr>\n",
              "                        <th id=\"T_bcf31160_c306_11ea_9dcd_0242ac1c0002level0_row8\" class=\"row_heading level0 row8\" >4532</th>\n",
              "                        <td id=\"T_bcf31160_c306_11ea_9dcd_0242ac1c0002row8_col0\" class=\"data row8 col0\" >Brazil</td>\n",
              "                        <td id=\"T_bcf31160_c306_11ea_9dcd_0242ac1c0002row8_col1\" class=\"data row8 col1\" >2015</td>\n",
              "                        <td id=\"T_bcf31160_c306_11ea_9dcd_0242ac1c0002row8_col2\" class=\"data row8 col2\" >male</td>\n",
              "                        <td id=\"T_bcf31160_c306_11ea_9dcd_0242ac1c0002row8_col3\" class=\"data row8 col3\" >75+ years</td>\n",
              "                        <td id=\"T_bcf31160_c306_11ea_9dcd_0242ac1c0002row8_col4\" class=\"data row8 col4\" >470</td>\n",
              "                        <td id=\"T_bcf31160_c306_11ea_9dcd_0242ac1c0002row8_col5\" class=\"data row8 col5\" >2448560</td>\n",
              "            </tr>\n",
              "            <tr>\n",
              "                        <th id=\"T_bcf31160_c306_11ea_9dcd_0242ac1c0002level0_row9\" class=\"row_heading level0 row9\" >4533</th>\n",
              "                        <td id=\"T_bcf31160_c306_11ea_9dcd_0242ac1c0002row9_col0\" class=\"data row9 col0\" >Brazil</td>\n",
              "                        <td id=\"T_bcf31160_c306_11ea_9dcd_0242ac1c0002row9_col1\" class=\"data row9 col1\" >2015</td>\n",
              "                        <td id=\"T_bcf31160_c306_11ea_9dcd_0242ac1c0002row9_col2\" class=\"data row9 col2\" >male</td>\n",
              "                        <td id=\"T_bcf31160_c306_11ea_9dcd_0242ac1c0002row9_col3\" class=\"data row9 col3\" >55-74 years</td>\n",
              "                        <td id=\"T_bcf31160_c306_11ea_9dcd_0242ac1c0002row9_col4\" class=\"data row9 col4\" >1693</td>\n",
              "                        <td id=\"T_bcf31160_c306_11ea_9dcd_0242ac1c0002row9_col5\" class=\"data row9 col5\" >12987357</td>\n",
              "            </tr>\n",
              "            <tr>\n",
              "                        <th id=\"T_bcf31160_c306_11ea_9dcd_0242ac1c0002level0_row10\" class=\"row_heading level0 row10\" >4534</th>\n",
              "                        <td id=\"T_bcf31160_c306_11ea_9dcd_0242ac1c0002row10_col0\" class=\"data row10 col0\" >Brazil</td>\n",
              "                        <td id=\"T_bcf31160_c306_11ea_9dcd_0242ac1c0002row10_col1\" class=\"data row10 col1\" >2015</td>\n",
              "                        <td id=\"T_bcf31160_c306_11ea_9dcd_0242ac1c0002row10_col2\" class=\"data row10 col2\" >male</td>\n",
              "                        <td id=\"T_bcf31160_c306_11ea_9dcd_0242ac1c0002row10_col3\" class=\"data row10 col3\" >35-54 years</td>\n",
              "                        <td id=\"T_bcf31160_c306_11ea_9dcd_0242ac1c0002row10_col4\" class=\"data row10 col4\" >3238</td>\n",
              "                        <td id=\"T_bcf31160_c306_11ea_9dcd_0242ac1c0002row10_col5\" class=\"data row10 col5\" >26989063</td>\n",
              "            </tr>\n",
              "            <tr>\n",
              "                        <th id=\"T_bcf31160_c306_11ea_9dcd_0242ac1c0002level0_row11\" class=\"row_heading level0 row11\" >4535</th>\n",
              "                        <td id=\"T_bcf31160_c306_11ea_9dcd_0242ac1c0002row11_col0\" class=\"data row11 col0\" >Brazil</td>\n",
              "                        <td id=\"T_bcf31160_c306_11ea_9dcd_0242ac1c0002row11_col1\" class=\"data row11 col1\" >2015</td>\n",
              "                        <td id=\"T_bcf31160_c306_11ea_9dcd_0242ac1c0002row11_col2\" class=\"data row11 col2\" >male</td>\n",
              "                        <td id=\"T_bcf31160_c306_11ea_9dcd_0242ac1c0002row11_col3\" class=\"data row11 col3\" >25-34 years</td>\n",
              "                        <td id=\"T_bcf31160_c306_11ea_9dcd_0242ac1c0002row11_col4\" class=\"data row11 col4\" >1897</td>\n",
              "                        <td id=\"T_bcf31160_c306_11ea_9dcd_0242ac1c0002row11_col5\" class=\"data row11 col5\" >17625976</td>\n",
              "            </tr>\n",
              "            <tr>\n",
              "                        <th id=\"T_bcf31160_c306_11ea_9dcd_0242ac1c0002level0_row12\" class=\"row_heading level0 row12\" >4536</th>\n",
              "                        <td id=\"T_bcf31160_c306_11ea_9dcd_0242ac1c0002row12_col0\" class=\"data row12 col0\" >Brazil</td>\n",
              "                        <td id=\"T_bcf31160_c306_11ea_9dcd_0242ac1c0002row12_col1\" class=\"data row12 col1\" >2015</td>\n",
              "                        <td id=\"T_bcf31160_c306_11ea_9dcd_0242ac1c0002row12_col2\" class=\"data row12 col2\" >male</td>\n",
              "                        <td id=\"T_bcf31160_c306_11ea_9dcd_0242ac1c0002row12_col3\" class=\"data row12 col3\" >15-24 years</td>\n",
              "                        <td id=\"T_bcf31160_c306_11ea_9dcd_0242ac1c0002row12_col4\" class=\"data row12 col4\" >1389</td>\n",
              "                        <td id=\"T_bcf31160_c306_11ea_9dcd_0242ac1c0002row12_col5\" class=\"data row12 col5\" >17569045</td>\n",
              "            </tr>\n",
              "            <tr>\n",
              "                        <th id=\"T_bcf31160_c306_11ea_9dcd_0242ac1c0002level0_row13\" class=\"row_heading level0 row13\" >4537</th>\n",
              "                        <td id=\"T_bcf31160_c306_11ea_9dcd_0242ac1c0002row13_col0\" class=\"data row13 col0\" >Brazil</td>\n",
              "                        <td id=\"T_bcf31160_c306_11ea_9dcd_0242ac1c0002row13_col1\" class=\"data row13 col1\" >2015</td>\n",
              "                        <td id=\"T_bcf31160_c306_11ea_9dcd_0242ac1c0002row13_col2\" class=\"data row13 col2\" >female</td>\n",
              "                        <td id=\"T_bcf31160_c306_11ea_9dcd_0242ac1c0002row13_col3\" class=\"data row13 col3\" >35-54 years</td>\n",
              "                        <td id=\"T_bcf31160_c306_11ea_9dcd_0242ac1c0002row13_col4\" class=\"data row13 col4\" >910</td>\n",
              "                        <td id=\"T_bcf31160_c306_11ea_9dcd_0242ac1c0002row13_col5\" class=\"data row13 col5\" >28461855</td>\n",
              "            </tr>\n",
              "            <tr>\n",
              "                        <th id=\"T_bcf31160_c306_11ea_9dcd_0242ac1c0002level0_row14\" class=\"row_heading level0 row14\" >4538</th>\n",
              "                        <td id=\"T_bcf31160_c306_11ea_9dcd_0242ac1c0002row14_col0\" class=\"data row14 col0\" >Brazil</td>\n",
              "                        <td id=\"T_bcf31160_c306_11ea_9dcd_0242ac1c0002row14_col1\" class=\"data row14 col1\" >2015</td>\n",
              "                        <td id=\"T_bcf31160_c306_11ea_9dcd_0242ac1c0002row14_col2\" class=\"data row14 col2\" >female</td>\n",
              "                        <td id=\"T_bcf31160_c306_11ea_9dcd_0242ac1c0002row14_col3\" class=\"data row14 col3\" >55-74 years</td>\n",
              "                        <td id=\"T_bcf31160_c306_11ea_9dcd_0242ac1c0002row14_col4\" class=\"data row14 col4\" >479</td>\n",
              "                        <td id=\"T_bcf31160_c306_11ea_9dcd_0242ac1c0002row14_col5\" class=\"data row14 col5\" >15122216</td>\n",
              "            </tr>\n",
              "            <tr>\n",
              "                        <th id=\"T_bcf31160_c306_11ea_9dcd_0242ac1c0002level0_row15\" class=\"row_heading level0 row15\" >4539</th>\n",
              "                        <td id=\"T_bcf31160_c306_11ea_9dcd_0242ac1c0002row15_col0\" class=\"data row15 col0\" >Brazil</td>\n",
              "                        <td id=\"T_bcf31160_c306_11ea_9dcd_0242ac1c0002row15_col1\" class=\"data row15 col1\" >2015</td>\n",
              "                        <td id=\"T_bcf31160_c306_11ea_9dcd_0242ac1c0002row15_col2\" class=\"data row15 col2\" >female</td>\n",
              "                        <td id=\"T_bcf31160_c306_11ea_9dcd_0242ac1c0002row15_col3\" class=\"data row15 col3\" >25-34 years</td>\n",
              "                        <td id=\"T_bcf31160_c306_11ea_9dcd_0242ac1c0002row15_col4\" class=\"data row15 col4\" >466</td>\n",
              "                        <td id=\"T_bcf31160_c306_11ea_9dcd_0242ac1c0002row15_col5\" class=\"data row15 col5\" >17546090</td>\n",
              "            </tr>\n",
              "            <tr>\n",
              "                        <th id=\"T_bcf31160_c306_11ea_9dcd_0242ac1c0002level0_row16\" class=\"row_heading level0 row16\" >4540</th>\n",
              "                        <td id=\"T_bcf31160_c306_11ea_9dcd_0242ac1c0002row16_col0\" class=\"data row16 col0\" >Brazil</td>\n",
              "                        <td id=\"T_bcf31160_c306_11ea_9dcd_0242ac1c0002row16_col1\" class=\"data row16 col1\" >2015</td>\n",
              "                        <td id=\"T_bcf31160_c306_11ea_9dcd_0242ac1c0002row16_col2\" class=\"data row16 col2\" >female</td>\n",
              "                        <td id=\"T_bcf31160_c306_11ea_9dcd_0242ac1c0002row16_col3\" class=\"data row16 col3\" >75+ years</td>\n",
              "                        <td id=\"T_bcf31160_c306_11ea_9dcd_0242ac1c0002row16_col4\" class=\"data row16 col4\" >89</td>\n",
              "                        <td id=\"T_bcf31160_c306_11ea_9dcd_0242ac1c0002row16_col5\" class=\"data row16 col5\" >3802086</td>\n",
              "            </tr>\n",
              "            <tr>\n",
              "                        <th id=\"T_bcf31160_c306_11ea_9dcd_0242ac1c0002level0_row17\" class=\"row_heading level0 row17\" >4541</th>\n",
              "                        <td id=\"T_bcf31160_c306_11ea_9dcd_0242ac1c0002row17_col0\" class=\"data row17 col0\" >Brazil</td>\n",
              "                        <td id=\"T_bcf31160_c306_11ea_9dcd_0242ac1c0002row17_col1\" class=\"data row17 col1\" >2015</td>\n",
              "                        <td id=\"T_bcf31160_c306_11ea_9dcd_0242ac1c0002row17_col2\" class=\"data row17 col2\" >female</td>\n",
              "                        <td id=\"T_bcf31160_c306_11ea_9dcd_0242ac1c0002row17_col3\" class=\"data row17 col3\" >15-24 years</td>\n",
              "                        <td id=\"T_bcf31160_c306_11ea_9dcd_0242ac1c0002row17_col4\" class=\"data row17 col4\" >397</td>\n",
              "                        <td id=\"T_bcf31160_c306_11ea_9dcd_0242ac1c0002row17_col5\" class=\"data row17 col5\" >17047218</td>\n",
              "            </tr>\n",
              "            <tr>\n",
              "                        <th id=\"T_bcf31160_c306_11ea_9dcd_0242ac1c0002level0_row18\" class=\"row_heading level0 row18\" >4542</th>\n",
              "                        <td id=\"T_bcf31160_c306_11ea_9dcd_0242ac1c0002row18_col0\" class=\"data row18 col0\" >Brazil</td>\n",
              "                        <td id=\"T_bcf31160_c306_11ea_9dcd_0242ac1c0002row18_col1\" class=\"data row18 col1\" >2015</td>\n",
              "                        <td id=\"T_bcf31160_c306_11ea_9dcd_0242ac1c0002row18_col2\" class=\"data row18 col2\" >male</td>\n",
              "                        <td id=\"T_bcf31160_c306_11ea_9dcd_0242ac1c0002row18_col3\" class=\"data row18 col3\" >5-14 years</td>\n",
              "                        <td id=\"T_bcf31160_c306_11ea_9dcd_0242ac1c0002row18_col4\" class=\"data row18 col4\" >79</td>\n",
              "                        <td id=\"T_bcf31160_c306_11ea_9dcd_0242ac1c0002row18_col5\" class=\"data row18 col5\" >16057040</td>\n",
              "            </tr>\n",
              "            <tr>\n",
              "                        <th id=\"T_bcf31160_c306_11ea_9dcd_0242ac1c0002level0_row19\" class=\"row_heading level0 row19\" >4543</th>\n",
              "                        <td id=\"T_bcf31160_c306_11ea_9dcd_0242ac1c0002row19_col0\" class=\"data row19 col0\" >Brazil</td>\n",
              "                        <td id=\"T_bcf31160_c306_11ea_9dcd_0242ac1c0002row19_col1\" class=\"data row19 col1\" >2015</td>\n",
              "                        <td id=\"T_bcf31160_c306_11ea_9dcd_0242ac1c0002row19_col2\" class=\"data row19 col2\" >female</td>\n",
              "                        <td id=\"T_bcf31160_c306_11ea_9dcd_0242ac1c0002row19_col3\" class=\"data row19 col3\" >5-14 years</td>\n",
              "                        <td id=\"T_bcf31160_c306_11ea_9dcd_0242ac1c0002row19_col4\" class=\"data row19 col4\" >56</td>\n",
              "                        <td id=\"T_bcf31160_c306_11ea_9dcd_0242ac1c0002row19_col5\" class=\"data row19 col5\" >15430579</td>\n",
              "            </tr>\n",
              "    </tbody></table>"
            ],
            "text/plain": [
              "<pandas.io.formats.style.Styler at 0x7fdd71722cf8>"
            ]
          },
          "metadata": {
            "tags": []
          },
          "execution_count": 16
        }
      ]
    },
    {
      "cell_type": "markdown",
      "metadata": {
        "id": "JHd1aJAdWpUu",
        "colab_type": "text"
      },
      "source": [
        "<h4 align=\"center\">Suicidio entre Homens🙎‍♂️ e Mulheres 🙎 </h4>"
      ]
    },
    {
      "cell_type": "code",
      "metadata": {
        "id": "SduRiseHVWg2",
        "colab_type": "code",
        "colab": {}
      },
      "source": [
        "# Criando DataFrames de Mulheres e Homens\n",
        "\n",
        "dados_homens_brasileiros = pd.DataFrame(dados_br.query('genero == \"male\"'))\n",
        "\n",
        "dados_mulheres_brasileiras = pd.DataFrame(dados_br.query('genero == \"female\"'))"
      ],
      "execution_count": 17,
      "outputs": []
    },
    {
      "cell_type": "code",
      "metadata": {
        "id": "SJok9gqXGB2r",
        "colab_type": "code",
        "colab": {
          "base_uri": "https://localhost:8080/",
          "height": 460
        },
        "outputId": "84a41a19-0e31-4128-9398-b6c9f14aa0f6"
      },
      "source": [
        "# Maior taxa de mortes entre homens\n",
        "dados_homens_brasileiros.tail(20).style.highlight_max(subset=\"numero_de_suicidios\", color=\"#f76773\")"
      ],
      "execution_count": 18,
      "outputs": [
        {
          "output_type": "execute_result",
          "data": {
            "text/html": [
              "<style  type=\"text/css\" >\n",
              "    #T_bcfb9cc2_c306_11ea_9dcd_0242ac1c0002row16_col4 {\n",
              "            background-color:  #f76773;\n",
              "        }</style><table id=\"T_bcfb9cc2_c306_11ea_9dcd_0242ac1c0002\" ><thead>    <tr>        <th class=\"blank level0\" ></th>        <th class=\"col_heading level0 col0\" >país</th>        <th class=\"col_heading level0 col1\" >ano</th>        <th class=\"col_heading level0 col2\" >genero</th>        <th class=\"col_heading level0 col3\" >idade</th>        <th class=\"col_heading level0 col4\" >numero_de_suicidios</th>        <th class=\"col_heading level0 col5\" >população</th>    </tr></thead><tbody>\n",
              "                <tr>\n",
              "                        <th id=\"T_bcfb9cc2_c306_11ea_9dcd_0242ac1c0002level0_row0\" class=\"row_heading level0 row0\" >4500</th>\n",
              "                        <td id=\"T_bcfb9cc2_c306_11ea_9dcd_0242ac1c0002row0_col0\" class=\"data row0 col0\" >Brazil</td>\n",
              "                        <td id=\"T_bcfb9cc2_c306_11ea_9dcd_0242ac1c0002row0_col1\" class=\"data row0 col1\" >2012</td>\n",
              "                        <td id=\"T_bcfb9cc2_c306_11ea_9dcd_0242ac1c0002row0_col2\" class=\"data row0 col2\" >male</td>\n",
              "                        <td id=\"T_bcfb9cc2_c306_11ea_9dcd_0242ac1c0002row0_col3\" class=\"data row0 col3\" >15-24 years</td>\n",
              "                        <td id=\"T_bcfb9cc2_c306_11ea_9dcd_0242ac1c0002row0_col4\" class=\"data row0 col4\" >1313</td>\n",
              "                        <td id=\"T_bcfb9cc2_c306_11ea_9dcd_0242ac1c0002row0_col5\" class=\"data row0 col5\" >17644319</td>\n",
              "            </tr>\n",
              "            <tr>\n",
              "                        <th id=\"T_bcfb9cc2_c306_11ea_9dcd_0242ac1c0002level0_row1\" class=\"row_heading level0 row1\" >4506</th>\n",
              "                        <td id=\"T_bcfb9cc2_c306_11ea_9dcd_0242ac1c0002row1_col0\" class=\"data row1 col0\" >Brazil</td>\n",
              "                        <td id=\"T_bcfb9cc2_c306_11ea_9dcd_0242ac1c0002row1_col1\" class=\"data row1 col1\" >2012</td>\n",
              "                        <td id=\"T_bcfb9cc2_c306_11ea_9dcd_0242ac1c0002row1_col2\" class=\"data row1 col2\" >male</td>\n",
              "                        <td id=\"T_bcfb9cc2_c306_11ea_9dcd_0242ac1c0002row1_col3\" class=\"data row1 col3\" >5-14 years</td>\n",
              "                        <td id=\"T_bcfb9cc2_c306_11ea_9dcd_0242ac1c0002row1_col4\" class=\"data row1 col4\" >79</td>\n",
              "                        <td id=\"T_bcfb9cc2_c306_11ea_9dcd_0242ac1c0002row1_col5\" class=\"data row1 col5\" >16810876</td>\n",
              "            </tr>\n",
              "            <tr>\n",
              "                        <th id=\"T_bcfb9cc2_c306_11ea_9dcd_0242ac1c0002level0_row2\" class=\"row_heading level0 row2\" >4508</th>\n",
              "                        <td id=\"T_bcfb9cc2_c306_11ea_9dcd_0242ac1c0002row2_col0\" class=\"data row2 col0\" >Brazil</td>\n",
              "                        <td id=\"T_bcfb9cc2_c306_11ea_9dcd_0242ac1c0002row2_col1\" class=\"data row2 col1\" >2013</td>\n",
              "                        <td id=\"T_bcfb9cc2_c306_11ea_9dcd_0242ac1c0002row2_col2\" class=\"data row2 col2\" >male</td>\n",
              "                        <td id=\"T_bcfb9cc2_c306_11ea_9dcd_0242ac1c0002row2_col3\" class=\"data row2 col3\" >75+ years</td>\n",
              "                        <td id=\"T_bcfb9cc2_c306_11ea_9dcd_0242ac1c0002row2_col4\" class=\"data row2 col4\" >370</td>\n",
              "                        <td id=\"T_bcfb9cc2_c306_11ea_9dcd_0242ac1c0002row2_col5\" class=\"data row2 col5\" >2240434</td>\n",
              "            </tr>\n",
              "            <tr>\n",
              "                        <th id=\"T_bcfb9cc2_c306_11ea_9dcd_0242ac1c0002level0_row3\" class=\"row_heading level0 row3\" >4509</th>\n",
              "                        <td id=\"T_bcfb9cc2_c306_11ea_9dcd_0242ac1c0002row3_col0\" class=\"data row3 col0\" >Brazil</td>\n",
              "                        <td id=\"T_bcfb9cc2_c306_11ea_9dcd_0242ac1c0002row3_col1\" class=\"data row3 col1\" >2013</td>\n",
              "                        <td id=\"T_bcfb9cc2_c306_11ea_9dcd_0242ac1c0002row3_col2\" class=\"data row3 col2\" >male</td>\n",
              "                        <td id=\"T_bcfb9cc2_c306_11ea_9dcd_0242ac1c0002row3_col3\" class=\"data row3 col3\" >55-74 years</td>\n",
              "                        <td id=\"T_bcfb9cc2_c306_11ea_9dcd_0242ac1c0002row3_col4\" class=\"data row3 col4\" >1474</td>\n",
              "                        <td id=\"T_bcfb9cc2_c306_11ea_9dcd_0242ac1c0002row3_col5\" class=\"data row3 col5\" >12036068</td>\n",
              "            </tr>\n",
              "            <tr>\n",
              "                        <th id=\"T_bcfb9cc2_c306_11ea_9dcd_0242ac1c0002level0_row4\" class=\"row_heading level0 row4\" >4510</th>\n",
              "                        <td id=\"T_bcfb9cc2_c306_11ea_9dcd_0242ac1c0002row4_col0\" class=\"data row4 col0\" >Brazil</td>\n",
              "                        <td id=\"T_bcfb9cc2_c306_11ea_9dcd_0242ac1c0002row4_col1\" class=\"data row4 col1\" >2013</td>\n",
              "                        <td id=\"T_bcfb9cc2_c306_11ea_9dcd_0242ac1c0002row4_col2\" class=\"data row4 col2\" >male</td>\n",
              "                        <td id=\"T_bcfb9cc2_c306_11ea_9dcd_0242ac1c0002row4_col3\" class=\"data row4 col3\" >35-54 years</td>\n",
              "                        <td id=\"T_bcfb9cc2_c306_11ea_9dcd_0242ac1c0002row4_col4\" class=\"data row4 col4\" >3053</td>\n",
              "                        <td id=\"T_bcfb9cc2_c306_11ea_9dcd_0242ac1c0002row4_col5\" class=\"data row4 col5\" >25965164</td>\n",
              "            </tr>\n",
              "            <tr>\n",
              "                        <th id=\"T_bcfb9cc2_c306_11ea_9dcd_0242ac1c0002level0_row5\" class=\"row_heading level0 row5\" >4511</th>\n",
              "                        <td id=\"T_bcfb9cc2_c306_11ea_9dcd_0242ac1c0002row5_col0\" class=\"data row5 col0\" >Brazil</td>\n",
              "                        <td id=\"T_bcfb9cc2_c306_11ea_9dcd_0242ac1c0002row5_col1\" class=\"data row5 col1\" >2013</td>\n",
              "                        <td id=\"T_bcfb9cc2_c306_11ea_9dcd_0242ac1c0002row5_col2\" class=\"data row5 col2\" >male</td>\n",
              "                        <td id=\"T_bcfb9cc2_c306_11ea_9dcd_0242ac1c0002row5_col3\" class=\"data row5 col3\" >25-34 years</td>\n",
              "                        <td id=\"T_bcfb9cc2_c306_11ea_9dcd_0242ac1c0002row5_col4\" class=\"data row5 col4\" >2004</td>\n",
              "                        <td id=\"T_bcfb9cc2_c306_11ea_9dcd_0242ac1c0002row5_col5\" class=\"data row5 col5\" >17534209</td>\n",
              "            </tr>\n",
              "            <tr>\n",
              "                        <th id=\"T_bcfb9cc2_c306_11ea_9dcd_0242ac1c0002level0_row6\" class=\"row_heading level0 row6\" >4512</th>\n",
              "                        <td id=\"T_bcfb9cc2_c306_11ea_9dcd_0242ac1c0002row6_col0\" class=\"data row6 col0\" >Brazil</td>\n",
              "                        <td id=\"T_bcfb9cc2_c306_11ea_9dcd_0242ac1c0002row6_col1\" class=\"data row6 col1\" >2013</td>\n",
              "                        <td id=\"T_bcfb9cc2_c306_11ea_9dcd_0242ac1c0002row6_col2\" class=\"data row6 col2\" >male</td>\n",
              "                        <td id=\"T_bcfb9cc2_c306_11ea_9dcd_0242ac1c0002row6_col3\" class=\"data row6 col3\" >15-24 years</td>\n",
              "                        <td id=\"T_bcfb9cc2_c306_11ea_9dcd_0242ac1c0002row6_col4\" class=\"data row6 col4\" >1317</td>\n",
              "                        <td id=\"T_bcfb9cc2_c306_11ea_9dcd_0242ac1c0002row6_col5\" class=\"data row6 col5\" >17627508</td>\n",
              "            </tr>\n",
              "            <tr>\n",
              "                        <th id=\"T_bcfb9cc2_c306_11ea_9dcd_0242ac1c0002level0_row7\" class=\"row_heading level0 row7\" >4518</th>\n",
              "                        <td id=\"T_bcfb9cc2_c306_11ea_9dcd_0242ac1c0002row7_col0\" class=\"data row7 col0\" >Brazil</td>\n",
              "                        <td id=\"T_bcfb9cc2_c306_11ea_9dcd_0242ac1c0002row7_col1\" class=\"data row7 col1\" >2013</td>\n",
              "                        <td id=\"T_bcfb9cc2_c306_11ea_9dcd_0242ac1c0002row7_col2\" class=\"data row7 col2\" >male</td>\n",
              "                        <td id=\"T_bcfb9cc2_c306_11ea_9dcd_0242ac1c0002row7_col3\" class=\"data row7 col3\" >5-14 years</td>\n",
              "                        <td id=\"T_bcfb9cc2_c306_11ea_9dcd_0242ac1c0002row7_col4\" class=\"data row7 col4\" >72</td>\n",
              "                        <td id=\"T_bcfb9cc2_c306_11ea_9dcd_0242ac1c0002row7_col5\" class=\"data row7 col5\" >16555477</td>\n",
              "            </tr>\n",
              "            <tr>\n",
              "                        <th id=\"T_bcfb9cc2_c306_11ea_9dcd_0242ac1c0002level0_row8\" class=\"row_heading level0 row8\" >4520</th>\n",
              "                        <td id=\"T_bcfb9cc2_c306_11ea_9dcd_0242ac1c0002row8_col0\" class=\"data row8 col0\" >Brazil</td>\n",
              "                        <td id=\"T_bcfb9cc2_c306_11ea_9dcd_0242ac1c0002row8_col1\" class=\"data row8 col1\" >2014</td>\n",
              "                        <td id=\"T_bcfb9cc2_c306_11ea_9dcd_0242ac1c0002row8_col2\" class=\"data row8 col2\" >male</td>\n",
              "                        <td id=\"T_bcfb9cc2_c306_11ea_9dcd_0242ac1c0002row8_col3\" class=\"data row8 col3\" >75+ years</td>\n",
              "                        <td id=\"T_bcfb9cc2_c306_11ea_9dcd_0242ac1c0002row8_col4\" class=\"data row8 col4\" >390</td>\n",
              "                        <td id=\"T_bcfb9cc2_c306_11ea_9dcd_0242ac1c0002row8_col5\" class=\"data row8 col5\" >2349303</td>\n",
              "            </tr>\n",
              "            <tr>\n",
              "                        <th id=\"T_bcfb9cc2_c306_11ea_9dcd_0242ac1c0002level0_row9\" class=\"row_heading level0 row9\" >4521</th>\n",
              "                        <td id=\"T_bcfb9cc2_c306_11ea_9dcd_0242ac1c0002row9_col0\" class=\"data row9 col0\" >Brazil</td>\n",
              "                        <td id=\"T_bcfb9cc2_c306_11ea_9dcd_0242ac1c0002row9_col1\" class=\"data row9 col1\" >2014</td>\n",
              "                        <td id=\"T_bcfb9cc2_c306_11ea_9dcd_0242ac1c0002row9_col2\" class=\"data row9 col2\" >male</td>\n",
              "                        <td id=\"T_bcfb9cc2_c306_11ea_9dcd_0242ac1c0002row9_col3\" class=\"data row9 col3\" >55-74 years</td>\n",
              "                        <td id=\"T_bcfb9cc2_c306_11ea_9dcd_0242ac1c0002row9_col4\" class=\"data row9 col4\" >1534</td>\n",
              "                        <td id=\"T_bcfb9cc2_c306_11ea_9dcd_0242ac1c0002row9_col5\" class=\"data row9 col5\" >12492114</td>\n",
              "            </tr>\n",
              "            <tr>\n",
              "                        <th id=\"T_bcfb9cc2_c306_11ea_9dcd_0242ac1c0002level0_row10\" class=\"row_heading level0 row10\" >4522</th>\n",
              "                        <td id=\"T_bcfb9cc2_c306_11ea_9dcd_0242ac1c0002row10_col0\" class=\"data row10 col0\" >Brazil</td>\n",
              "                        <td id=\"T_bcfb9cc2_c306_11ea_9dcd_0242ac1c0002row10_col1\" class=\"data row10 col1\" >2014</td>\n",
              "                        <td id=\"T_bcfb9cc2_c306_11ea_9dcd_0242ac1c0002row10_col2\" class=\"data row10 col2\" >male</td>\n",
              "                        <td id=\"T_bcfb9cc2_c306_11ea_9dcd_0242ac1c0002row10_col3\" class=\"data row10 col3\" >35-54 years</td>\n",
              "                        <td id=\"T_bcfb9cc2_c306_11ea_9dcd_0242ac1c0002row10_col4\" class=\"data row10 col4\" >3050</td>\n",
              "                        <td id=\"T_bcfb9cc2_c306_11ea_9dcd_0242ac1c0002row10_col5\" class=\"data row10 col5\" >26475231</td>\n",
              "            </tr>\n",
              "            <tr>\n",
              "                        <th id=\"T_bcfb9cc2_c306_11ea_9dcd_0242ac1c0002level0_row11\" class=\"row_heading level0 row11\" >4523</th>\n",
              "                        <td id=\"T_bcfb9cc2_c306_11ea_9dcd_0242ac1c0002row11_col0\" class=\"data row11 col0\" >Brazil</td>\n",
              "                        <td id=\"T_bcfb9cc2_c306_11ea_9dcd_0242ac1c0002row11_col1\" class=\"data row11 col1\" >2014</td>\n",
              "                        <td id=\"T_bcfb9cc2_c306_11ea_9dcd_0242ac1c0002row11_col2\" class=\"data row11 col2\" >male</td>\n",
              "                        <td id=\"T_bcfb9cc2_c306_11ea_9dcd_0242ac1c0002row11_col3\" class=\"data row11 col3\" >25-34 years</td>\n",
              "                        <td id=\"T_bcfb9cc2_c306_11ea_9dcd_0242ac1c0002row11_col4\" class=\"data row11 col4\" >1982</td>\n",
              "                        <td id=\"T_bcfb9cc2_c306_11ea_9dcd_0242ac1c0002row11_col5\" class=\"data row11 col5\" >17601477</td>\n",
              "            </tr>\n",
              "            <tr>\n",
              "                        <th id=\"T_bcfb9cc2_c306_11ea_9dcd_0242ac1c0002level0_row12\" class=\"row_heading level0 row12\" >4524</th>\n",
              "                        <td id=\"T_bcfb9cc2_c306_11ea_9dcd_0242ac1c0002row12_col0\" class=\"data row12 col0\" >Brazil</td>\n",
              "                        <td id=\"T_bcfb9cc2_c306_11ea_9dcd_0242ac1c0002row12_col1\" class=\"data row12 col1\" >2014</td>\n",
              "                        <td id=\"T_bcfb9cc2_c306_11ea_9dcd_0242ac1c0002row12_col2\" class=\"data row12 col2\" >male</td>\n",
              "                        <td id=\"T_bcfb9cc2_c306_11ea_9dcd_0242ac1c0002row12_col3\" class=\"data row12 col3\" >15-24 years</td>\n",
              "                        <td id=\"T_bcfb9cc2_c306_11ea_9dcd_0242ac1c0002row12_col4\" class=\"data row12 col4\" >1358</td>\n",
              "                        <td id=\"T_bcfb9cc2_c306_11ea_9dcd_0242ac1c0002row12_col5\" class=\"data row12 col5\" >17606681</td>\n",
              "            </tr>\n",
              "            <tr>\n",
              "                        <th id=\"T_bcfb9cc2_c306_11ea_9dcd_0242ac1c0002level0_row13\" class=\"row_heading level0 row13\" >4530</th>\n",
              "                        <td id=\"T_bcfb9cc2_c306_11ea_9dcd_0242ac1c0002row13_col0\" class=\"data row13 col0\" >Brazil</td>\n",
              "                        <td id=\"T_bcfb9cc2_c306_11ea_9dcd_0242ac1c0002row13_col1\" class=\"data row13 col1\" >2014</td>\n",
              "                        <td id=\"T_bcfb9cc2_c306_11ea_9dcd_0242ac1c0002row13_col2\" class=\"data row13 col2\" >male</td>\n",
              "                        <td id=\"T_bcfb9cc2_c306_11ea_9dcd_0242ac1c0002row13_col3\" class=\"data row13 col3\" >5-14 years</td>\n",
              "                        <td id=\"T_bcfb9cc2_c306_11ea_9dcd_0242ac1c0002row13_col4\" class=\"data row13 col4\" >84</td>\n",
              "                        <td id=\"T_bcfb9cc2_c306_11ea_9dcd_0242ac1c0002row13_col5\" class=\"data row13 col5\" >16299015</td>\n",
              "            </tr>\n",
              "            <tr>\n",
              "                        <th id=\"T_bcfb9cc2_c306_11ea_9dcd_0242ac1c0002level0_row14\" class=\"row_heading level0 row14\" >4532</th>\n",
              "                        <td id=\"T_bcfb9cc2_c306_11ea_9dcd_0242ac1c0002row14_col0\" class=\"data row14 col0\" >Brazil</td>\n",
              "                        <td id=\"T_bcfb9cc2_c306_11ea_9dcd_0242ac1c0002row14_col1\" class=\"data row14 col1\" >2015</td>\n",
              "                        <td id=\"T_bcfb9cc2_c306_11ea_9dcd_0242ac1c0002row14_col2\" class=\"data row14 col2\" >male</td>\n",
              "                        <td id=\"T_bcfb9cc2_c306_11ea_9dcd_0242ac1c0002row14_col3\" class=\"data row14 col3\" >75+ years</td>\n",
              "                        <td id=\"T_bcfb9cc2_c306_11ea_9dcd_0242ac1c0002row14_col4\" class=\"data row14 col4\" >470</td>\n",
              "                        <td id=\"T_bcfb9cc2_c306_11ea_9dcd_0242ac1c0002row14_col5\" class=\"data row14 col5\" >2448560</td>\n",
              "            </tr>\n",
              "            <tr>\n",
              "                        <th id=\"T_bcfb9cc2_c306_11ea_9dcd_0242ac1c0002level0_row15\" class=\"row_heading level0 row15\" >4533</th>\n",
              "                        <td id=\"T_bcfb9cc2_c306_11ea_9dcd_0242ac1c0002row15_col0\" class=\"data row15 col0\" >Brazil</td>\n",
              "                        <td id=\"T_bcfb9cc2_c306_11ea_9dcd_0242ac1c0002row15_col1\" class=\"data row15 col1\" >2015</td>\n",
              "                        <td id=\"T_bcfb9cc2_c306_11ea_9dcd_0242ac1c0002row15_col2\" class=\"data row15 col2\" >male</td>\n",
              "                        <td id=\"T_bcfb9cc2_c306_11ea_9dcd_0242ac1c0002row15_col3\" class=\"data row15 col3\" >55-74 years</td>\n",
              "                        <td id=\"T_bcfb9cc2_c306_11ea_9dcd_0242ac1c0002row15_col4\" class=\"data row15 col4\" >1693</td>\n",
              "                        <td id=\"T_bcfb9cc2_c306_11ea_9dcd_0242ac1c0002row15_col5\" class=\"data row15 col5\" >12987357</td>\n",
              "            </tr>\n",
              "            <tr>\n",
              "                        <th id=\"T_bcfb9cc2_c306_11ea_9dcd_0242ac1c0002level0_row16\" class=\"row_heading level0 row16\" >4534</th>\n",
              "                        <td id=\"T_bcfb9cc2_c306_11ea_9dcd_0242ac1c0002row16_col0\" class=\"data row16 col0\" >Brazil</td>\n",
              "                        <td id=\"T_bcfb9cc2_c306_11ea_9dcd_0242ac1c0002row16_col1\" class=\"data row16 col1\" >2015</td>\n",
              "                        <td id=\"T_bcfb9cc2_c306_11ea_9dcd_0242ac1c0002row16_col2\" class=\"data row16 col2\" >male</td>\n",
              "                        <td id=\"T_bcfb9cc2_c306_11ea_9dcd_0242ac1c0002row16_col3\" class=\"data row16 col3\" >35-54 years</td>\n",
              "                        <td id=\"T_bcfb9cc2_c306_11ea_9dcd_0242ac1c0002row16_col4\" class=\"data row16 col4\" >3238</td>\n",
              "                        <td id=\"T_bcfb9cc2_c306_11ea_9dcd_0242ac1c0002row16_col5\" class=\"data row16 col5\" >26989063</td>\n",
              "            </tr>\n",
              "            <tr>\n",
              "                        <th id=\"T_bcfb9cc2_c306_11ea_9dcd_0242ac1c0002level0_row17\" class=\"row_heading level0 row17\" >4535</th>\n",
              "                        <td id=\"T_bcfb9cc2_c306_11ea_9dcd_0242ac1c0002row17_col0\" class=\"data row17 col0\" >Brazil</td>\n",
              "                        <td id=\"T_bcfb9cc2_c306_11ea_9dcd_0242ac1c0002row17_col1\" class=\"data row17 col1\" >2015</td>\n",
              "                        <td id=\"T_bcfb9cc2_c306_11ea_9dcd_0242ac1c0002row17_col2\" class=\"data row17 col2\" >male</td>\n",
              "                        <td id=\"T_bcfb9cc2_c306_11ea_9dcd_0242ac1c0002row17_col3\" class=\"data row17 col3\" >25-34 years</td>\n",
              "                        <td id=\"T_bcfb9cc2_c306_11ea_9dcd_0242ac1c0002row17_col4\" class=\"data row17 col4\" >1897</td>\n",
              "                        <td id=\"T_bcfb9cc2_c306_11ea_9dcd_0242ac1c0002row17_col5\" class=\"data row17 col5\" >17625976</td>\n",
              "            </tr>\n",
              "            <tr>\n",
              "                        <th id=\"T_bcfb9cc2_c306_11ea_9dcd_0242ac1c0002level0_row18\" class=\"row_heading level0 row18\" >4536</th>\n",
              "                        <td id=\"T_bcfb9cc2_c306_11ea_9dcd_0242ac1c0002row18_col0\" class=\"data row18 col0\" >Brazil</td>\n",
              "                        <td id=\"T_bcfb9cc2_c306_11ea_9dcd_0242ac1c0002row18_col1\" class=\"data row18 col1\" >2015</td>\n",
              "                        <td id=\"T_bcfb9cc2_c306_11ea_9dcd_0242ac1c0002row18_col2\" class=\"data row18 col2\" >male</td>\n",
              "                        <td id=\"T_bcfb9cc2_c306_11ea_9dcd_0242ac1c0002row18_col3\" class=\"data row18 col3\" >15-24 years</td>\n",
              "                        <td id=\"T_bcfb9cc2_c306_11ea_9dcd_0242ac1c0002row18_col4\" class=\"data row18 col4\" >1389</td>\n",
              "                        <td id=\"T_bcfb9cc2_c306_11ea_9dcd_0242ac1c0002row18_col5\" class=\"data row18 col5\" >17569045</td>\n",
              "            </tr>\n",
              "            <tr>\n",
              "                        <th id=\"T_bcfb9cc2_c306_11ea_9dcd_0242ac1c0002level0_row19\" class=\"row_heading level0 row19\" >4542</th>\n",
              "                        <td id=\"T_bcfb9cc2_c306_11ea_9dcd_0242ac1c0002row19_col0\" class=\"data row19 col0\" >Brazil</td>\n",
              "                        <td id=\"T_bcfb9cc2_c306_11ea_9dcd_0242ac1c0002row19_col1\" class=\"data row19 col1\" >2015</td>\n",
              "                        <td id=\"T_bcfb9cc2_c306_11ea_9dcd_0242ac1c0002row19_col2\" class=\"data row19 col2\" >male</td>\n",
              "                        <td id=\"T_bcfb9cc2_c306_11ea_9dcd_0242ac1c0002row19_col3\" class=\"data row19 col3\" >5-14 years</td>\n",
              "                        <td id=\"T_bcfb9cc2_c306_11ea_9dcd_0242ac1c0002row19_col4\" class=\"data row19 col4\" >79</td>\n",
              "                        <td id=\"T_bcfb9cc2_c306_11ea_9dcd_0242ac1c0002row19_col5\" class=\"data row19 col5\" >16057040</td>\n",
              "            </tr>\n",
              "    </tbody></table>"
            ],
            "text/plain": [
              "<pandas.io.formats.style.Styler at 0x7fdd71427eb8>"
            ]
          },
          "metadata": {
            "tags": []
          },
          "execution_count": 18
        }
      ]
    },
    {
      "cell_type": "code",
      "metadata": {
        "id": "3ditbKX2Rc9M",
        "colab_type": "code",
        "colab": {
          "base_uri": "https://localhost:8080/",
          "height": 460
        },
        "outputId": "e1a69623-2c90-477b-fb2e-332cc304b846"
      },
      "source": [
        "# Menor taxa de mortes entre homens\n",
        "dados_homens_brasileiros.head(20).style.highlight_min(subset=\"numero_de_suicidios\", color=\"#3cd0e0\")"
      ],
      "execution_count": 19,
      "outputs": [
        {
          "output_type": "execute_result",
          "data": {
            "text/html": [
              "<style  type=\"text/css\" >\n",
              "    #T_bd00d674_c306_11ea_9dcd_0242ac1c0002row11_col4 {\n",
              "            background-color:  #3cd0e0;\n",
              "        }</style><table id=\"T_bd00d674_c306_11ea_9dcd_0242ac1c0002\" ><thead>    <tr>        <th class=\"blank level0\" ></th>        <th class=\"col_heading level0 col0\" >país</th>        <th class=\"col_heading level0 col1\" >ano</th>        <th class=\"col_heading level0 col2\" >genero</th>        <th class=\"col_heading level0 col3\" >idade</th>        <th class=\"col_heading level0 col4\" >numero_de_suicidios</th>        <th class=\"col_heading level0 col5\" >população</th>    </tr></thead><tbody>\n",
              "                <tr>\n",
              "                        <th id=\"T_bd00d674_c306_11ea_9dcd_0242ac1c0002level0_row0\" class=\"row_heading level0 row0\" >4172</th>\n",
              "                        <td id=\"T_bd00d674_c306_11ea_9dcd_0242ac1c0002row0_col0\" class=\"data row0 col0\" >Brazil</td>\n",
              "                        <td id=\"T_bd00d674_c306_11ea_9dcd_0242ac1c0002row0_col1\" class=\"data row0 col1\" >1985</td>\n",
              "                        <td id=\"T_bd00d674_c306_11ea_9dcd_0242ac1c0002row0_col2\" class=\"data row0 col2\" >male</td>\n",
              "                        <td id=\"T_bd00d674_c306_11ea_9dcd_0242ac1c0002row0_col3\" class=\"data row0 col3\" >75+ years</td>\n",
              "                        <td id=\"T_bd00d674_c306_11ea_9dcd_0242ac1c0002row0_col4\" class=\"data row0 col4\" >129</td>\n",
              "                        <td id=\"T_bd00d674_c306_11ea_9dcd_0242ac1c0002row0_col5\" class=\"data row0 col5\" >840300</td>\n",
              "            </tr>\n",
              "            <tr>\n",
              "                        <th id=\"T_bd00d674_c306_11ea_9dcd_0242ac1c0002level0_row1\" class=\"row_heading level0 row1\" >4173</th>\n",
              "                        <td id=\"T_bd00d674_c306_11ea_9dcd_0242ac1c0002row1_col0\" class=\"data row1 col0\" >Brazil</td>\n",
              "                        <td id=\"T_bd00d674_c306_11ea_9dcd_0242ac1c0002row1_col1\" class=\"data row1 col1\" >1985</td>\n",
              "                        <td id=\"T_bd00d674_c306_11ea_9dcd_0242ac1c0002row1_col2\" class=\"data row1 col2\" >male</td>\n",
              "                        <td id=\"T_bd00d674_c306_11ea_9dcd_0242ac1c0002row1_col3\" class=\"data row1 col3\" >55-74 years</td>\n",
              "                        <td id=\"T_bd00d674_c306_11ea_9dcd_0242ac1c0002row1_col4\" class=\"data row1 col4\" >535</td>\n",
              "                        <td id=\"T_bd00d674_c306_11ea_9dcd_0242ac1c0002row1_col5\" class=\"data row1 col5\" >5364900</td>\n",
              "            </tr>\n",
              "            <tr>\n",
              "                        <th id=\"T_bd00d674_c306_11ea_9dcd_0242ac1c0002level0_row2\" class=\"row_heading level0 row2\" >4174</th>\n",
              "                        <td id=\"T_bd00d674_c306_11ea_9dcd_0242ac1c0002row2_col0\" class=\"data row2 col0\" >Brazil</td>\n",
              "                        <td id=\"T_bd00d674_c306_11ea_9dcd_0242ac1c0002row2_col1\" class=\"data row2 col1\" >1985</td>\n",
              "                        <td id=\"T_bd00d674_c306_11ea_9dcd_0242ac1c0002row2_col2\" class=\"data row2 col2\" >male</td>\n",
              "                        <td id=\"T_bd00d674_c306_11ea_9dcd_0242ac1c0002row2_col3\" class=\"data row2 col3\" >35-54 years</td>\n",
              "                        <td id=\"T_bd00d674_c306_11ea_9dcd_0242ac1c0002row2_col4\" class=\"data row2 col4\" >1011</td>\n",
              "                        <td id=\"T_bd00d674_c306_11ea_9dcd_0242ac1c0002row2_col5\" class=\"data row2 col5\" >11986300</td>\n",
              "            </tr>\n",
              "            <tr>\n",
              "                        <th id=\"T_bd00d674_c306_11ea_9dcd_0242ac1c0002level0_row3\" class=\"row_heading level0 row3\" >4175</th>\n",
              "                        <td id=\"T_bd00d674_c306_11ea_9dcd_0242ac1c0002row3_col0\" class=\"data row3 col0\" >Brazil</td>\n",
              "                        <td id=\"T_bd00d674_c306_11ea_9dcd_0242ac1c0002row3_col1\" class=\"data row3 col1\" >1985</td>\n",
              "                        <td id=\"T_bd00d674_c306_11ea_9dcd_0242ac1c0002row3_col2\" class=\"data row3 col2\" >male</td>\n",
              "                        <td id=\"T_bd00d674_c306_11ea_9dcd_0242ac1c0002row3_col3\" class=\"data row3 col3\" >25-34 years</td>\n",
              "                        <td id=\"T_bd00d674_c306_11ea_9dcd_0242ac1c0002row3_col4\" class=\"data row3 col4\" >791</td>\n",
              "                        <td id=\"T_bd00d674_c306_11ea_9dcd_0242ac1c0002row3_col5\" class=\"data row3 col5\" >10762900</td>\n",
              "            </tr>\n",
              "            <tr>\n",
              "                        <th id=\"T_bd00d674_c306_11ea_9dcd_0242ac1c0002level0_row4\" class=\"row_heading level0 row4\" >4176</th>\n",
              "                        <td id=\"T_bd00d674_c306_11ea_9dcd_0242ac1c0002row4_col0\" class=\"data row4 col0\" >Brazil</td>\n",
              "                        <td id=\"T_bd00d674_c306_11ea_9dcd_0242ac1c0002row4_col1\" class=\"data row4 col1\" >1985</td>\n",
              "                        <td id=\"T_bd00d674_c306_11ea_9dcd_0242ac1c0002row4_col2\" class=\"data row4 col2\" >male</td>\n",
              "                        <td id=\"T_bd00d674_c306_11ea_9dcd_0242ac1c0002row4_col3\" class=\"data row4 col3\" >15-24 years</td>\n",
              "                        <td id=\"T_bd00d674_c306_11ea_9dcd_0242ac1c0002row4_col4\" class=\"data row4 col4\" >661</td>\n",
              "                        <td id=\"T_bd00d674_c306_11ea_9dcd_0242ac1c0002row4_col5\" class=\"data row4 col5\" >13834000</td>\n",
              "            </tr>\n",
              "            <tr>\n",
              "                        <th id=\"T_bd00d674_c306_11ea_9dcd_0242ac1c0002level0_row5\" class=\"row_heading level0 row5\" >4183</th>\n",
              "                        <td id=\"T_bd00d674_c306_11ea_9dcd_0242ac1c0002row5_col0\" class=\"data row5 col0\" >Brazil</td>\n",
              "                        <td id=\"T_bd00d674_c306_11ea_9dcd_0242ac1c0002row5_col1\" class=\"data row5 col1\" >1985</td>\n",
              "                        <td id=\"T_bd00d674_c306_11ea_9dcd_0242ac1c0002row5_col2\" class=\"data row5 col2\" >male</td>\n",
              "                        <td id=\"T_bd00d674_c306_11ea_9dcd_0242ac1c0002row5_col3\" class=\"data row5 col3\" >5-14 years</td>\n",
              "                        <td id=\"T_bd00d674_c306_11ea_9dcd_0242ac1c0002row5_col4\" class=\"data row5 col4\" >35</td>\n",
              "                        <td id=\"T_bd00d674_c306_11ea_9dcd_0242ac1c0002row5_col5\" class=\"data row5 col5\" >15693700</td>\n",
              "            </tr>\n",
              "            <tr>\n",
              "                        <th id=\"T_bd00d674_c306_11ea_9dcd_0242ac1c0002level0_row6\" class=\"row_heading level0 row6\" >4184</th>\n",
              "                        <td id=\"T_bd00d674_c306_11ea_9dcd_0242ac1c0002row6_col0\" class=\"data row6 col0\" >Brazil</td>\n",
              "                        <td id=\"T_bd00d674_c306_11ea_9dcd_0242ac1c0002row6_col1\" class=\"data row6 col1\" >1986</td>\n",
              "                        <td id=\"T_bd00d674_c306_11ea_9dcd_0242ac1c0002row6_col2\" class=\"data row6 col2\" >male</td>\n",
              "                        <td id=\"T_bd00d674_c306_11ea_9dcd_0242ac1c0002row6_col3\" class=\"data row6 col3\" >75+ years</td>\n",
              "                        <td id=\"T_bd00d674_c306_11ea_9dcd_0242ac1c0002row6_col4\" class=\"data row6 col4\" >103</td>\n",
              "                        <td id=\"T_bd00d674_c306_11ea_9dcd_0242ac1c0002row6_col5\" class=\"data row6 col5\" >823700</td>\n",
              "            </tr>\n",
              "            <tr>\n",
              "                        <th id=\"T_bd00d674_c306_11ea_9dcd_0242ac1c0002level0_row7\" class=\"row_heading level0 row7\" >4185</th>\n",
              "                        <td id=\"T_bd00d674_c306_11ea_9dcd_0242ac1c0002row7_col0\" class=\"data row7 col0\" >Brazil</td>\n",
              "                        <td id=\"T_bd00d674_c306_11ea_9dcd_0242ac1c0002row7_col1\" class=\"data row7 col1\" >1986</td>\n",
              "                        <td id=\"T_bd00d674_c306_11ea_9dcd_0242ac1c0002row7_col2\" class=\"data row7 col2\" >male</td>\n",
              "                        <td id=\"T_bd00d674_c306_11ea_9dcd_0242ac1c0002row7_col3\" class=\"data row7 col3\" >55-74 years</td>\n",
              "                        <td id=\"T_bd00d674_c306_11ea_9dcd_0242ac1c0002row7_col4\" class=\"data row7 col4\" >581</td>\n",
              "                        <td id=\"T_bd00d674_c306_11ea_9dcd_0242ac1c0002row7_col5\" class=\"data row7 col5\" >5492100</td>\n",
              "            </tr>\n",
              "            <tr>\n",
              "                        <th id=\"T_bd00d674_c306_11ea_9dcd_0242ac1c0002level0_row8\" class=\"row_heading level0 row8\" >4186</th>\n",
              "                        <td id=\"T_bd00d674_c306_11ea_9dcd_0242ac1c0002row8_col0\" class=\"data row8 col0\" >Brazil</td>\n",
              "                        <td id=\"T_bd00d674_c306_11ea_9dcd_0242ac1c0002row8_col1\" class=\"data row8 col1\" >1986</td>\n",
              "                        <td id=\"T_bd00d674_c306_11ea_9dcd_0242ac1c0002row8_col2\" class=\"data row8 col2\" >male</td>\n",
              "                        <td id=\"T_bd00d674_c306_11ea_9dcd_0242ac1c0002row8_col3\" class=\"data row8 col3\" >35-54 years</td>\n",
              "                        <td id=\"T_bd00d674_c306_11ea_9dcd_0242ac1c0002row8_col4\" class=\"data row8 col4\" >967</td>\n",
              "                        <td id=\"T_bd00d674_c306_11ea_9dcd_0242ac1c0002row8_col5\" class=\"data row8 col5\" >12396000</td>\n",
              "            </tr>\n",
              "            <tr>\n",
              "                        <th id=\"T_bd00d674_c306_11ea_9dcd_0242ac1c0002level0_row9\" class=\"row_heading level0 row9\" >4187</th>\n",
              "                        <td id=\"T_bd00d674_c306_11ea_9dcd_0242ac1c0002row9_col0\" class=\"data row9 col0\" >Brazil</td>\n",
              "                        <td id=\"T_bd00d674_c306_11ea_9dcd_0242ac1c0002row9_col1\" class=\"data row9 col1\" >1986</td>\n",
              "                        <td id=\"T_bd00d674_c306_11ea_9dcd_0242ac1c0002row9_col2\" class=\"data row9 col2\" >male</td>\n",
              "                        <td id=\"T_bd00d674_c306_11ea_9dcd_0242ac1c0002row9_col3\" class=\"data row9 col3\" >25-34 years</td>\n",
              "                        <td id=\"T_bd00d674_c306_11ea_9dcd_0242ac1c0002row9_col4\" class=\"data row9 col4\" >754</td>\n",
              "                        <td id=\"T_bd00d674_c306_11ea_9dcd_0242ac1c0002row9_col5\" class=\"data row9 col5\" >9895200</td>\n",
              "            </tr>\n",
              "            <tr>\n",
              "                        <th id=\"T_bd00d674_c306_11ea_9dcd_0242ac1c0002level0_row10\" class=\"row_heading level0 row10\" >4188</th>\n",
              "                        <td id=\"T_bd00d674_c306_11ea_9dcd_0242ac1c0002row10_col0\" class=\"data row10 col0\" >Brazil</td>\n",
              "                        <td id=\"T_bd00d674_c306_11ea_9dcd_0242ac1c0002row10_col1\" class=\"data row10 col1\" >1986</td>\n",
              "                        <td id=\"T_bd00d674_c306_11ea_9dcd_0242ac1c0002row10_col2\" class=\"data row10 col2\" >male</td>\n",
              "                        <td id=\"T_bd00d674_c306_11ea_9dcd_0242ac1c0002row10_col3\" class=\"data row10 col3\" >15-24 years</td>\n",
              "                        <td id=\"T_bd00d674_c306_11ea_9dcd_0242ac1c0002row10_col4\" class=\"data row10 col4\" >685</td>\n",
              "                        <td id=\"T_bd00d674_c306_11ea_9dcd_0242ac1c0002row10_col5\" class=\"data row10 col5\" >13347500</td>\n",
              "            </tr>\n",
              "            <tr>\n",
              "                        <th id=\"T_bd00d674_c306_11ea_9dcd_0242ac1c0002level0_row11\" class=\"row_heading level0 row11\" >4195</th>\n",
              "                        <td id=\"T_bd00d674_c306_11ea_9dcd_0242ac1c0002row11_col0\" class=\"data row11 col0\" >Brazil</td>\n",
              "                        <td id=\"T_bd00d674_c306_11ea_9dcd_0242ac1c0002row11_col1\" class=\"data row11 col1\" >1986</td>\n",
              "                        <td id=\"T_bd00d674_c306_11ea_9dcd_0242ac1c0002row11_col2\" class=\"data row11 col2\" >male</td>\n",
              "                        <td id=\"T_bd00d674_c306_11ea_9dcd_0242ac1c0002row11_col3\" class=\"data row11 col3\" >5-14 years</td>\n",
              "                        <td id=\"T_bd00d674_c306_11ea_9dcd_0242ac1c0002row11_col4\" class=\"data row11 col4\" >27</td>\n",
              "                        <td id=\"T_bd00d674_c306_11ea_9dcd_0242ac1c0002row11_col5\" class=\"data row11 col5\" >16323800</td>\n",
              "            </tr>\n",
              "            <tr>\n",
              "                        <th id=\"T_bd00d674_c306_11ea_9dcd_0242ac1c0002level0_row12\" class=\"row_heading level0 row12\" >4196</th>\n",
              "                        <td id=\"T_bd00d674_c306_11ea_9dcd_0242ac1c0002row12_col0\" class=\"data row12 col0\" >Brazil</td>\n",
              "                        <td id=\"T_bd00d674_c306_11ea_9dcd_0242ac1c0002row12_col1\" class=\"data row12 col1\" >1987</td>\n",
              "                        <td id=\"T_bd00d674_c306_11ea_9dcd_0242ac1c0002row12_col2\" class=\"data row12 col2\" >male</td>\n",
              "                        <td id=\"T_bd00d674_c306_11ea_9dcd_0242ac1c0002row12_col3\" class=\"data row12 col3\" >75+ years</td>\n",
              "                        <td id=\"T_bd00d674_c306_11ea_9dcd_0242ac1c0002row12_col4\" class=\"data row12 col4\" >149</td>\n",
              "                        <td id=\"T_bd00d674_c306_11ea_9dcd_0242ac1c0002row12_col5\" class=\"data row12 col5\" >655621</td>\n",
              "            </tr>\n",
              "            <tr>\n",
              "                        <th id=\"T_bd00d674_c306_11ea_9dcd_0242ac1c0002level0_row13\" class=\"row_heading level0 row13\" >4197</th>\n",
              "                        <td id=\"T_bd00d674_c306_11ea_9dcd_0242ac1c0002row13_col0\" class=\"data row13 col0\" >Brazil</td>\n",
              "                        <td id=\"T_bd00d674_c306_11ea_9dcd_0242ac1c0002row13_col1\" class=\"data row13 col1\" >1987</td>\n",
              "                        <td id=\"T_bd00d674_c306_11ea_9dcd_0242ac1c0002row13_col2\" class=\"data row13 col2\" >male</td>\n",
              "                        <td id=\"T_bd00d674_c306_11ea_9dcd_0242ac1c0002row13_col3\" class=\"data row13 col3\" >55-74 years</td>\n",
              "                        <td id=\"T_bd00d674_c306_11ea_9dcd_0242ac1c0002row13_col4\" class=\"data row13 col4\" >647</td>\n",
              "                        <td id=\"T_bd00d674_c306_11ea_9dcd_0242ac1c0002row13_col5\" class=\"data row13 col5\" >5163568</td>\n",
              "            </tr>\n",
              "            <tr>\n",
              "                        <th id=\"T_bd00d674_c306_11ea_9dcd_0242ac1c0002level0_row14\" class=\"row_heading level0 row14\" >4198</th>\n",
              "                        <td id=\"T_bd00d674_c306_11ea_9dcd_0242ac1c0002row14_col0\" class=\"data row14 col0\" >Brazil</td>\n",
              "                        <td id=\"T_bd00d674_c306_11ea_9dcd_0242ac1c0002row14_col1\" class=\"data row14 col1\" >1987</td>\n",
              "                        <td id=\"T_bd00d674_c306_11ea_9dcd_0242ac1c0002row14_col2\" class=\"data row14 col2\" >male</td>\n",
              "                        <td id=\"T_bd00d674_c306_11ea_9dcd_0242ac1c0002row14_col3\" class=\"data row14 col3\" >35-54 years</td>\n",
              "                        <td id=\"T_bd00d674_c306_11ea_9dcd_0242ac1c0002row14_col4\" class=\"data row14 col4\" >1100</td>\n",
              "                        <td id=\"T_bd00d674_c306_11ea_9dcd_0242ac1c0002row14_col5\" class=\"data row14 col5\" >12796733</td>\n",
              "            </tr>\n",
              "            <tr>\n",
              "                        <th id=\"T_bd00d674_c306_11ea_9dcd_0242ac1c0002level0_row15\" class=\"row_heading level0 row15\" >4199</th>\n",
              "                        <td id=\"T_bd00d674_c306_11ea_9dcd_0242ac1c0002row15_col0\" class=\"data row15 col0\" >Brazil</td>\n",
              "                        <td id=\"T_bd00d674_c306_11ea_9dcd_0242ac1c0002row15_col1\" class=\"data row15 col1\" >1987</td>\n",
              "                        <td id=\"T_bd00d674_c306_11ea_9dcd_0242ac1c0002row15_col2\" class=\"data row15 col2\" >male</td>\n",
              "                        <td id=\"T_bd00d674_c306_11ea_9dcd_0242ac1c0002row15_col3\" class=\"data row15 col3\" >25-34 years</td>\n",
              "                        <td id=\"T_bd00d674_c306_11ea_9dcd_0242ac1c0002row15_col4\" class=\"data row15 col4\" >865</td>\n",
              "                        <td id=\"T_bd00d674_c306_11ea_9dcd_0242ac1c0002row15_col5\" class=\"data row15 col5\" >11266240</td>\n",
              "            </tr>\n",
              "            <tr>\n",
              "                        <th id=\"T_bd00d674_c306_11ea_9dcd_0242ac1c0002level0_row16\" class=\"row_heading level0 row16\" >4200</th>\n",
              "                        <td id=\"T_bd00d674_c306_11ea_9dcd_0242ac1c0002row16_col0\" class=\"data row16 col0\" >Brazil</td>\n",
              "                        <td id=\"T_bd00d674_c306_11ea_9dcd_0242ac1c0002row16_col1\" class=\"data row16 col1\" >1987</td>\n",
              "                        <td id=\"T_bd00d674_c306_11ea_9dcd_0242ac1c0002row16_col2\" class=\"data row16 col2\" >male</td>\n",
              "                        <td id=\"T_bd00d674_c306_11ea_9dcd_0242ac1c0002row16_col3\" class=\"data row16 col3\" >15-24 years</td>\n",
              "                        <td id=\"T_bd00d674_c306_11ea_9dcd_0242ac1c0002row16_col4\" class=\"data row16 col4\" >713</td>\n",
              "                        <td id=\"T_bd00d674_c306_11ea_9dcd_0242ac1c0002row16_col5\" class=\"data row16 col5\" >14119488</td>\n",
              "            </tr>\n",
              "            <tr>\n",
              "                        <th id=\"T_bd00d674_c306_11ea_9dcd_0242ac1c0002level0_row17\" class=\"row_heading level0 row17\" >4206</th>\n",
              "                        <td id=\"T_bd00d674_c306_11ea_9dcd_0242ac1c0002row17_col0\" class=\"data row17 col0\" >Brazil</td>\n",
              "                        <td id=\"T_bd00d674_c306_11ea_9dcd_0242ac1c0002row17_col1\" class=\"data row17 col1\" >1987</td>\n",
              "                        <td id=\"T_bd00d674_c306_11ea_9dcd_0242ac1c0002row17_col2\" class=\"data row17 col2\" >male</td>\n",
              "                        <td id=\"T_bd00d674_c306_11ea_9dcd_0242ac1c0002row17_col3\" class=\"data row17 col3\" >5-14 years</td>\n",
              "                        <td id=\"T_bd00d674_c306_11ea_9dcd_0242ac1c0002row17_col4\" class=\"data row17 col4\" >35</td>\n",
              "                        <td id=\"T_bd00d674_c306_11ea_9dcd_0242ac1c0002row17_col5\" class=\"data row17 col5\" >16751806</td>\n",
              "            </tr>\n",
              "            <tr>\n",
              "                        <th id=\"T_bd00d674_c306_11ea_9dcd_0242ac1c0002level0_row18\" class=\"row_heading level0 row18\" >4208</th>\n",
              "                        <td id=\"T_bd00d674_c306_11ea_9dcd_0242ac1c0002row18_col0\" class=\"data row18 col0\" >Brazil</td>\n",
              "                        <td id=\"T_bd00d674_c306_11ea_9dcd_0242ac1c0002row18_col1\" class=\"data row18 col1\" >1988</td>\n",
              "                        <td id=\"T_bd00d674_c306_11ea_9dcd_0242ac1c0002row18_col2\" class=\"data row18 col2\" >male</td>\n",
              "                        <td id=\"T_bd00d674_c306_11ea_9dcd_0242ac1c0002row18_col3\" class=\"data row18 col3\" >75+ years</td>\n",
              "                        <td id=\"T_bd00d674_c306_11ea_9dcd_0242ac1c0002row18_col4\" class=\"data row18 col4\" >135</td>\n",
              "                        <td id=\"T_bd00d674_c306_11ea_9dcd_0242ac1c0002row18_col5\" class=\"data row18 col5\" >675564</td>\n",
              "            </tr>\n",
              "            <tr>\n",
              "                        <th id=\"T_bd00d674_c306_11ea_9dcd_0242ac1c0002level0_row19\" class=\"row_heading level0 row19\" >4209</th>\n",
              "                        <td id=\"T_bd00d674_c306_11ea_9dcd_0242ac1c0002row19_col0\" class=\"data row19 col0\" >Brazil</td>\n",
              "                        <td id=\"T_bd00d674_c306_11ea_9dcd_0242ac1c0002row19_col1\" class=\"data row19 col1\" >1988</td>\n",
              "                        <td id=\"T_bd00d674_c306_11ea_9dcd_0242ac1c0002row19_col2\" class=\"data row19 col2\" >male</td>\n",
              "                        <td id=\"T_bd00d674_c306_11ea_9dcd_0242ac1c0002row19_col3\" class=\"data row19 col3\" >55-74 years</td>\n",
              "                        <td id=\"T_bd00d674_c306_11ea_9dcd_0242ac1c0002row19_col4\" class=\"data row19 col4\" >530</td>\n",
              "                        <td id=\"T_bd00d674_c306_11ea_9dcd_0242ac1c0002row19_col5\" class=\"data row19 col5\" >5281479</td>\n",
              "            </tr>\n",
              "    </tbody></table>"
            ],
            "text/plain": [
              "<pandas.io.formats.style.Styler at 0x7fdd71162eb8>"
            ]
          },
          "metadata": {
            "tags": []
          },
          "execution_count": 19
        }
      ]
    },
    {
      "cell_type": "code",
      "metadata": {
        "id": "c0Zn2gZT_pum",
        "colab_type": "code",
        "colab": {
          "base_uri": "https://localhost:8080/",
          "height": 386
        },
        "outputId": "23b14385-650f-45c0-85a3-ca94c8191d75"
      },
      "source": [
        "sns.catplot(x=\"numero_de_suicidios\", y=\"idade\",palette='winter', kind='bar',\n",
        "           data=dados_homens_brasileiros)"
      ],
      "execution_count": 47,
      "outputs": [
        {
          "output_type": "execute_result",
          "data": {
            "text/plain": [
              "<seaborn.axisgrid.FacetGrid at 0x7fdd68379dd8>"
            ]
          },
          "metadata": {
            "tags": []
          },
          "execution_count": 47
        },
        {
          "output_type": "display_data",
          "data": {
            "image/png": "[encoded data removed]",
            "text/plain": [
              "<Figure size 360x360 with 1 Axes>"
            ]
          },
          "metadata": {
            "tags": [],
            "needs_background": "light"
          }
        }
      ]
    },
    {
      "cell_type": "code",
      "metadata": {
        "id": "zl0tb9i_Gvou",
        "colab_type": "code",
        "colab": {
          "base_uri": "https://localhost:8080/",
          "height": 460
        },
        "outputId": "98e4ab52-ed0a-4a12-bb6a-d84d8ef0be45"
      },
      "source": [
        "# Maior taxa de mortes entre mulheres\n",
        "dados_mulheres_brasileiras.tail(20).style.highlight_max(subset=\"numero_de_suicidios\", color=\"#f76773\")"
      ],
      "execution_count": 48,
      "outputs": [
        {
          "output_type": "execute_result",
          "data": {
            "text/html": [
              "<style  type=\"text/css\" >\n",
              "    #T_f43daf2e_c30e_11ea_9dcd_0242ac1c0002row14_col4 {\n",
              "            background-color:  #f76773;\n",
              "        }</style><table id=\"T_f43daf2e_c30e_11ea_9dcd_0242ac1c0002\" ><thead>    <tr>        <th class=\"blank level0\" ></th>        <th class=\"col_heading level0 col0\" >país</th>        <th class=\"col_heading level0 col1\" >ano</th>        <th class=\"col_heading level0 col2\" >genero</th>        <th class=\"col_heading level0 col3\" >idade</th>        <th class=\"col_heading level0 col4\" >numero_de_suicidios</th>        <th class=\"col_heading level0 col5\" >população</th>    </tr></thead><tbody>\n",
              "                <tr>\n",
              "                        <th id=\"T_f43daf2e_c30e_11ea_9dcd_0242ac1c0002level0_row0\" class=\"row_heading level0 row0\" >4505</th>\n",
              "                        <td id=\"T_f43daf2e_c30e_11ea_9dcd_0242ac1c0002row0_col0\" class=\"data row0 col0\" >Brazil</td>\n",
              "                        <td id=\"T_f43daf2e_c30e_11ea_9dcd_0242ac1c0002row0_col1\" class=\"data row0 col1\" >2012</td>\n",
              "                        <td id=\"T_f43daf2e_c30e_11ea_9dcd_0242ac1c0002row0_col2\" class=\"data row0 col2\" >female</td>\n",
              "                        <td id=\"T_f43daf2e_c30e_11ea_9dcd_0242ac1c0002row0_col3\" class=\"data row0 col3\" >15-24 years</td>\n",
              "                        <td id=\"T_f43daf2e_c30e_11ea_9dcd_0242ac1c0002row0_col4\" class=\"data row0 col4\" >383</td>\n",
              "                        <td id=\"T_f43daf2e_c30e_11ea_9dcd_0242ac1c0002row0_col5\" class=\"data row0 col5\" >17145894</td>\n",
              "            </tr>\n",
              "            <tr>\n",
              "                        <th id=\"T_f43daf2e_c30e_11ea_9dcd_0242ac1c0002level0_row1\" class=\"row_heading level0 row1\" >4507</th>\n",
              "                        <td id=\"T_f43daf2e_c30e_11ea_9dcd_0242ac1c0002row1_col0\" class=\"data row1 col0\" >Brazil</td>\n",
              "                        <td id=\"T_f43daf2e_c30e_11ea_9dcd_0242ac1c0002row1_col1\" class=\"data row1 col1\" >2012</td>\n",
              "                        <td id=\"T_f43daf2e_c30e_11ea_9dcd_0242ac1c0002row1_col2\" class=\"data row1 col2\" >female</td>\n",
              "                        <td id=\"T_f43daf2e_c30e_11ea_9dcd_0242ac1c0002row1_col3\" class=\"data row1 col3\" >5-14 years</td>\n",
              "                        <td id=\"T_f43daf2e_c30e_11ea_9dcd_0242ac1c0002row1_col4\" class=\"data row1 col4\" >41</td>\n",
              "                        <td id=\"T_f43daf2e_c30e_11ea_9dcd_0242ac1c0002row1_col5\" class=\"data row1 col5\" >16175024</td>\n",
              "            </tr>\n",
              "            <tr>\n",
              "                        <th id=\"T_f43daf2e_c30e_11ea_9dcd_0242ac1c0002level0_row2\" class=\"row_heading level0 row2\" >4513</th>\n",
              "                        <td id=\"T_f43daf2e_c30e_11ea_9dcd_0242ac1c0002row2_col0\" class=\"data row2 col0\" >Brazil</td>\n",
              "                        <td id=\"T_f43daf2e_c30e_11ea_9dcd_0242ac1c0002row2_col1\" class=\"data row2 col1\" >2013</td>\n",
              "                        <td id=\"T_f43daf2e_c30e_11ea_9dcd_0242ac1c0002row2_col2\" class=\"data row2 col2\" >female</td>\n",
              "                        <td id=\"T_f43daf2e_c30e_11ea_9dcd_0242ac1c0002row2_col3\" class=\"data row2 col3\" >35-54 years</td>\n",
              "                        <td id=\"T_f43daf2e_c30e_11ea_9dcd_0242ac1c0002row2_col4\" class=\"data row2 col4\" >897</td>\n",
              "                        <td id=\"T_f43daf2e_c30e_11ea_9dcd_0242ac1c0002row2_col5\" class=\"data row2 col5\" >27475364</td>\n",
              "            </tr>\n",
              "            <tr>\n",
              "                        <th id=\"T_f43daf2e_c30e_11ea_9dcd_0242ac1c0002level0_row3\" class=\"row_heading level0 row3\" >4514</th>\n",
              "                        <td id=\"T_f43daf2e_c30e_11ea_9dcd_0242ac1c0002row3_col0\" class=\"data row3 col0\" >Brazil</td>\n",
              "                        <td id=\"T_f43daf2e_c30e_11ea_9dcd_0242ac1c0002row3_col1\" class=\"data row3 col1\" >2013</td>\n",
              "                        <td id=\"T_f43daf2e_c30e_11ea_9dcd_0242ac1c0002row3_col2\" class=\"data row3 col2\" >female</td>\n",
              "                        <td id=\"T_f43daf2e_c30e_11ea_9dcd_0242ac1c0002row3_col3\" class=\"data row3 col3\" >55-74 years</td>\n",
              "                        <td id=\"T_f43daf2e_c30e_11ea_9dcd_0242ac1c0002row3_col4\" class=\"data row3 col4\" >433</td>\n",
              "                        <td id=\"T_f43daf2e_c30e_11ea_9dcd_0242ac1c0002row3_col5\" class=\"data row3 col5\" >14022927</td>\n",
              "            </tr>\n",
              "            <tr>\n",
              "                        <th id=\"T_f43daf2e_c30e_11ea_9dcd_0242ac1c0002level0_row4\" class=\"row_heading level0 row4\" >4515</th>\n",
              "                        <td id=\"T_f43daf2e_c30e_11ea_9dcd_0242ac1c0002row4_col0\" class=\"data row4 col0\" >Brazil</td>\n",
              "                        <td id=\"T_f43daf2e_c30e_11ea_9dcd_0242ac1c0002row4_col1\" class=\"data row4 col1\" >2013</td>\n",
              "                        <td id=\"T_f43daf2e_c30e_11ea_9dcd_0242ac1c0002row4_col2\" class=\"data row4 col2\" >female</td>\n",
              "                        <td id=\"T_f43daf2e_c30e_11ea_9dcd_0242ac1c0002row4_col3\" class=\"data row4 col3\" >75+ years</td>\n",
              "                        <td id=\"T_f43daf2e_c30e_11ea_9dcd_0242ac1c0002row4_col4\" class=\"data row4 col4\" >88</td>\n",
              "                        <td id=\"T_f43daf2e_c30e_11ea_9dcd_0242ac1c0002row4_col5\" class=\"data row4 col5\" >3462431</td>\n",
              "            </tr>\n",
              "            <tr>\n",
              "                        <th id=\"T_f43daf2e_c30e_11ea_9dcd_0242ac1c0002level0_row5\" class=\"row_heading level0 row5\" >4516</th>\n",
              "                        <td id=\"T_f43daf2e_c30e_11ea_9dcd_0242ac1c0002row5_col0\" class=\"data row5 col0\" >Brazil</td>\n",
              "                        <td id=\"T_f43daf2e_c30e_11ea_9dcd_0242ac1c0002row5_col1\" class=\"data row5 col1\" >2013</td>\n",
              "                        <td id=\"T_f43daf2e_c30e_11ea_9dcd_0242ac1c0002row5_col2\" class=\"data row5 col2\" >female</td>\n",
              "                        <td id=\"T_f43daf2e_c30e_11ea_9dcd_0242ac1c0002row5_col3\" class=\"data row5 col3\" >25-34 years</td>\n",
              "                        <td id=\"T_f43daf2e_c30e_11ea_9dcd_0242ac1c0002row5_col4\" class=\"data row5 col4\" >393</td>\n",
              "                        <td id=\"T_f43daf2e_c30e_11ea_9dcd_0242ac1c0002row5_col5\" class=\"data row5 col5\" >17492228</td>\n",
              "            </tr>\n",
              "            <tr>\n",
              "                        <th id=\"T_f43daf2e_c30e_11ea_9dcd_0242ac1c0002level0_row6\" class=\"row_heading level0 row6\" >4517</th>\n",
              "                        <td id=\"T_f43daf2e_c30e_11ea_9dcd_0242ac1c0002row6_col0\" class=\"data row6 col0\" >Brazil</td>\n",
              "                        <td id=\"T_f43daf2e_c30e_11ea_9dcd_0242ac1c0002row6_col1\" class=\"data row6 col1\" >2013</td>\n",
              "                        <td id=\"T_f43daf2e_c30e_11ea_9dcd_0242ac1c0002row6_col2\" class=\"data row6 col2\" >female</td>\n",
              "                        <td id=\"T_f43daf2e_c30e_11ea_9dcd_0242ac1c0002row6_col3\" class=\"data row6 col3\" >15-24 years</td>\n",
              "                        <td id=\"T_f43daf2e_c30e_11ea_9dcd_0242ac1c0002row6_col4\" class=\"data row6 col4\" >362</td>\n",
              "                        <td id=\"T_f43daf2e_c30e_11ea_9dcd_0242ac1c0002row6_col5\" class=\"data row6 col5\" >17123318</td>\n",
              "            </tr>\n",
              "            <tr>\n",
              "                        <th id=\"T_f43daf2e_c30e_11ea_9dcd_0242ac1c0002level0_row7\" class=\"row_heading level0 row7\" >4519</th>\n",
              "                        <td id=\"T_f43daf2e_c30e_11ea_9dcd_0242ac1c0002row7_col0\" class=\"data row7 col0\" >Brazil</td>\n",
              "                        <td id=\"T_f43daf2e_c30e_11ea_9dcd_0242ac1c0002row7_col1\" class=\"data row7 col1\" >2013</td>\n",
              "                        <td id=\"T_f43daf2e_c30e_11ea_9dcd_0242ac1c0002row7_col2\" class=\"data row7 col2\" >female</td>\n",
              "                        <td id=\"T_f43daf2e_c30e_11ea_9dcd_0242ac1c0002row7_col3\" class=\"data row7 col3\" >5-14 years</td>\n",
              "                        <td id=\"T_f43daf2e_c30e_11ea_9dcd_0242ac1c0002row7_col4\" class=\"data row7 col4\" >50</td>\n",
              "                        <td id=\"T_f43daf2e_c30e_11ea_9dcd_0242ac1c0002row7_col5\" class=\"data row7 col5\" >15923724</td>\n",
              "            </tr>\n",
              "            <tr>\n",
              "                        <th id=\"T_f43daf2e_c30e_11ea_9dcd_0242ac1c0002level0_row8\" class=\"row_heading level0 row8\" >4525</th>\n",
              "                        <td id=\"T_f43daf2e_c30e_11ea_9dcd_0242ac1c0002row8_col0\" class=\"data row8 col0\" >Brazil</td>\n",
              "                        <td id=\"T_f43daf2e_c30e_11ea_9dcd_0242ac1c0002row8_col1\" class=\"data row8 col1\" >2014</td>\n",
              "                        <td id=\"T_f43daf2e_c30e_11ea_9dcd_0242ac1c0002row8_col2\" class=\"data row8 col2\" >female</td>\n",
              "                        <td id=\"T_f43daf2e_c30e_11ea_9dcd_0242ac1c0002row8_col3\" class=\"data row8 col3\" >35-54 years</td>\n",
              "                        <td id=\"T_f43daf2e_c30e_11ea_9dcd_0242ac1c0002row8_col4\" class=\"data row8 col4\" >871</td>\n",
              "                        <td id=\"T_f43daf2e_c30e_11ea_9dcd_0242ac1c0002row8_col5\" class=\"data row8 col5\" >27971096</td>\n",
              "            </tr>\n",
              "            <tr>\n",
              "                        <th id=\"T_f43daf2e_c30e_11ea_9dcd_0242ac1c0002level0_row9\" class=\"row_heading level0 row9\" >4526</th>\n",
              "                        <td id=\"T_f43daf2e_c30e_11ea_9dcd_0242ac1c0002row9_col0\" class=\"data row9 col0\" >Brazil</td>\n",
              "                        <td id=\"T_f43daf2e_c30e_11ea_9dcd_0242ac1c0002row9_col1\" class=\"data row9 col1\" >2014</td>\n",
              "                        <td id=\"T_f43daf2e_c30e_11ea_9dcd_0242ac1c0002row9_col2\" class=\"data row9 col2\" >female</td>\n",
              "                        <td id=\"T_f43daf2e_c30e_11ea_9dcd_0242ac1c0002row9_col3\" class=\"data row9 col3\" >55-74 years</td>\n",
              "                        <td id=\"T_f43daf2e_c30e_11ea_9dcd_0242ac1c0002row9_col4\" class=\"data row9 col4\" >389</td>\n",
              "                        <td id=\"T_f43daf2e_c30e_11ea_9dcd_0242ac1c0002row9_col5\" class=\"data row9 col5\" >14550395</td>\n",
              "            </tr>\n",
              "            <tr>\n",
              "                        <th id=\"T_f43daf2e_c30e_11ea_9dcd_0242ac1c0002level0_row10\" class=\"row_heading level0 row10\" >4527</th>\n",
              "                        <td id=\"T_f43daf2e_c30e_11ea_9dcd_0242ac1c0002row10_col0\" class=\"data row10 col0\" >Brazil</td>\n",
              "                        <td id=\"T_f43daf2e_c30e_11ea_9dcd_0242ac1c0002row10_col1\" class=\"data row10 col1\" >2014</td>\n",
              "                        <td id=\"T_f43daf2e_c30e_11ea_9dcd_0242ac1c0002row10_col2\" class=\"data row10 col2\" >female</td>\n",
              "                        <td id=\"T_f43daf2e_c30e_11ea_9dcd_0242ac1c0002row10_col3\" class=\"data row10 col3\" >25-34 years</td>\n",
              "                        <td id=\"T_f43daf2e_c30e_11ea_9dcd_0242ac1c0002row10_col4\" class=\"data row10 col4\" >457</td>\n",
              "                        <td id=\"T_f43daf2e_c30e_11ea_9dcd_0242ac1c0002row10_col5\" class=\"data row10 col5\" >17539955</td>\n",
              "            </tr>\n",
              "            <tr>\n",
              "                        <th id=\"T_f43daf2e_c30e_11ea_9dcd_0242ac1c0002level0_row11\" class=\"row_heading level0 row11\" >4528</th>\n",
              "                        <td id=\"T_f43daf2e_c30e_11ea_9dcd_0242ac1c0002row11_col0\" class=\"data row11 col0\" >Brazil</td>\n",
              "                        <td id=\"T_f43daf2e_c30e_11ea_9dcd_0242ac1c0002row11_col1\" class=\"data row11 col1\" >2014</td>\n",
              "                        <td id=\"T_f43daf2e_c30e_11ea_9dcd_0242ac1c0002row11_col2\" class=\"data row11 col2\" >female</td>\n",
              "                        <td id=\"T_f43daf2e_c30e_11ea_9dcd_0242ac1c0002row11_col3\" class=\"data row11 col3\" >75+ years</td>\n",
              "                        <td id=\"T_f43daf2e_c30e_11ea_9dcd_0242ac1c0002row11_col4\" class=\"data row11 col4\" >83</td>\n",
              "                        <td id=\"T_f43daf2e_c30e_11ea_9dcd_0242ac1c0002row11_col5\" class=\"data row11 col5\" >3634999</td>\n",
              "            </tr>\n",
              "            <tr>\n",
              "                        <th id=\"T_f43daf2e_c30e_11ea_9dcd_0242ac1c0002level0_row12\" class=\"row_heading level0 row12\" >4529</th>\n",
              "                        <td id=\"T_f43daf2e_c30e_11ea_9dcd_0242ac1c0002row12_col0\" class=\"data row12 col0\" >Brazil</td>\n",
              "                        <td id=\"T_f43daf2e_c30e_11ea_9dcd_0242ac1c0002row12_col1\" class=\"data row12 col1\" >2014</td>\n",
              "                        <td id=\"T_f43daf2e_c30e_11ea_9dcd_0242ac1c0002row12_col2\" class=\"data row12 col2\" >female</td>\n",
              "                        <td id=\"T_f43daf2e_c30e_11ea_9dcd_0242ac1c0002row12_col3\" class=\"data row12 col3\" >15-24 years</td>\n",
              "                        <td id=\"T_f43daf2e_c30e_11ea_9dcd_0242ac1c0002row12_col4\" class=\"data row12 col4\" >371</td>\n",
              "                        <td id=\"T_f43daf2e_c30e_11ea_9dcd_0242ac1c0002row12_col5\" class=\"data row12 col5\" >17094729</td>\n",
              "            </tr>\n",
              "            <tr>\n",
              "                        <th id=\"T_f43daf2e_c30e_11ea_9dcd_0242ac1c0002level0_row13\" class=\"row_heading level0 row13\" >4531</th>\n",
              "                        <td id=\"T_f43daf2e_c30e_11ea_9dcd_0242ac1c0002row13_col0\" class=\"data row13 col0\" >Brazil</td>\n",
              "                        <td id=\"T_f43daf2e_c30e_11ea_9dcd_0242ac1c0002row13_col1\" class=\"data row13 col1\" >2014</td>\n",
              "                        <td id=\"T_f43daf2e_c30e_11ea_9dcd_0242ac1c0002row13_col2\" class=\"data row13 col2\" >female</td>\n",
              "                        <td id=\"T_f43daf2e_c30e_11ea_9dcd_0242ac1c0002row13_col3\" class=\"data row13 col3\" >5-14 years</td>\n",
              "                        <td id=\"T_f43daf2e_c30e_11ea_9dcd_0242ac1c0002row13_col4\" class=\"data row13 col4\" >62</td>\n",
              "                        <td id=\"T_f43daf2e_c30e_11ea_9dcd_0242ac1c0002row13_col5\" class=\"data row13 col5\" >15670559</td>\n",
              "            </tr>\n",
              "            <tr>\n",
              "                        <th id=\"T_f43daf2e_c30e_11ea_9dcd_0242ac1c0002level0_row14\" class=\"row_heading level0 row14\" >4537</th>\n",
              "                        <td id=\"T_f43daf2e_c30e_11ea_9dcd_0242ac1c0002row14_col0\" class=\"data row14 col0\" >Brazil</td>\n",
              "                        <td id=\"T_f43daf2e_c30e_11ea_9dcd_0242ac1c0002row14_col1\" class=\"data row14 col1\" >2015</td>\n",
              "                        <td id=\"T_f43daf2e_c30e_11ea_9dcd_0242ac1c0002row14_col2\" class=\"data row14 col2\" >female</td>\n",
              "                        <td id=\"T_f43daf2e_c30e_11ea_9dcd_0242ac1c0002row14_col3\" class=\"data row14 col3\" >35-54 years</td>\n",
              "                        <td id=\"T_f43daf2e_c30e_11ea_9dcd_0242ac1c0002row14_col4\" class=\"data row14 col4\" >910</td>\n",
              "                        <td id=\"T_f43daf2e_c30e_11ea_9dcd_0242ac1c0002row14_col5\" class=\"data row14 col5\" >28461855</td>\n",
              "            </tr>\n",
              "            <tr>\n",
              "                        <th id=\"T_f43daf2e_c30e_11ea_9dcd_0242ac1c0002level0_row15\" class=\"row_heading level0 row15\" >4538</th>\n",
              "                        <td id=\"T_f43daf2e_c30e_11ea_9dcd_0242ac1c0002row15_col0\" class=\"data row15 col0\" >Brazil</td>\n",
              "                        <td id=\"T_f43daf2e_c30e_11ea_9dcd_0242ac1c0002row15_col1\" class=\"data row15 col1\" >2015</td>\n",
              "                        <td id=\"T_f43daf2e_c30e_11ea_9dcd_0242ac1c0002row15_col2\" class=\"data row15 col2\" >female</td>\n",
              "                        <td id=\"T_f43daf2e_c30e_11ea_9dcd_0242ac1c0002row15_col3\" class=\"data row15 col3\" >55-74 years</td>\n",
              "                        <td id=\"T_f43daf2e_c30e_11ea_9dcd_0242ac1c0002row15_col4\" class=\"data row15 col4\" >479</td>\n",
              "                        <td id=\"T_f43daf2e_c30e_11ea_9dcd_0242ac1c0002row15_col5\" class=\"data row15 col5\" >15122216</td>\n",
              "            </tr>\n",
              "            <tr>\n",
              "                        <th id=\"T_f43daf2e_c30e_11ea_9dcd_0242ac1c0002level0_row16\" class=\"row_heading level0 row16\" >4539</th>\n",
              "                        <td id=\"T_f43daf2e_c30e_11ea_9dcd_0242ac1c0002row16_col0\" class=\"data row16 col0\" >Brazil</td>\n",
              "                        <td id=\"T_f43daf2e_c30e_11ea_9dcd_0242ac1c0002row16_col1\" class=\"data row16 col1\" >2015</td>\n",
              "                        <td id=\"T_f43daf2e_c30e_11ea_9dcd_0242ac1c0002row16_col2\" class=\"data row16 col2\" >female</td>\n",
              "                        <td id=\"T_f43daf2e_c30e_11ea_9dcd_0242ac1c0002row16_col3\" class=\"data row16 col3\" >25-34 years</td>\n",
              "                        <td id=\"T_f43daf2e_c30e_11ea_9dcd_0242ac1c0002row16_col4\" class=\"data row16 col4\" >466</td>\n",
              "                        <td id=\"T_f43daf2e_c30e_11ea_9dcd_0242ac1c0002row16_col5\" class=\"data row16 col5\" >17546090</td>\n",
              "            </tr>\n",
              "            <tr>\n",
              "                        <th id=\"T_f43daf2e_c30e_11ea_9dcd_0242ac1c0002level0_row17\" class=\"row_heading level0 row17\" >4540</th>\n",
              "                        <td id=\"T_f43daf2e_c30e_11ea_9dcd_0242ac1c0002row17_col0\" class=\"data row17 col0\" >Brazil</td>\n",
              "                        <td id=\"T_f43daf2e_c30e_11ea_9dcd_0242ac1c0002row17_col1\" class=\"data row17 col1\" >2015</td>\n",
              "                        <td id=\"T_f43daf2e_c30e_11ea_9dcd_0242ac1c0002row17_col2\" class=\"data row17 col2\" >female</td>\n",
              "                        <td id=\"T_f43daf2e_c30e_11ea_9dcd_0242ac1c0002row17_col3\" class=\"data row17 col3\" >75+ years</td>\n",
              "                        <td id=\"T_f43daf2e_c30e_11ea_9dcd_0242ac1c0002row17_col4\" class=\"data row17 col4\" >89</td>\n",
              "                        <td id=\"T_f43daf2e_c30e_11ea_9dcd_0242ac1c0002row17_col5\" class=\"data row17 col5\" >3802086</td>\n",
              "            </tr>\n",
              "            <tr>\n",
              "                        <th id=\"T_f43daf2e_c30e_11ea_9dcd_0242ac1c0002level0_row18\" class=\"row_heading level0 row18\" >4541</th>\n",
              "                        <td id=\"T_f43daf2e_c30e_11ea_9dcd_0242ac1c0002row18_col0\" class=\"data row18 col0\" >Brazil</td>\n",
              "                        <td id=\"T_f43daf2e_c30e_11ea_9dcd_0242ac1c0002row18_col1\" class=\"data row18 col1\" >2015</td>\n",
              "                        <td id=\"T_f43daf2e_c30e_11ea_9dcd_0242ac1c0002row18_col2\" class=\"data row18 col2\" >female</td>\n",
              "                        <td id=\"T_f43daf2e_c30e_11ea_9dcd_0242ac1c0002row18_col3\" class=\"data row18 col3\" >15-24 years</td>\n",
              "                        <td id=\"T_f43daf2e_c30e_11ea_9dcd_0242ac1c0002row18_col4\" class=\"data row18 col4\" >397</td>\n",
              "                        <td id=\"T_f43daf2e_c30e_11ea_9dcd_0242ac1c0002row18_col5\" class=\"data row18 col5\" >17047218</td>\n",
              "            </tr>\n",
              "            <tr>\n",
              "                        <th id=\"T_f43daf2e_c30e_11ea_9dcd_0242ac1c0002level0_row19\" class=\"row_heading level0 row19\" >4543</th>\n",
              "                        <td id=\"T_f43daf2e_c30e_11ea_9dcd_0242ac1c0002row19_col0\" class=\"data row19 col0\" >Brazil</td>\n",
              "                        <td id=\"T_f43daf2e_c30e_11ea_9dcd_0242ac1c0002row19_col1\" class=\"data row19 col1\" >2015</td>\n",
              "                        <td id=\"T_f43daf2e_c30e_11ea_9dcd_0242ac1c0002row19_col2\" class=\"data row19 col2\" >female</td>\n",
              "                        <td id=\"T_f43daf2e_c30e_11ea_9dcd_0242ac1c0002row19_col3\" class=\"data row19 col3\" >5-14 years</td>\n",
              "                        <td id=\"T_f43daf2e_c30e_11ea_9dcd_0242ac1c0002row19_col4\" class=\"data row19 col4\" >56</td>\n",
              "                        <td id=\"T_f43daf2e_c30e_11ea_9dcd_0242ac1c0002row19_col5\" class=\"data row19 col5\" >15430579</td>\n",
              "            </tr>\n",
              "    </tbody></table>"
            ],
            "text/plain": [
              "<pandas.io.formats.style.Styler at 0x7fdd682f2908>"
            ]
          },
          "metadata": {
            "tags": []
          },
          "execution_count": 48
        }
      ]
    },
    {
      "cell_type": "code",
      "metadata": {
        "id": "OaNc18HMHEdc",
        "colab_type": "code",
        "colab": {
          "base_uri": "https://localhost:8080/",
          "height": 565
        },
        "outputId": "a8ae9625-27a8-4ae8-ff2e-cd80ae39e6c4"
      },
      "source": [
        "# Menor taxa de mortes entre mulheres\n",
        "dados_mulheres_brasileiras.head(25).query('genero == \"female\"').style.highlight_min(subset=\"numero_de_suicidios\", color=\"#3cd0e0\")"
      ],
      "execution_count": 49,
      "outputs": [
        {
          "output_type": "execute_result",
          "data": {
            "text/html": [
              "<style  type=\"text/css\" >\n",
              "    #T_f4e1e13e_c30e_11ea_9dcd_0242ac1c0002row23_col4 {\n",
              "            background-color:  #3cd0e0;\n",
              "        }</style><table id=\"T_f4e1e13e_c30e_11ea_9dcd_0242ac1c0002\" ><thead>    <tr>        <th class=\"blank level0\" ></th>        <th class=\"col_heading level0 col0\" >país</th>        <th class=\"col_heading level0 col1\" >ano</th>        <th class=\"col_heading level0 col2\" >genero</th>        <th class=\"col_heading level0 col3\" >idade</th>        <th class=\"col_heading level0 col4\" >numero_de_suicidios</th>        <th class=\"col_heading level0 col5\" >população</th>    </tr></thead><tbody>\n",
              "                <tr>\n",
              "                        <th id=\"T_f4e1e13e_c30e_11ea_9dcd_0242ac1c0002level0_row0\" class=\"row_heading level0 row0\" >4177</th>\n",
              "                        <td id=\"T_f4e1e13e_c30e_11ea_9dcd_0242ac1c0002row0_col0\" class=\"data row0 col0\" >Brazil</td>\n",
              "                        <td id=\"T_f4e1e13e_c30e_11ea_9dcd_0242ac1c0002row0_col1\" class=\"data row0 col1\" >1985</td>\n",
              "                        <td id=\"T_f4e1e13e_c30e_11ea_9dcd_0242ac1c0002row0_col2\" class=\"data row0 col2\" >female</td>\n",
              "                        <td id=\"T_f4e1e13e_c30e_11ea_9dcd_0242ac1c0002row0_col3\" class=\"data row0 col3\" >75+ years</td>\n",
              "                        <td id=\"T_f4e1e13e_c30e_11ea_9dcd_0242ac1c0002row0_col4\" class=\"data row0 col4\" >32</td>\n",
              "                        <td id=\"T_f4e1e13e_c30e_11ea_9dcd_0242ac1c0002row0_col5\" class=\"data row0 col5\" >988100</td>\n",
              "            </tr>\n",
              "            <tr>\n",
              "                        <th id=\"T_f4e1e13e_c30e_11ea_9dcd_0242ac1c0002level0_row1\" class=\"row_heading level0 row1\" >4178</th>\n",
              "                        <td id=\"T_f4e1e13e_c30e_11ea_9dcd_0242ac1c0002row1_col0\" class=\"data row1 col0\" >Brazil</td>\n",
              "                        <td id=\"T_f4e1e13e_c30e_11ea_9dcd_0242ac1c0002row1_col1\" class=\"data row1 col1\" >1985</td>\n",
              "                        <td id=\"T_f4e1e13e_c30e_11ea_9dcd_0242ac1c0002row1_col2\" class=\"data row1 col2\" >female</td>\n",
              "                        <td id=\"T_f4e1e13e_c30e_11ea_9dcd_0242ac1c0002row1_col3\" class=\"data row1 col3\" >55-74 years</td>\n",
              "                        <td id=\"T_f4e1e13e_c30e_11ea_9dcd_0242ac1c0002row1_col4\" class=\"data row1 col4\" >148</td>\n",
              "                        <td id=\"T_f4e1e13e_c30e_11ea_9dcd_0242ac1c0002row1_col5\" class=\"data row1 col5\" >5650100</td>\n",
              "            </tr>\n",
              "            <tr>\n",
              "                        <th id=\"T_f4e1e13e_c30e_11ea_9dcd_0242ac1c0002level0_row2\" class=\"row_heading level0 row2\" >4179</th>\n",
              "                        <td id=\"T_f4e1e13e_c30e_11ea_9dcd_0242ac1c0002row2_col0\" class=\"data row2 col0\" >Brazil</td>\n",
              "                        <td id=\"T_f4e1e13e_c30e_11ea_9dcd_0242ac1c0002row2_col1\" class=\"data row2 col1\" >1985</td>\n",
              "                        <td id=\"T_f4e1e13e_c30e_11ea_9dcd_0242ac1c0002row2_col2\" class=\"data row2 col2\" >female</td>\n",
              "                        <td id=\"T_f4e1e13e_c30e_11ea_9dcd_0242ac1c0002row2_col3\" class=\"data row2 col3\" >25-34 years</td>\n",
              "                        <td id=\"T_f4e1e13e_c30e_11ea_9dcd_0242ac1c0002row2_col4\" class=\"data row2 col4\" >269</td>\n",
              "                        <td id=\"T_f4e1e13e_c30e_11ea_9dcd_0242ac1c0002row2_col5\" class=\"data row2 col5\" >10798700</td>\n",
              "            </tr>\n",
              "            <tr>\n",
              "                        <th id=\"T_f4e1e13e_c30e_11ea_9dcd_0242ac1c0002level0_row3\" class=\"row_heading level0 row3\" >4180</th>\n",
              "                        <td id=\"T_f4e1e13e_c30e_11ea_9dcd_0242ac1c0002row3_col0\" class=\"data row3 col0\" >Brazil</td>\n",
              "                        <td id=\"T_f4e1e13e_c30e_11ea_9dcd_0242ac1c0002row3_col1\" class=\"data row3 col1\" >1985</td>\n",
              "                        <td id=\"T_f4e1e13e_c30e_11ea_9dcd_0242ac1c0002row3_col2\" class=\"data row3 col2\" >female</td>\n",
              "                        <td id=\"T_f4e1e13e_c30e_11ea_9dcd_0242ac1c0002row3_col3\" class=\"data row3 col3\" >35-54 years</td>\n",
              "                        <td id=\"T_f4e1e13e_c30e_11ea_9dcd_0242ac1c0002row3_col4\" class=\"data row3 col4\" >296</td>\n",
              "                        <td id=\"T_f4e1e13e_c30e_11ea_9dcd_0242ac1c0002row3_col5\" class=\"data row3 col5\" >12185200</td>\n",
              "            </tr>\n",
              "            <tr>\n",
              "                        <th id=\"T_f4e1e13e_c30e_11ea_9dcd_0242ac1c0002level0_row4\" class=\"row_heading level0 row4\" >4181</th>\n",
              "                        <td id=\"T_f4e1e13e_c30e_11ea_9dcd_0242ac1c0002row4_col0\" class=\"data row4 col0\" >Brazil</td>\n",
              "                        <td id=\"T_f4e1e13e_c30e_11ea_9dcd_0242ac1c0002row4_col1\" class=\"data row4 col1\" >1985</td>\n",
              "                        <td id=\"T_f4e1e13e_c30e_11ea_9dcd_0242ac1c0002row4_col2\" class=\"data row4 col2\" >female</td>\n",
              "                        <td id=\"T_f4e1e13e_c30e_11ea_9dcd_0242ac1c0002row4_col3\" class=\"data row4 col3\" >15-24 years</td>\n",
              "                        <td id=\"T_f4e1e13e_c30e_11ea_9dcd_0242ac1c0002row4_col4\" class=\"data row4 col4\" >280</td>\n",
              "                        <td id=\"T_f4e1e13e_c30e_11ea_9dcd_0242ac1c0002row4_col5\" class=\"data row4 col5\" >13751800</td>\n",
              "            </tr>\n",
              "            <tr>\n",
              "                        <th id=\"T_f4e1e13e_c30e_11ea_9dcd_0242ac1c0002level0_row5\" class=\"row_heading level0 row5\" >4182</th>\n",
              "                        <td id=\"T_f4e1e13e_c30e_11ea_9dcd_0242ac1c0002row5_col0\" class=\"data row5 col0\" >Brazil</td>\n",
              "                        <td id=\"T_f4e1e13e_c30e_11ea_9dcd_0242ac1c0002row5_col1\" class=\"data row5 col1\" >1985</td>\n",
              "                        <td id=\"T_f4e1e13e_c30e_11ea_9dcd_0242ac1c0002row5_col2\" class=\"data row5 col2\" >female</td>\n",
              "                        <td id=\"T_f4e1e13e_c30e_11ea_9dcd_0242ac1c0002row5_col3\" class=\"data row5 col3\" >5-14 years</td>\n",
              "                        <td id=\"T_f4e1e13e_c30e_11ea_9dcd_0242ac1c0002row5_col4\" class=\"data row5 col4\" >41</td>\n",
              "                        <td id=\"T_f4e1e13e_c30e_11ea_9dcd_0242ac1c0002row5_col5\" class=\"data row5 col5\" >15622900</td>\n",
              "            </tr>\n",
              "            <tr>\n",
              "                        <th id=\"T_f4e1e13e_c30e_11ea_9dcd_0242ac1c0002level0_row6\" class=\"row_heading level0 row6\" >4189</th>\n",
              "                        <td id=\"T_f4e1e13e_c30e_11ea_9dcd_0242ac1c0002row6_col0\" class=\"data row6 col0\" >Brazil</td>\n",
              "                        <td id=\"T_f4e1e13e_c30e_11ea_9dcd_0242ac1c0002row6_col1\" class=\"data row6 col1\" >1986</td>\n",
              "                        <td id=\"T_f4e1e13e_c30e_11ea_9dcd_0242ac1c0002row6_col2\" class=\"data row6 col2\" >female</td>\n",
              "                        <td id=\"T_f4e1e13e_c30e_11ea_9dcd_0242ac1c0002row6_col3\" class=\"data row6 col3\" >75+ years</td>\n",
              "                        <td id=\"T_f4e1e13e_c30e_11ea_9dcd_0242ac1c0002row6_col4\" class=\"data row6 col4\" >33</td>\n",
              "                        <td id=\"T_f4e1e13e_c30e_11ea_9dcd_0242ac1c0002row6_col5\" class=\"data row6 col5\" >1079400</td>\n",
              "            </tr>\n",
              "            <tr>\n",
              "                        <th id=\"T_f4e1e13e_c30e_11ea_9dcd_0242ac1c0002level0_row7\" class=\"row_heading level0 row7\" >4190</th>\n",
              "                        <td id=\"T_f4e1e13e_c30e_11ea_9dcd_0242ac1c0002row7_col0\" class=\"data row7 col0\" >Brazil</td>\n",
              "                        <td id=\"T_f4e1e13e_c30e_11ea_9dcd_0242ac1c0002row7_col1\" class=\"data row7 col1\" >1986</td>\n",
              "                        <td id=\"T_f4e1e13e_c30e_11ea_9dcd_0242ac1c0002row7_col2\" class=\"data row7 col2\" >female</td>\n",
              "                        <td id=\"T_f4e1e13e_c30e_11ea_9dcd_0242ac1c0002row7_col3\" class=\"data row7 col3\" >55-74 years</td>\n",
              "                        <td id=\"T_f4e1e13e_c30e_11ea_9dcd_0242ac1c0002row7_col4\" class=\"data row7 col4\" >163</td>\n",
              "                        <td id=\"T_f4e1e13e_c30e_11ea_9dcd_0242ac1c0002row7_col5\" class=\"data row7 col5\" >6093600</td>\n",
              "            </tr>\n",
              "            <tr>\n",
              "                        <th id=\"T_f4e1e13e_c30e_11ea_9dcd_0242ac1c0002level0_row8\" class=\"row_heading level0 row8\" >4191</th>\n",
              "                        <td id=\"T_f4e1e13e_c30e_11ea_9dcd_0242ac1c0002row8_col0\" class=\"data row8 col0\" >Brazil</td>\n",
              "                        <td id=\"T_f4e1e13e_c30e_11ea_9dcd_0242ac1c0002row8_col1\" class=\"data row8 col1\" >1986</td>\n",
              "                        <td id=\"T_f4e1e13e_c30e_11ea_9dcd_0242ac1c0002row8_col2\" class=\"data row8 col2\" >female</td>\n",
              "                        <td id=\"T_f4e1e13e_c30e_11ea_9dcd_0242ac1c0002row8_col3\" class=\"data row8 col3\" >35-54 years</td>\n",
              "                        <td id=\"T_f4e1e13e_c30e_11ea_9dcd_0242ac1c0002row8_col4\" class=\"data row8 col4\" >335</td>\n",
              "                        <td id=\"T_f4e1e13e_c30e_11ea_9dcd_0242ac1c0002row8_col5\" class=\"data row8 col5\" >13195700</td>\n",
              "            </tr>\n",
              "            <tr>\n",
              "                        <th id=\"T_f4e1e13e_c30e_11ea_9dcd_0242ac1c0002level0_row9\" class=\"row_heading level0 row9\" >4192</th>\n",
              "                        <td id=\"T_f4e1e13e_c30e_11ea_9dcd_0242ac1c0002row9_col0\" class=\"data row9 col0\" >Brazil</td>\n",
              "                        <td id=\"T_f4e1e13e_c30e_11ea_9dcd_0242ac1c0002row9_col1\" class=\"data row9 col1\" >1986</td>\n",
              "                        <td id=\"T_f4e1e13e_c30e_11ea_9dcd_0242ac1c0002row9_col2\" class=\"data row9 col2\" >female</td>\n",
              "                        <td id=\"T_f4e1e13e_c30e_11ea_9dcd_0242ac1c0002row9_col3\" class=\"data row9 col3\" >15-24 years</td>\n",
              "                        <td id=\"T_f4e1e13e_c30e_11ea_9dcd_0242ac1c0002row9_col4\" class=\"data row9 col4\" >331</td>\n",
              "                        <td id=\"T_f4e1e13e_c30e_11ea_9dcd_0242ac1c0002row9_col5\" class=\"data row9 col5\" >13514000</td>\n",
              "            </tr>\n",
              "            <tr>\n",
              "                        <th id=\"T_f4e1e13e_c30e_11ea_9dcd_0242ac1c0002level0_row10\" class=\"row_heading level0 row10\" >4193</th>\n",
              "                        <td id=\"T_f4e1e13e_c30e_11ea_9dcd_0242ac1c0002row10_col0\" class=\"data row10 col0\" >Brazil</td>\n",
              "                        <td id=\"T_f4e1e13e_c30e_11ea_9dcd_0242ac1c0002row10_col1\" class=\"data row10 col1\" >1986</td>\n",
              "                        <td id=\"T_f4e1e13e_c30e_11ea_9dcd_0242ac1c0002row10_col2\" class=\"data row10 col2\" >female</td>\n",
              "                        <td id=\"T_f4e1e13e_c30e_11ea_9dcd_0242ac1c0002row10_col3\" class=\"data row10 col3\" >25-34 years</td>\n",
              "                        <td id=\"T_f4e1e13e_c30e_11ea_9dcd_0242ac1c0002row10_col4\" class=\"data row10 col4\" >257</td>\n",
              "                        <td id=\"T_f4e1e13e_c30e_11ea_9dcd_0242ac1c0002row10_col5\" class=\"data row10 col5\" >10614200</td>\n",
              "            </tr>\n",
              "            <tr>\n",
              "                        <th id=\"T_f4e1e13e_c30e_11ea_9dcd_0242ac1c0002level0_row11\" class=\"row_heading level0 row11\" >4194</th>\n",
              "                        <td id=\"T_f4e1e13e_c30e_11ea_9dcd_0242ac1c0002row11_col0\" class=\"data row11 col0\" >Brazil</td>\n",
              "                        <td id=\"T_f4e1e13e_c30e_11ea_9dcd_0242ac1c0002row11_col1\" class=\"data row11 col1\" >1986</td>\n",
              "                        <td id=\"T_f4e1e13e_c30e_11ea_9dcd_0242ac1c0002row11_col2\" class=\"data row11 col2\" >female</td>\n",
              "                        <td id=\"T_f4e1e13e_c30e_11ea_9dcd_0242ac1c0002row11_col3\" class=\"data row11 col3\" >5-14 years</td>\n",
              "                        <td id=\"T_f4e1e13e_c30e_11ea_9dcd_0242ac1c0002row11_col4\" class=\"data row11 col4\" >35</td>\n",
              "                        <td id=\"T_f4e1e13e_c30e_11ea_9dcd_0242ac1c0002row11_col5\" class=\"data row11 col5\" >16001200</td>\n",
              "            </tr>\n",
              "            <tr>\n",
              "                        <th id=\"T_f4e1e13e_c30e_11ea_9dcd_0242ac1c0002level0_row12\" class=\"row_heading level0 row12\" >4201</th>\n",
              "                        <td id=\"T_f4e1e13e_c30e_11ea_9dcd_0242ac1c0002row12_col0\" class=\"data row12 col0\" >Brazil</td>\n",
              "                        <td id=\"T_f4e1e13e_c30e_11ea_9dcd_0242ac1c0002row12_col1\" class=\"data row12 col1\" >1987</td>\n",
              "                        <td id=\"T_f4e1e13e_c30e_11ea_9dcd_0242ac1c0002row12_col2\" class=\"data row12 col2\" >female</td>\n",
              "                        <td id=\"T_f4e1e13e_c30e_11ea_9dcd_0242ac1c0002row12_col3\" class=\"data row12 col3\" >55-74 years</td>\n",
              "                        <td id=\"T_f4e1e13e_c30e_11ea_9dcd_0242ac1c0002row12_col4\" class=\"data row12 col4\" >197</td>\n",
              "                        <td id=\"T_f4e1e13e_c30e_11ea_9dcd_0242ac1c0002row12_col5\" class=\"data row12 col5\" >5891414</td>\n",
              "            </tr>\n",
              "            <tr>\n",
              "                        <th id=\"T_f4e1e13e_c30e_11ea_9dcd_0242ac1c0002level0_row13\" class=\"row_heading level0 row13\" >4202</th>\n",
              "                        <td id=\"T_f4e1e13e_c30e_11ea_9dcd_0242ac1c0002row13_col0\" class=\"data row13 col0\" >Brazil</td>\n",
              "                        <td id=\"T_f4e1e13e_c30e_11ea_9dcd_0242ac1c0002row13_col1\" class=\"data row13 col1\" >1987</td>\n",
              "                        <td id=\"T_f4e1e13e_c30e_11ea_9dcd_0242ac1c0002row13_col2\" class=\"data row13 col2\" >female</td>\n",
              "                        <td id=\"T_f4e1e13e_c30e_11ea_9dcd_0242ac1c0002row13_col3\" class=\"data row13 col3\" >75+ years</td>\n",
              "                        <td id=\"T_f4e1e13e_c30e_11ea_9dcd_0242ac1c0002row13_col4\" class=\"data row13 col4\" >28</td>\n",
              "                        <td id=\"T_f4e1e13e_c30e_11ea_9dcd_0242ac1c0002row13_col5\" class=\"data row13 col5\" >1018461</td>\n",
              "            </tr>\n",
              "            <tr>\n",
              "                        <th id=\"T_f4e1e13e_c30e_11ea_9dcd_0242ac1c0002level0_row14\" class=\"row_heading level0 row14\" >4203</th>\n",
              "                        <td id=\"T_f4e1e13e_c30e_11ea_9dcd_0242ac1c0002row14_col0\" class=\"data row14 col0\" >Brazil</td>\n",
              "                        <td id=\"T_f4e1e13e_c30e_11ea_9dcd_0242ac1c0002row14_col1\" class=\"data row14 col1\" >1987</td>\n",
              "                        <td id=\"T_f4e1e13e_c30e_11ea_9dcd_0242ac1c0002row14_col2\" class=\"data row14 col2\" >female</td>\n",
              "                        <td id=\"T_f4e1e13e_c30e_11ea_9dcd_0242ac1c0002row14_col3\" class=\"data row14 col3\" >35-54 years</td>\n",
              "                        <td id=\"T_f4e1e13e_c30e_11ea_9dcd_0242ac1c0002row14_col4\" class=\"data row14 col4\" >349</td>\n",
              "                        <td id=\"T_f4e1e13e_c30e_11ea_9dcd_0242ac1c0002row14_col5\" class=\"data row14 col5\" >13229129</td>\n",
              "            </tr>\n",
              "            <tr>\n",
              "                        <th id=\"T_f4e1e13e_c30e_11ea_9dcd_0242ac1c0002level0_row15\" class=\"row_heading level0 row15\" >4204</th>\n",
              "                        <td id=\"T_f4e1e13e_c30e_11ea_9dcd_0242ac1c0002row15_col0\" class=\"data row15 col0\" >Brazil</td>\n",
              "                        <td id=\"T_f4e1e13e_c30e_11ea_9dcd_0242ac1c0002row15_col1\" class=\"data row15 col1\" >1987</td>\n",
              "                        <td id=\"T_f4e1e13e_c30e_11ea_9dcd_0242ac1c0002row15_col2\" class=\"data row15 col2\" >female</td>\n",
              "                        <td id=\"T_f4e1e13e_c30e_11ea_9dcd_0242ac1c0002row15_col3\" class=\"data row15 col3\" >25-34 years</td>\n",
              "                        <td id=\"T_f4e1e13e_c30e_11ea_9dcd_0242ac1c0002row15_col4\" class=\"data row15 col4\" >266</td>\n",
              "                        <td id=\"T_f4e1e13e_c30e_11ea_9dcd_0242ac1c0002row15_col5\" class=\"data row15 col5\" >11393405</td>\n",
              "            </tr>\n",
              "            <tr>\n",
              "                        <th id=\"T_f4e1e13e_c30e_11ea_9dcd_0242ac1c0002level0_row16\" class=\"row_heading level0 row16\" >4205</th>\n",
              "                        <td id=\"T_f4e1e13e_c30e_11ea_9dcd_0242ac1c0002row16_col0\" class=\"data row16 col0\" >Brazil</td>\n",
              "                        <td id=\"T_f4e1e13e_c30e_11ea_9dcd_0242ac1c0002row16_col1\" class=\"data row16 col1\" >1987</td>\n",
              "                        <td id=\"T_f4e1e13e_c30e_11ea_9dcd_0242ac1c0002row16_col2\" class=\"data row16 col2\" >female</td>\n",
              "                        <td id=\"T_f4e1e13e_c30e_11ea_9dcd_0242ac1c0002row16_col3\" class=\"data row16 col3\" >15-24 years</td>\n",
              "                        <td id=\"T_f4e1e13e_c30e_11ea_9dcd_0242ac1c0002row16_col4\" class=\"data row16 col4\" >291</td>\n",
              "                        <td id=\"T_f4e1e13e_c30e_11ea_9dcd_0242ac1c0002row16_col5\" class=\"data row16 col5\" >14145640</td>\n",
              "            </tr>\n",
              "            <tr>\n",
              "                        <th id=\"T_f4e1e13e_c30e_11ea_9dcd_0242ac1c0002level0_row17\" class=\"row_heading level0 row17\" >4207</th>\n",
              "                        <td id=\"T_f4e1e13e_c30e_11ea_9dcd_0242ac1c0002row17_col0\" class=\"data row17 col0\" >Brazil</td>\n",
              "                        <td id=\"T_f4e1e13e_c30e_11ea_9dcd_0242ac1c0002row17_col1\" class=\"data row17 col1\" >1987</td>\n",
              "                        <td id=\"T_f4e1e13e_c30e_11ea_9dcd_0242ac1c0002row17_col2\" class=\"data row17 col2\" >female</td>\n",
              "                        <td id=\"T_f4e1e13e_c30e_11ea_9dcd_0242ac1c0002row17_col3\" class=\"data row17 col3\" >5-14 years</td>\n",
              "                        <td id=\"T_f4e1e13e_c30e_11ea_9dcd_0242ac1c0002row17_col4\" class=\"data row17 col4\" >32</td>\n",
              "                        <td id=\"T_f4e1e13e_c30e_11ea_9dcd_0242ac1c0002row17_col5\" class=\"data row17 col5\" >16390962</td>\n",
              "            </tr>\n",
              "            <tr>\n",
              "                        <th id=\"T_f4e1e13e_c30e_11ea_9dcd_0242ac1c0002level0_row18\" class=\"row_heading level0 row18\" >4212</th>\n",
              "                        <td id=\"T_f4e1e13e_c30e_11ea_9dcd_0242ac1c0002row18_col0\" class=\"data row18 col0\" >Brazil</td>\n",
              "                        <td id=\"T_f4e1e13e_c30e_11ea_9dcd_0242ac1c0002row18_col1\" class=\"data row18 col1\" >1988</td>\n",
              "                        <td id=\"T_f4e1e13e_c30e_11ea_9dcd_0242ac1c0002row18_col2\" class=\"data row18 col2\" >female</td>\n",
              "                        <td id=\"T_f4e1e13e_c30e_11ea_9dcd_0242ac1c0002row18_col3\" class=\"data row18 col3\" >75+ years</td>\n",
              "                        <td id=\"T_f4e1e13e_c30e_11ea_9dcd_0242ac1c0002row18_col4\" class=\"data row18 col4\" >52</td>\n",
              "                        <td id=\"T_f4e1e13e_c30e_11ea_9dcd_0242ac1c0002row18_col5\" class=\"data row18 col5\" >1057285</td>\n",
              "            </tr>\n",
              "            <tr>\n",
              "                        <th id=\"T_f4e1e13e_c30e_11ea_9dcd_0242ac1c0002level0_row19\" class=\"row_heading level0 row19\" >4214</th>\n",
              "                        <td id=\"T_f4e1e13e_c30e_11ea_9dcd_0242ac1c0002row19_col0\" class=\"data row19 col0\" >Brazil</td>\n",
              "                        <td id=\"T_f4e1e13e_c30e_11ea_9dcd_0242ac1c0002row19_col1\" class=\"data row19 col1\" >1988</td>\n",
              "                        <td id=\"T_f4e1e13e_c30e_11ea_9dcd_0242ac1c0002row19_col2\" class=\"data row19 col2\" >female</td>\n",
              "                        <td id=\"T_f4e1e13e_c30e_11ea_9dcd_0242ac1c0002row19_col3\" class=\"data row19 col3\" >55-74 years</td>\n",
              "                        <td id=\"T_f4e1e13e_c30e_11ea_9dcd_0242ac1c0002row19_col4\" class=\"data row19 col4\" >182</td>\n",
              "                        <td id=\"T_f4e1e13e_c30e_11ea_9dcd_0242ac1c0002row19_col5\" class=\"data row19 col5\" >6051315</td>\n",
              "            </tr>\n",
              "            <tr>\n",
              "                        <th id=\"T_f4e1e13e_c30e_11ea_9dcd_0242ac1c0002level0_row20\" class=\"row_heading level0 row20\" >4215</th>\n",
              "                        <td id=\"T_f4e1e13e_c30e_11ea_9dcd_0242ac1c0002row20_col0\" class=\"data row20 col0\" >Brazil</td>\n",
              "                        <td id=\"T_f4e1e13e_c30e_11ea_9dcd_0242ac1c0002row20_col1\" class=\"data row20 col1\" >1988</td>\n",
              "                        <td id=\"T_f4e1e13e_c30e_11ea_9dcd_0242ac1c0002row20_col2\" class=\"data row20 col2\" >female</td>\n",
              "                        <td id=\"T_f4e1e13e_c30e_11ea_9dcd_0242ac1c0002row20_col3\" class=\"data row20 col3\" >35-54 years</td>\n",
              "                        <td id=\"T_f4e1e13e_c30e_11ea_9dcd_0242ac1c0002row20_col4\" class=\"data row20 col4\" >333</td>\n",
              "                        <td id=\"T_f4e1e13e_c30e_11ea_9dcd_0242ac1c0002row20_col5\" class=\"data row20 col5\" >13714531</td>\n",
              "            </tr>\n",
              "            <tr>\n",
              "                        <th id=\"T_f4e1e13e_c30e_11ea_9dcd_0242ac1c0002level0_row21\" class=\"row_heading level0 row21\" >4216</th>\n",
              "                        <td id=\"T_f4e1e13e_c30e_11ea_9dcd_0242ac1c0002row21_col0\" class=\"data row21 col0\" >Brazil</td>\n",
              "                        <td id=\"T_f4e1e13e_c30e_11ea_9dcd_0242ac1c0002row21_col1\" class=\"data row21 col1\" >1988</td>\n",
              "                        <td id=\"T_f4e1e13e_c30e_11ea_9dcd_0242ac1c0002row21_col2\" class=\"data row21 col2\" >female</td>\n",
              "                        <td id=\"T_f4e1e13e_c30e_11ea_9dcd_0242ac1c0002row21_col3\" class=\"data row21 col3\" >25-34 years</td>\n",
              "                        <td id=\"T_f4e1e13e_c30e_11ea_9dcd_0242ac1c0002row21_col4\" class=\"data row21 col4\" >266</td>\n",
              "                        <td id=\"T_f4e1e13e_c30e_11ea_9dcd_0242ac1c0002row21_col5\" class=\"data row21 col5\" >11741737</td>\n",
              "            </tr>\n",
              "            <tr>\n",
              "                        <th id=\"T_f4e1e13e_c30e_11ea_9dcd_0242ac1c0002level0_row22\" class=\"row_heading level0 row22\" >4217</th>\n",
              "                        <td id=\"T_f4e1e13e_c30e_11ea_9dcd_0242ac1c0002row22_col0\" class=\"data row22 col0\" >Brazil</td>\n",
              "                        <td id=\"T_f4e1e13e_c30e_11ea_9dcd_0242ac1c0002row22_col1\" class=\"data row22 col1\" >1988</td>\n",
              "                        <td id=\"T_f4e1e13e_c30e_11ea_9dcd_0242ac1c0002row22_col2\" class=\"data row22 col2\" >female</td>\n",
              "                        <td id=\"T_f4e1e13e_c30e_11ea_9dcd_0242ac1c0002row22_col3\" class=\"data row22 col3\" >15-24 years</td>\n",
              "                        <td id=\"T_f4e1e13e_c30e_11ea_9dcd_0242ac1c0002row22_col4\" class=\"data row22 col4\" >281</td>\n",
              "                        <td id=\"T_f4e1e13e_c30e_11ea_9dcd_0242ac1c0002row22_col5\" class=\"data row22 col5\" >14267683</td>\n",
              "            </tr>\n",
              "            <tr>\n",
              "                        <th id=\"T_f4e1e13e_c30e_11ea_9dcd_0242ac1c0002level0_row23\" class=\"row_heading level0 row23\" >4219</th>\n",
              "                        <td id=\"T_f4e1e13e_c30e_11ea_9dcd_0242ac1c0002row23_col0\" class=\"data row23 col0\" >Brazil</td>\n",
              "                        <td id=\"T_f4e1e13e_c30e_11ea_9dcd_0242ac1c0002row23_col1\" class=\"data row23 col1\" >1988</td>\n",
              "                        <td id=\"T_f4e1e13e_c30e_11ea_9dcd_0242ac1c0002row23_col2\" class=\"data row23 col2\" >female</td>\n",
              "                        <td id=\"T_f4e1e13e_c30e_11ea_9dcd_0242ac1c0002row23_col3\" class=\"data row23 col3\" >5-14 years</td>\n",
              "                        <td id=\"T_f4e1e13e_c30e_11ea_9dcd_0242ac1c0002row23_col4\" class=\"data row23 col4\" >25</td>\n",
              "                        <td id=\"T_f4e1e13e_c30e_11ea_9dcd_0242ac1c0002row23_col5\" class=\"data row23 col5\" >16712381</td>\n",
              "            </tr>\n",
              "            <tr>\n",
              "                        <th id=\"T_f4e1e13e_c30e_11ea_9dcd_0242ac1c0002level0_row24\" class=\"row_heading level0 row24\" >4225</th>\n",
              "                        <td id=\"T_f4e1e13e_c30e_11ea_9dcd_0242ac1c0002row24_col0\" class=\"data row24 col0\" >Brazil</td>\n",
              "                        <td id=\"T_f4e1e13e_c30e_11ea_9dcd_0242ac1c0002row24_col1\" class=\"data row24 col1\" >1989</td>\n",
              "                        <td id=\"T_f4e1e13e_c30e_11ea_9dcd_0242ac1c0002row24_col2\" class=\"data row24 col2\" >female</td>\n",
              "                        <td id=\"T_f4e1e13e_c30e_11ea_9dcd_0242ac1c0002row24_col3\" class=\"data row24 col3\" >75+ years</td>\n",
              "                        <td id=\"T_f4e1e13e_c30e_11ea_9dcd_0242ac1c0002row24_col4\" class=\"data row24 col4\" >44</td>\n",
              "                        <td id=\"T_f4e1e13e_c30e_11ea_9dcd_0242ac1c0002row24_col5\" class=\"data row24 col5\" >1090428</td>\n",
              "            </tr>\n",
              "    </tbody></table>"
            ],
            "text/plain": [
              "<pandas.io.formats.style.Styler at 0x7fdd68338b70>"
            ]
          },
          "metadata": {
            "tags": []
          },
          "execution_count": 49
        }
      ]
    },
    {
      "cell_type": "code",
      "metadata": {
        "id": "7iAK1sdf6pLe",
        "colab_type": "code",
        "colab": {
          "base_uri": "https://localhost:8080/",
          "height": 369
        },
        "outputId": "2229f3e3-7d6d-4ead-bc2c-b45b1adaa7ca"
      },
      "source": [
        "sns.catplot(x=\"numero_de_suicidios\", y=\"idade\",palette='plasma', kind='bar',\n",
        "           data= dados_mulheres_brasileiras)"
      ],
      "execution_count": 33,
      "outputs": [
        {
          "output_type": "display_data",
          "data": {
            "image/png": "[encoded data removed]",
            "text/plain": [
              "<Figure size 360x360 with 1 Axes>"
            ]
          },
          "metadata": {
            "tags": [],
            "needs_background": "light"
          }
        }
      ]
    },
    {
      "cell_type": "code",
      "metadata": {
        "id": "ICiO7H9BRLTB",
        "colab_type": "code",
        "colab": {}
      },
      "source": [
        ""
      ],
      "execution_count": null,
      "outputs": []
    }
  ]
}